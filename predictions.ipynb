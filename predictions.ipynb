{
 "cells": [
  {
   "cell_type": "code",
   "execution_count": 189,
   "metadata": {},
   "outputs": [],
   "source": [
    "import json\n",
    "from collections import Counter\n",
    "\n",
    "class Deck:\n",
    "    def __init__(self, info):\n",
    "        self.name = info['deckName'][0]\n",
    "        self.hero = info['hero'][0]\n",
    "        self.cards = Counter()\n",
    "        for name, [count] in info['cards'].items():\n",
    "            self.cards[name] = count\n",
    "\n",
    "training_path = 'data/trainingDecks.json'\n",
    "test_path = 'data/testDecks.json'\n",
    "            \n",
    "def get_decks_dict(path):\n",
    "    decks_dict = dict()    \n",
    "    \n",
    "    with open(path, 'r') as decks:\n",
    "        for line in decks.readlines():\n",
    "            json_info = json.loads(line)\n",
    "            decks_dict[json_info['deckName'][0]] = Deck(json_info)\n",
    "    return decks_dict\n",
    "\n",
    "training_decks = get_decks_dict(training_path)\n",
    "test_decks = get_decks_dict(test_path)"
   ]
  },
  {
   "cell_type": "code",
   "execution_count": 190,
   "metadata": {},
   "outputs": [
    {
     "name": "stdout",
     "output_type": "stream",
     "text": [
      "         id bot1       deck1 bot2       deck2  result\n",
      "0  100001.0   A1  deck113225   A1  deck731599       0\n",
      "1  100002.0   A1  deck694943   A1  deck929572       1\n",
      "2  100003.0   A1  deck182567   A1  deck525929       0\n",
      "3  100004.0   A1  deck219364   A1  deck757429       1\n",
      "4  100005.0   A1  deck826229   A1  deck337123       1\n",
      "299680\n"
     ]
    }
   ],
   "source": [
    "import pandas as pd\n",
    "training_games = pd.read_csv('data/training_games.csv', delimiter=';', \n",
    "                             names=['id', 'bot1', 'deck1', 'bot2', 'deck2', 'result'])\n",
    "training_games['result'] = training_games['result'] == 'PLAYER_1 WON'\n",
    "training_games['result'] = training_games['result'].astype(int)\n",
    "print(training_games.head())\n",
    "print(len(training_games))"
   ]
  },
  {
   "cell_type": "code",
   "execution_count": 191,
   "metadata": {},
   "outputs": [
    {
     "name": "stdout",
     "output_type": "stream",
     "text": [
      "{'Warrior', 'Druid', 'Priest', 'Rogue', 'Paladin', 'Hunter', 'Mage', 'Warlock', 'Shaman'}\n"
     ]
    }
   ],
   "source": [
    "heros = {deck.hero for deck in training_decks.values()}\n",
    "print(heros)"
   ]
  },
  {
   "cell_type": "markdown",
   "metadata": {},
   "source": [
    "### Let's look at the cards"
   ]
  },
  {
   "cell_type": "code",
   "execution_count": 192,
   "metadata": {},
   "outputs": [
    {
     "name": "stdout",
     "output_type": "stream",
     "text": [
      "{'Warrior', 'Druid', 'Priest', 'Rogue', 'Hunter', 'Paladin', 'Mage', 'Warlock', 'Shaman'}\n"
     ]
    }
   ],
   "source": [
    "test_heros = {deck.hero for deck in test_decks.values()}\n",
    "print(test_heros)"
   ]
  },
  {
   "cell_type": "code",
   "execution_count": 197,
   "metadata": {},
   "outputs": [],
   "source": [
    "train_cards = set()\n",
    "test_cards = set()\n",
    "for deck in training_decks.values():\n",
    "    train_cards.update(deck.cards.keys())\n",
    "\n",
    "for deck in test_decks.values():\n",
    "    test_cards.update(deck.cards.keys())"
   ]
  },
  {
   "cell_type": "code",
   "execution_count": 198,
   "metadata": {},
   "outputs": [
    {
     "name": "stdout",
     "output_type": "stream",
     "text": [
      "{'Dark Pact', 'Cornered Sentry', 'Innervate', 'Shadow Word: Death', 'Nourish', 'Mortal Coil', 'Divine Spirit', 'Glacial Shard', 'Vilespine Slayer', 'Booty Bay Bodyguard', 'Harrison Jones', 'Captured Jormungar', 'Mirror Entity', 'Holy Light', 'Bite', 'Jungle Panther', 'Divine Favor', 'Darkshire Councilman', 'King Mukla', 'Assassinate', 'Kirin Tor Mage', 'Arcane Blast', 'Murloc Tidecaller', 'Blessing of Kings', 'Malfurion the Pestilent', 'Silent Knight', 'Blowgill Sniper', 'Vulgar Homunculus', 'Rockpool Hunter', 'Explosive Runes', 'Volcanic Potion', 'Dragonfire Potion', 'Brawl', 'Puddlestomper', 'Grimscale Oracle', 'Coldlight Seer', 'Twilight Drake', 'Ultimate Infestation', 'Drain Soul', 'Abyssal Enforcer', 'Elven Archer', 'Azure Drake', 'Vilefin Inquisitor', 'Duskboar', 'Ironwood Golem', 'Patches the Pirate', 'Coldlight Oracle', 'Southsea Deckhand', 'Lost Tallstrider', 'Southsea Captain', 'Starfire', \"Mogu'shan Warden\", 'Houndmaster', 'Truesilver Champion', 'Raid Leader', 'Gnomish Inventor', 'Repentance', 'Frostwolf Grunt', 'Stormwind Champion', 'Blood Razor', 'Jade Claws', 'Jade Spirit', 'Evil Heckler', 'Bilefin Tidehunter', 'Moonfire', 'Worgen Infiltrator', 'Rallying Blade', 'Flamestrike', 'Shield Block', 'Holy Smite', 'Twisting Nether', 'Deadly Poison', 'Argent Squire', 'Druid of the Fang', 'Gurubashi Berserker', 'Consecration', 'Mountain Giant', 'Ice Rager', 'Primordial Glyph', 'Spellbender', 'Wrath', 'Mana Tide Totem', 'Tournament Attendee', 'Fen Creeper', 'Kill Command', 'Aluneth', 'Enchanted Raven', 'Unidentified Maul', 'Faerie Dragon', 'Tainted Zealot', 'Wild Growth', 'Healing Rain', 'Frostbolt', 'Astral Communion', 'Magma Rager', 'Mistress of Mixtures', 'Stonetusk Boar', 'Twisted Worgen', 'Fireball', 'Voodoo Doctor', 'Chillwind Yeti', 'Doomguard', 'Netherspite Historian', 'Prince Keleseth', 'Fandral Staghelm', 'Cobalt Scalebane', 'Mana Wyrm', 'Mark of the Wild', 'Primordial Drake', 'Nightblade', 'Ravenholdt Assassin', 'Argent Horserider', 'Goldshire Footman', \"Dead Man's Hand\", 'Duskbreaker', 'Oaken Summons', 'Kobold Librarian', 'Fan of Knives', 'Murloc Tidehunter', 'Guardian of Kings', 'Dirty Rat', 'Fiery War Axe', 'Holy Nova', 'Ethereal Arcanist', 'Bash', 'Armorsmith', 'Crystal Lion', 'Sap', \"Sorcerer's Apprentice\", 'Arcane Explosion', 'Kabal Crystal Runner', 'Novice Engineer', 'Backstab', 'Swipe', 'Bloodsail Corsair', 'Acidic Swamp Ooze', 'Timber Wolf', 'Rockbiter Weapon', 'Lightning Bolt', 'Bonemare', 'Kalimos, Primal Lord', 'Bloodmage Thalnos', 'Dalaran Mage', 'Druid of the Claw', 'Acolyte of Pain', 'Loot Hoarder', \"Assassin's Blade\", 'Spreading Plague', 'Multi-Shot', 'Book Wyrm', 'Warsong Commander', 'Spikeridged Steed', 'Arcanologist', \"Malchezaar's Imp\", 'Arcanite Reaper', 'Wolfrider', 'Bloodlust', 'Shadow Visions', 'Archmage', 'SI:7 Agent', 'Blizzard', 'Annoy-o-Tron', 'Evolved Kobold', 'Arcane Missiles', 'Corridor Creeper', 'Freezing Potion', 'Eaglehorn Bow', 'Dire Wolf Alpha', 'Shield Slam', 'Defile', 'Jade Chieftain', 'Jade Lightning', 'Elven Minstrel', 'Firelands Portal', 'Eviscerate', 'Darkshire Librarian', 'Antique Healbot', 'Deadly Shot', 'Bittertide Hydra', 'Ironfur Grizzly', 'Razorfen Hunter', 'Silverback Patriarch', 'Hand of Protection', 'Lord of the Arena', 'Unleash the Hounds', 'Aya Blackpaw', 'Saronite Chain Gang', 'Priest of the Feast', 'Lesser Amethyst Spellstone', 'Water Elemental', 'Grook Fu Master', 'Shadowstep', 'Ironforge Rifleman', 'Hellfire', 'Flame Imp', 'Arcane Intellect', 'Claw', 'Knife Juggler', 'Fierce Monkey', 'Flametongue Totem', 'Frost Nova', 'Frigid Snobold', 'Golakka Crawler', 'Giant Mastodon', 'Acolyte of Agony', 'Grumble, Worldshaker', 'Savannah Highmane', 'Stormwind Knight', 'Carnivorous Cube', \"Skull of the Man'ari\", 'Ironbark Protector', 'Shadow Word: Pain', 'Ancestral Healing', 'Drywhisker Armorer', 'Bluegill Warrior', 'Succubus', 'Arcane Giant', 'Radiant Elemental', 'Hooked Reaver', \"Al'Akir the Windlord\", 'Scourgelord Garrosh', 'Sprint', 'Hammer of Wrath', 'Cleave', 'Felfire Potion', 'Alleycat', 'Oasis Snapjaw', 'Jade Idol', 'Bloodfen Raptor', 'Healing Touch', 'Drakonid Operative', 'Fire Fly', 'Archmage Antonidas', 'Drain Life', 'Fearsome Doomguard', 'Shadow Rager', 'Kabal Talonpriest', 'Hex', 'Despicable Dreadlord', 'Ogre Magi', 'Bearshark', 'Snowchugger', 'Jade Behemoth', 'Jade Blossom', 'Boulderfist Ogre', 'Candleshot', 'Sabretooth Stalker', 'Unidentified Shield', 'Dread Infernal', \"Hunter's Mark\", 'Shieldbearer', 'Leeroy Jenkins', 'Murloc Raider', 'Frostwolf Warlord', 'Reckless Rocketeer', 'Mortal Strike', \"Sen'jin Shieldmasta\", 'Kindly Grandmother', 'Mini-Mage', 'Binding Heal', 'Arcane Shot', 'Spellbreaker', 'Malygos', 'River Crocolisk', 'Tar Creeper', 'Kobold Geomancer', 'Midnight Drake', 'Voidlord', 'Acherus Veteran', 'Murloc Warleader', 'Kabal Lackey', \"Medivh's Valet\", \"Light's Justice\", 'Shattered Sun Cleric', 'Force-Tank MAX', 'Dragonling Mechanic', 'Soulfire', 'Inner Fire', 'Northshire Cleric', 'Grimscale Chum', 'Blazecaller', 'Dire Mole', 'Crystalweaver', 'Faceless Manipulator', 'Edwin VanCleef', 'Stormpike Commando', 'Lost in the Jungle', 'Tundra Rhino', 'Plated Beetle', \"Kor'kron Elite\", 'Greater Healing Potion', 'Mind Control', 'Shiv', 'Psych-o-Tron', 'Squirming Tentacle', 'Flanking Strike', 'Wax Elemental', 'Power Word: Shield', 'Animal Companion', 'Argent Commander', 'Whirlwind', 'Sleep with the Fishes', 'Battle Rage', 'Living Mana', 'Finja, the Flying Star', 'Siphon Soul', 'Mark of the Lotus', 'Call to Arms', 'Execute', 'Skulking Geist', 'Volcano', 'Fire Elemental', 'Lesser Jasper Spellstone', \"Bloodreaver Gul'dan\", 'Shadow Bolt', 'Blessing of Might', 'Prince Taldaram', 'Stand Against Darkness', 'Core Hound', 'Righteous Protector', 'Hot Spring Guardian', 'Sunkeeper Tarim', 'Stegodon', 'Bog Creeper', 'Grotesque Dragonhawk', 'Possessed Lackey', 'Gnomeregan Infantry', 'Mind Blast', 'Darkscale Healer', 'Voidwalker'}\n",
      "{'Dark Pact', 'Cornered Sentry', 'Innervate', 'Shadow Word: Death', 'Nourish', 'Mortal Coil', 'Divine Spirit', 'Glacial Shard', 'Harrison Jones', 'Vilespine Slayer', 'Captured Jormungar', 'Booty Bay Bodyguard', 'Mirror Entity', 'Holy Light', 'Arcane Blast', 'Bite', 'Darkshire Councilman', 'King Mukla', 'Kirin Tor Mage', 'Silent Knight', 'Vulgar Homunculus', 'Blowgill Sniper', 'Murloc Tidecaller', 'Divine Favor', 'Malfurion the Pestilent', 'Blessing of Kings', \"Hunter's Mark\", 'Rockpool Hunter', 'Explosive Runes', 'Doomsayer', 'Volcanic Potion', 'Dragonfire Potion', 'Brawl', 'Puddlestomper', 'Grimscale Oracle', 'Magma Rager', 'Coldlight Seer', 'Twilight Drake', 'Drain Soul', 'Ultimate Infestation', 'Abyssal Enforcer', 'Elven Archer', 'Azure Drake', 'Vilefin Inquisitor', 'Duskboar', 'Ironwood Golem', 'Patches the Pirate', 'Coldlight Oracle', 'Southsea Deckhand', 'Lost Tallstrider', 'Southsea Captain', \"Mogu'shan Warden\", 'Houndmaster', 'Truesilver Champion', 'Raid Leader', 'Gnomish Inventor', 'Repentance', 'Frostwolf Grunt', 'Stormwind Champion', 'Blood Razor', 'Jade Claws', 'Jade Spirit', 'Evil Heckler', 'Moonfire', 'Bilefin Tidehunter', 'Rallying Blade', 'Shield Block', 'Holy Smite', 'Twisting Nether', 'Argent Squire', 'Druid of the Fang', 'Gurubashi Berserker', 'Consecration', 'Mountain Giant', 'Ice Rager', 'Primordial Glyph', 'Wrath', 'Mana Tide Totem', 'Fen Creeper', 'Kill Command', 'Aluneth', 'Faerie Dragon', 'Unidentified Maul', 'Tainted Zealot', 'Wild Growth', 'Healing Rain', 'Frostbolt', 'Polymorph', 'War Golem', 'Hired Gun', 'Blastcrystal Potion', 'Mistress of Mixtures', 'Stonetusk Boar', 'Astral Communion', 'Fireball', 'Voodoo Doctor', 'Chillwind Yeti', 'Doomguard', 'Prince Keleseth', 'Mana Wyrm', 'Netherspite Historian', 'Cobalt Scalebane', 'Fandral Staghelm', 'Primordial Drake', 'Nightblade', 'Ravenholdt Assassin', 'Argent Horserider', 'Goldshire Footman', \"Dead Man's Hand\", 'Duskbreaker', 'Kobold Librarian', 'Oaken Summons', 'Fan of Knives', 'Carrion Grub', 'Guardian of Kings', 'Dirty Rat', 'Murloc Tidehunter', 'Fiery War Axe', 'Ethereal Arcanist', 'Bash', 'Armorsmith', \"Sorcerer's Apprentice\", 'Timber Wolf', 'Sap', 'Kabal Crystal Runner', 'Novice Engineer', 'Backstab', 'Swipe', 'Bloodsail Corsair', 'Acidic Swamp Ooze', 'Arcane Explosion', 'Lightning Bolt', 'Bonemare', 'Dalaran Mage', 'Bloodmage Thalnos', 'Kalimos, Primal Lord', 'Druid of the Claw', 'Acolyte of Pain', 'Loot Hoarder', 'Spreading Plague', 'Warsong Commander', 'Spikeridged Steed', 'Book Wyrm', 'Multi-Shot', 'Arcanologist', \"Malchezaar's Imp\", 'Stormpike Commando', 'Wolfrider', 'Blizzard', 'Archmage', 'Shadow Visions', 'SI:7 Agent', 'Annoy-o-Tron', 'Evolved Kobold', 'Corridor Creeper', 'Heroic Strike', 'Eaglehorn Bow', 'Dire Wolf Alpha', 'Shield Slam', 'Elven Minstrel', 'Firelands Portal', 'Cold Blood', 'Defile', 'Jade Chieftain', 'Jade Lightning', 'Darkshire Librarian', 'Antique Healbot', 'Bittertide Hydra', 'Ironfur Grizzly', 'Razorfen Hunter', 'Hand of Protection', 'Silverback Patriarch', 'Lord of the Arena', 'Fire Plume Harbinger', 'Unleash the Hounds', 'Aya Blackpaw', 'Saronite Chain Gang', 'Priest of the Feast', 'Lesser Amethyst Spellstone', 'Water Elemental', 'Grook Fu Master', 'Shadowstep', 'Ironforge Rifleman', 'Hellfire', 'Flame Imp', 'Arcane Intellect', 'Claw', 'Knife Juggler', 'Flametongue Totem', 'Frost Nova', 'Frigid Snobold', 'Golakka Crawler', 'Acolyte of Agony', 'Grumble, Worldshaker', 'Savannah Highmane', 'Stormwind Knight', 'Carnivorous Cube', \"Skull of the Man'ari\", 'Ironbark Protector', 'Shadow Word: Pain', 'Ancestral Healing', 'Getaway Kodo', 'Drywhisker Armorer', 'Succubus', 'Bluegill Warrior', 'Arcane Giant', 'Radiant Elemental', 'Hooked Reaver', \"Al'Akir the Windlord\", 'Scourgelord Garrosh', 'Hammer of Wrath', 'Cleave', 'Alleycat', 'Eldritch Horror', 'Oasis Snapjaw', 'Frost Shock', 'Jade Idol', 'Bloodfen Raptor', 'Healing Touch', 'Drakonid Operative', 'Fire Fly', 'Archmage Antonidas', 'Primalfin Totem', 'Drain Life', 'Savage Roar', 'Kabal Talonpriest', 'Despicable Dreadlord', 'Ogre Magi', 'Jungle Panther', 'Snowchugger', 'Jade Behemoth', 'Jade Blossom', 'Candleshot', 'Boulderfist Ogre', 'Sabretooth Stalker', 'Unidentified Shield', 'Shieldbearer', 'Leeroy Jenkins', 'Frostwolf Warlord', 'Murloc Raider', 'Binding Heal', 'Kindly Grandmother', 'Mini-Mage', \"Sen'jin Shieldmasta\", 'Mortal Strike', 'Arcane Shot', 'Reckless Rocketeer', 'Spellbreaker', 'River Crocolisk', 'Tar Creeper', 'Kobold Geomancer', 'Voidlord', 'Midnight Drake', 'Acherus Veteran', 'Kabal Lackey', 'Murloc Warleader', \"Medivh's Valet\", \"Light's Justice\", 'Shattered Sun Cleric', 'Force-Tank MAX', 'Dragonling Mechanic', 'Soulfire', 'Blazecaller', 'Dire Mole', 'Tundra Rhino', 'Inner Fire', 'Northshire Cleric', 'Crystalweaver', 'Edwin VanCleef', 'Faceless Manipulator', 'Grimscale Chum', 'Plated Beetle', 'Lost in the Jungle', 'Faceless Behemoth', 'Ice Block', 'Shiv', 'Psych-o-Tron', 'Squirming Tentacle', 'Flanking Strike', 'Wax Elemental', 'Power Word: Shield', 'Animal Companion', 'Argent Commander', 'Battle Rage', 'Sleep with the Fishes', 'Whirlwind', 'Finja, the Flying Star', 'Living Mana', 'Mark of the Lotus', 'Call to Arms', 'Execute', 'Skulking Geist', 'Volcano', 'Felguard', 'Fire Elemental', 'Lesser Jasper Spellstone', \"Bloodreaver Gul'dan\", 'Blessing of Might', 'Prince Taldaram', 'Stand Against Darkness', 'Core Hound', 'Righteous Protector', 'Hot Spring Guardian', 'Sunkeeper Tarim', 'Stegodon', 'Bog Creeper', 'Flying Machine', 'Grotesque Dragonhawk', 'Possessed Lackey', 'Gnomeregan Infantry', 'Crystal Lion', 'Darkscale Healer', 'Voidwalker'}\n"
     ]
    }
   ],
   "source": [
    "print(train_cards)\n",
    "print(test_cards)"
   ]
  },
  {
   "cell_type": "code",
   "execution_count": 221,
   "metadata": {},
   "outputs": [
    {
     "name": "stdout",
     "output_type": "stream",
     "text": [
      "313 330\n"
     ]
    }
   ],
   "source": [
    "print(len(test_cards), len(train_cards))"
   ]
  },
  {
   "cell_type": "code",
   "execution_count": 229,
   "metadata": {},
   "outputs": [
    {
     "name": "stdout",
     "output_type": "stream",
     "text": [
      "295\n"
     ]
    }
   ],
   "source": [
    "all_cards = test_cards.intersection(train_cards)\n",
    "print(len(all_cards))"
   ]
  },
  {
   "cell_type": "code",
   "execution_count": 251,
   "metadata": {},
   "outputs": [
    {
     "name": "stdout",
     "output_type": "stream",
     "text": [
      "  player        deck    result\n",
      "0     A1  deck100087  0.291667\n",
      "1     A1  deck101443  0.276627\n",
      "2     A1  deck102280  0.550613\n",
      "3     A1  deck104259  0.404459\n",
      "4     A1  deck105300  0.397929\n"
     ]
    }
   ],
   "source": [
    "train_df = training_games.get(['bot1', 'deck1', 'result']).rename(index=str, columns={'bot1': 'player', 'deck1': 'deck'})\n",
    "train_df['result'] = 1 - train_df['result']\n",
    "train_df = train_df.append([training_games.get(['bot2', 'deck2', 'result']).rename(index=str, columns={\n",
    "    'bot2': 'player', 'deck2': 'deck'})])\n",
    "train_df = train_df.groupby(['player', 'deck'])['result'].mean()\n",
    "train_df = train_df.reset_index()\n",
    "print(train_df.head())"
   ]
  },
  {
   "cell_type": "markdown",
   "metadata": {},
   "source": [
    "### Card names one hot encoding"
   ]
  },
  {
   "cell_type": "code",
   "execution_count": 485,
   "metadata": {},
   "outputs": [],
   "source": [
    "def intersect_with_test_cards(cards_dict):\n",
    "    keys = test_cards.intersection(cards_dict)\n",
    "    return {k:cards_dict[k] for k in keys} "
   ]
  },
  {
   "cell_type": "code",
   "execution_count": 486,
   "metadata": {},
   "outputs": [],
   "source": [
    "from sklearn.feature_extraction import DictVectorizer\n",
    "v = DictVectorizer(sparse=False)\n",
    "D = [deck.cards for deck in training_decks.values()]\n",
    "X = v.fit_transform(D)"
   ]
  },
  {
   "cell_type": "code",
   "execution_count": 487,
   "metadata": {},
   "outputs": [],
   "source": [
    "heros_arr = np.zeros((len(train_df['deck']), len(test_heros)))\n",
    "\n",
    "for i, deck_name in enumerate(train_df['deck']):\n",
    "    for j, hero in enumerate(test_heros):\n",
    "        heros_arr[i, j] = training_decks[deck_name].hero == hero"
   ]
  },
  {
   "cell_type": "code",
   "execution_count": 488,
   "metadata": {},
   "outputs": [],
   "source": [
    "import numpy as np\n",
    "\n",
    "players = ['A1', 'A2', 'B1', 'B2']\n",
    "\n",
    "players_features = [(train_df['player'] == pl).as_matrix() for pl in players]\n",
    "cards_count = np.array([sum(training_decks[deck_name].cards.values()) for deck_name in train_df['deck']])\n",
    "\n",
    "x = np.array([v.transform(training_decks[deck_name].cards)[0] for deck_name in train_df['deck']])"
   ]
  },
  {
   "cell_type": "markdown",
   "metadata": {},
   "source": [
    "### Let's get some statistics for each card"
   ]
  },
  {
   "cell_type": "code",
   "execution_count": 489,
   "metadata": {},
   "outputs": [],
   "source": [
    "card_stats = json.load(open('data/cards.json', 'r'))\n",
    "json.dump(card_stats, open('data/formatted_cards.json', 'w'), indent=4)"
   ]
  },
  {
   "cell_type": "code",
   "execution_count": 490,
   "metadata": {},
   "outputs": [],
   "source": [
    "card_stats = [stat for stat in card_stats if 'name' in stat]"
   ]
  },
  {
   "cell_type": "code",
   "execution_count": 491,
   "metadata": {},
   "outputs": [],
   "source": [
    "stats_dict = {stat['name']:stat for stat in card_stats}"
   ]
  },
  {
   "cell_type": "code",
   "execution_count": 492,
   "metadata": {},
   "outputs": [],
   "source": [
    "from collections import Counter\n",
    "\n",
    "def aggregate_results(feature, fun):\n",
    "    counter = Counter()\n",
    "\n",
    "    for stat in stats_dict.values():\n",
    "        if feature in stat:\n",
    "            counter[stat['name']] = stat[feature]\n",
    "    \n",
    "    def total_val(deck):\n",
    "        total = 0\n",
    "        cards = []\n",
    "        for card, count in deck.cards.items():\n",
    "            cards += [card] * count\n",
    "        cards = [stats_dict[card].get(feature, 0) for card in cards]\n",
    "        return fun(cards)\n",
    "\n",
    "    return np.array([total_val(training_decks[deck_name]) for deck_name in train_df['deck']])"
   ]
  },
  {
   "cell_type": "code",
   "execution_count": 493,
   "metadata": {},
   "outputs": [
    {
     "name": "stdout",
     "output_type": "stream",
     "text": [
      "(20, 1600)\n"
     ]
    }
   ],
   "source": [
    "card_features = ['cost', 'attack', 'health', 'durability', 'armor']\n",
    "functions = [np.mean, np.median, np.var, np.max]\n",
    "\n",
    "features_x = []\n",
    "for feature in card_features:\n",
    "    for fun in functions:\n",
    "        features_x.append(aggregate_results(feature, fun))\n",
    "features_x = np.array(features_x)\n",
    "print(features_x.shape)"
   ]
  },
  {
   "cell_type": "code",
   "execution_count": 503,
   "metadata": {},
   "outputs": [
    {
     "name": "stdout",
     "output_type": "stream",
     "text": [
      "(1600, 20)\n",
      "(1600, 9)\n",
      "(1600, 4)\n",
      "(1600, 330)\n"
     ]
    }
   ],
   "source": [
    "print(features_x.T.shape)\n",
    "print(heros_arr.shape)\n",
    "print(players_x.shape)\n",
    "print(x.shape)"
   ]
  },
  {
   "cell_type": "code",
   "execution_count": 504,
   "metadata": {},
   "outputs": [],
   "source": [
    "players_x = np.stack(players_features).T\n",
    "cards_count_x = np.reshape(cards_count, (len(cards_count), 1))\n",
    "\n",
    "collectible_ratio = np.reshape(collectible_ratio, (len(collectible_ratio), 1))\n",
    "\n",
    "X = np.concatenate([x, players_x, features_x.T, heros_arr], axis=1)\n",
    "y = train_df['result'].as_matrix()"
   ]
  },
  {
   "cell_type": "code",
   "execution_count": 505,
   "metadata": {},
   "outputs": [
    {
     "name": "stdout",
     "output_type": "stream",
     "text": [
      "(1600, 363)\n",
      "(1600,)\n"
     ]
    }
   ],
   "source": [
    "print(X.shape)\n",
    "print(y.shape)"
   ]
  },
  {
   "cell_type": "markdown",
   "metadata": {},
   "source": [
    "**shufflujemy dataset**"
   ]
  },
  {
   "cell_type": "code",
   "execution_count": 506,
   "metadata": {},
   "outputs": [],
   "source": [
    "import random\n",
    "indices = random.sample(range(len(y)), len(y))\n",
    "X = X[indices]\n",
    "y = y[indices]\n",
    "y *= 100"
   ]
  },
  {
   "cell_type": "code",
   "execution_count": 508,
   "metadata": {},
   "outputs": [
    {
     "name": "stdout",
     "output_type": "stream",
     "text": [
      "Fitting 8 folds for each of 10 candidates, totalling 80 fits\n",
      "[CV] gamma=0.02, epsilon=0.02, C=300 .................................\n",
      "[CV] gamma=0.02, epsilon=0.02, C=300 .................................\n",
      "[CV] gamma=0.02, epsilon=0.02, C=300 .................................\n",
      "[CV] gamma=0.02, epsilon=0.02, C=300 .................................\n",
      "[CV] gamma=0.02, epsilon=0.02, C=300 .................................\n",
      "[CV] gamma=0.02, epsilon=0.02, C=300 .................................\n",
      "[CV] gamma=0.02, epsilon=0.02, C=300 .................................\n",
      "[CV]  gamma=0.02, epsilon=0.02, C=300, score=-13.20704887871073, total=   3.0s\n",
      "[CV] gamma=0.02, epsilon=0.02, C=300 .................................\n",
      "[CV]  gamma=0.02, epsilon=0.02, C=300, score=-16.239290257880857, total=   3.3s\n",
      "[CV] gamma=0.001, epsilon=0.01, C=400 ................................\n",
      "[CV]  gamma=0.02, epsilon=0.02, C=300, score=-13.670829048545729, total=   3.4s\n",
      "[CV] gamma=0.001, epsilon=0.01, C=400 ................................\n",
      "[CV]  gamma=0.02, epsilon=0.02, C=300, score=-14.851748188698762, total=   3.5s\n",
      "[CV] gamma=0.001, epsilon=0.01, C=400 ................................\n",
      "[CV]  gamma=0.02, epsilon=0.02, C=300, score=-14.537091186562762, total=   3.6s\n",
      "[CV] gamma=0.001, epsilon=0.01, C=400 ................................\n"
     ]
    },
    {
     "name": "stderr",
     "output_type": "stream",
     "text": [
      "[Parallel(n_jobs=7)]: Done   4 tasks      | elapsed:    5.9s\n"
     ]
    },
    {
     "name": "stdout",
     "output_type": "stream",
     "text": [
      "[CV]  gamma=0.02, epsilon=0.02, C=300, score=-14.800133165181627, total=   3.7s\n",
      "[CV] gamma=0.001, epsilon=0.01, C=400 ................................\n",
      "[CV]  gamma=0.02, epsilon=0.02, C=300, score=-15.639428148166163, total=   3.7s\n",
      "[CV] gamma=0.001, epsilon=0.01, C=400 ................................\n",
      "[CV]  gamma=0.001, epsilon=0.01, C=400, score=-19.60524521874816, total=   3.0s\n",
      "[CV] gamma=0.001, epsilon=0.01, C=400 ................................\n",
      "[CV]  gamma=0.001, epsilon=0.01, C=400, score=-15.59059177498402, total=   2.9s\n",
      "[CV] gamma=0.001, epsilon=0.01, C=400 ................................\n",
      "[CV]  gamma=0.001, epsilon=0.01, C=400, score=-14.451124621185832, total=   2.7s\n",
      "[CV] gamma=auto, epsilon=0.005, C=1300 ...............................\n",
      "[CV]  gamma=0.02, epsilon=0.02, C=300, score=-13.281523952863187, total=   3.6s\n",
      "[CV] gamma=auto, epsilon=0.005, C=1300 ...............................\n",
      "[CV]  gamma=0.001, epsilon=0.01, C=400, score=-15.11218038361037, total=   2.8s\n",
      "[CV] gamma=auto, epsilon=0.005, C=1300 ...............................\n",
      "[CV]  gamma=0.001, epsilon=0.01, C=400, score=-13.782952718454903, total=   2.6s\n",
      "[CV] gamma=auto, epsilon=0.005, C=1300 ...............................\n",
      "[CV]  gamma=0.001, epsilon=0.01, C=400, score=-16.14332291657524, total=   3.0s\n",
      "[CV] gamma=auto, epsilon=0.005, C=1300 ...............................\n",
      "[CV]  gamma=0.001, epsilon=0.01, C=400, score=-12.630398328181618, total=   2.7s\n",
      "[CV] gamma=auto, epsilon=0.005, C=1300 ...............................\n",
      "[CV]  gamma=0.001, epsilon=0.01, C=400, score=-17.4040873927815, total=   2.9s\n",
      "[CV] gamma=auto, epsilon=0.005, C=1300 ...............................\n",
      "[CV]  gamma=auto, epsilon=0.005, C=1300, score=-14.926036135954798, total=   3.4s\n",
      "[CV]  gamma=auto, epsilon=0.005, C=1300, score=-13.944354772531238, total=   3.4s\n",
      "[CV] gamma=auto, epsilon=0.005, C=1300 ...............................\n",
      "[CV] gamma=0.0005, epsilon=0.02, C=600 ...............................\n",
      "[CV]  gamma=auto, epsilon=0.005, C=1300, score=-12.018114824794303, total=   3.4s\n",
      "[CV] gamma=0.0005, epsilon=0.02, C=600 ...............................\n",
      "[CV]  gamma=auto, epsilon=0.005, C=1300, score=-13.320318854431402, total=   2.9s\n",
      "[CV] gamma=0.0005, epsilon=0.02, C=600 ...............................\n",
      "[CV]  gamma=auto, epsilon=0.005, C=1300, score=-13.296802040886297, total=   3.4s\n",
      "[CV] gamma=0.0005, epsilon=0.02, C=600 ...............................\n",
      "[CV]  gamma=auto, epsilon=0.005, C=1300, score=-12.978099108605697, total=   3.8s\n",
      "[CV] gamma=0.0005, epsilon=0.02, C=600 ...............................\n",
      "[CV]  gamma=auto, epsilon=0.005, C=1300, score=-14.625465551946066, total=   3.5s\n",
      "[CV] gamma=0.0005, epsilon=0.02, C=600 ...............................\n",
      "[CV]  gamma=0.0005, epsilon=0.02, C=600, score=-20.019477796909676, total=   3.0s\n",
      "[CV] gamma=0.0005, epsilon=0.02, C=600 ...............................\n",
      "[CV]  gamma=0.0005, epsilon=0.02, C=600, score=-16.78810016455999, total=   3.1s\n",
      "[CV] gamma=0.0005, epsilon=0.02, C=600 ...............................\n",
      "[CV]  gamma=0.0005, epsilon=0.02, C=600, score=-16.457853232499453, total=   3.0s\n",
      "[CV] gamma=0.0005, epsilon=0.02, C=900 ...............................\n",
      "[CV]  gamma=0.0005, epsilon=0.02, C=600, score=-16.306782575001076, total=   2.9s\n",
      "[CV] gamma=0.0005, epsilon=0.02, C=900 ...............................\n",
      "[CV]  gamma=auto, epsilon=0.005, C=1300, score=-12.741580978424704, total=   4.2s\n",
      "[CV] gamma=0.0005, epsilon=0.02, C=900 ...............................\n",
      "[CV]  gamma=0.0005, epsilon=0.02, C=600, score=-17.87056381556775, total=   3.2s\n",
      "[CV] gamma=0.0005, epsilon=0.02, C=900 ...............................\n",
      "[CV]  gamma=0.0005, epsilon=0.02, C=600, score=-14.951569626924389, total=   3.3s\n",
      "[CV] gamma=0.0005, epsilon=0.02, C=900 ...............................\n",
      "[CV]  gamma=0.0005, epsilon=0.02, C=600, score=-18.790623195619332, total=   3.0s\n",
      "[CV] gamma=0.0005, epsilon=0.02, C=900 ...............................\n",
      "[CV]  gamma=0.0005, epsilon=0.02, C=600, score=-13.663139327859936, total=   2.9s\n",
      "[CV] gamma=0.0005, epsilon=0.02, C=900 ...............................\n",
      "[CV]  gamma=0.0005, epsilon=0.02, C=900, score=-19.02568730448487, total=   3.0s\n",
      "[CV] gamma=0.0005, epsilon=0.02, C=900 ...............................\n",
      "[CV]  gamma=0.0005, epsilon=0.02, C=900, score=-16.139957958304127, total=   3.1s\n",
      "[CV] gamma=0.02, epsilon=0.02, C=700 .................................\n",
      "[CV]  gamma=0.0005, epsilon=0.02, C=900, score=-15.310093152485196, total=   2.9s\n",
      "[CV] gamma=0.02, epsilon=0.02, C=700 .................................\n",
      "[CV]  gamma=0.0005, epsilon=0.02, C=900, score=-15.8324104611189, total=   3.1s\n",
      "[CV] gamma=0.02, epsilon=0.02, C=700 .................................\n",
      "[CV]  gamma=0.0005, epsilon=0.02, C=900, score=-17.292093774665048, total=   3.0s\n",
      "[CV] gamma=0.02, epsilon=0.02, C=700 .................................\n",
      "[CV]  gamma=0.0005, epsilon=0.02, C=900, score=-14.213015289073391, total=   2.9s\n",
      "[CV] gamma=0.02, epsilon=0.02, C=700 .................................\n",
      "[CV]  gamma=0.0005, epsilon=0.02, C=900, score=-17.92467962875701, total=   2.9s\n",
      "[CV] gamma=0.02, epsilon=0.02, C=700 .................................\n",
      "[CV]  gamma=0.0005, epsilon=0.02, C=900, score=-13.223891464212288, total=   2.8s\n",
      "[CV] gamma=0.02, epsilon=0.02, C=700 .................................\n",
      "[CV]  gamma=0.02, epsilon=0.02, C=700, score=-16.947857184432674, total=   4.3s\n",
      "[CV] gamma=0.02, epsilon=0.02, C=700 .................................\n",
      "[CV]  gamma=0.02, epsilon=0.02, C=700, score=-14.499261501560234, total=   4.0s\n",
      "[CV] gamma=0.01, epsilon=0.1, C=200 ..................................\n",
      "[CV]  gamma=0.02, epsilon=0.02, C=700, score=-16.208497335012094, total=   4.2s\n",
      "[CV] gamma=0.01, epsilon=0.1, C=200 ..................................\n",
      "[CV]  gamma=0.02, epsilon=0.02, C=700, score=-14.484625097123196, total=   4.2s\n",
      "[CV] gamma=0.01, epsilon=0.1, C=200 ..................................\n",
      "[CV]  gamma=0.02, epsilon=0.02, C=700, score=-16.514993265159188, total=   4.3s\n",
      "[CV] gamma=0.01, epsilon=0.1, C=200 ..................................\n",
      "[CV]  gamma=0.02, epsilon=0.02, C=700, score=-16.057114950155945, total=   4.0s\n",
      "[CV] gamma=0.01, epsilon=0.1, C=200 ..................................\n",
      "[CV]  gamma=0.02, epsilon=0.02, C=700, score=-15.746430646704116, total=   4.1s\n",
      "[CV] gamma=0.01, epsilon=0.1, C=200 ..................................\n",
      "[CV]  gamma=0.01, epsilon=0.1, C=200, score=-15.92356402794108, total=   2.2s\n",
      "[CV] gamma=0.01, epsilon=0.1, C=200 ..................................\n",
      "[CV]  gamma=0.02, epsilon=0.02, C=700, score=-14.469382435806827, total=   3.5s\n",
      "[CV] gamma=0.01, epsilon=0.1, C=200 ..................................\n",
      "[CV]  gamma=0.01, epsilon=0.1, C=200, score=-13.13597842546059, total=   3.0s\n",
      "[CV] gamma=0.01, epsilon=0.05, C=1100 ................................\n",
      "[CV]  gamma=0.01, epsilon=0.1, C=200, score=-12.015561416926936, total=   3.1s\n",
      "[CV] gamma=0.01, epsilon=0.05, C=1100 ................................\n",
      "[CV]  gamma=0.01, epsilon=0.1, C=200, score=-13.431495043894417, total=   3.1s\n",
      "[CV] gamma=0.01, epsilon=0.05, C=1100 ................................\n",
      "[CV]  gamma=0.01, epsilon=0.1, C=200, score=-12.952407335355325, total=   3.3s\n",
      "[CV] gamma=0.01, epsilon=0.05, C=1100 ................................\n",
      "[CV]  gamma=0.01, epsilon=0.1, C=200, score=-13.596100201306506, total=   3.2s\n",
      "[CV] gamma=0.01, epsilon=0.05, C=1100 ................................\n",
      "[CV]  gamma=0.01, epsilon=0.1, C=200, score=-14.976515926306782, total=   3.1s\n",
      "[CV] gamma=0.01, epsilon=0.05, C=1100 ................................\n",
      "[CV]  gamma=0.01, epsilon=0.1, C=200, score=-12.607017860884271, total=   2.8s\n",
      "[CV] gamma=0.01, epsilon=0.05, C=1100 ................................\n",
      "[CV]  gamma=0.01, epsilon=0.05, C=1100, score=-15.620649969667566, total=   4.5s\n",
      "[CV] gamma=0.01, epsilon=0.05, C=1100 ................................\n",
      "[CV]  gamma=0.01, epsilon=0.05, C=1100, score=-13.294249051648912, total=   4.4s\n",
      "[CV] gamma=0.02, epsilon=0.02, C=1000 ................................\n"
     ]
    },
    {
     "name": "stderr",
     "output_type": "stream",
     "text": [
      "[Parallel(n_jobs=7)]: Done  58 tasks      | elapsed:   50.2s\n"
     ]
    },
    {
     "name": "stdout",
     "output_type": "stream",
     "text": [
      "[CV]  gamma=0.01, epsilon=0.05, C=1100, score=-14.000482409058787, total=   4.4s\n",
      "[CV] gamma=0.02, epsilon=0.02, C=1000 ................................\n",
      "[CV]  gamma=0.01, epsilon=0.05, C=1100, score=-13.713877725454427, total=   4.4s\n",
      "[CV] gamma=0.02, epsilon=0.02, C=1000 ................................\n",
      "[CV]  gamma=0.01, epsilon=0.05, C=1100, score=-14.982829453659711, total=   4.5s\n",
      "[CV] gamma=0.02, epsilon=0.02, C=1000 ................................\n",
      "[CV]  gamma=0.01, epsilon=0.05, C=1100, score=-14.5187764829874, total=   4.4s\n",
      "[CV] gamma=0.02, epsilon=0.02, C=1000 ................................\n",
      "[CV]  gamma=0.01, epsilon=0.05, C=1100, score=-15.59660513538507, total=   4.1s\n",
      "[CV] gamma=0.02, epsilon=0.02, C=1000 ................................\n",
      "[CV]  gamma=0.01, epsilon=0.05, C=1100, score=-13.379803793136361, total=   6.6s\n",
      "[CV] gamma=0.02, epsilon=0.02, C=1000 ................................\n",
      "[CV]  gamma=0.02, epsilon=0.02, C=1000, score=-17.643529726102294, total=   6.5s\n",
      "[CV] gamma=0.02, epsilon=0.02, C=1000 ................................\n",
      "[CV]  gamma=0.02, epsilon=0.02, C=1000, score=-15.14922710531997, total=   6.8s\n",
      "[CV] gamma=0.01, epsilon=0.1, C=600 ..................................\n",
      "[CV]  gamma=0.02, epsilon=0.02, C=1000, score=-15.121517986728058, total=   6.3s\n",
      "[CV] gamma=0.01, epsilon=0.1, C=600 ..................................\n",
      "[CV]  gamma=0.02, epsilon=0.02, C=1000, score=-16.939904068880388, total=   6.4s\n",
      "[CV] gamma=0.01, epsilon=0.1, C=600 ..................................\n",
      "[CV]  gamma=0.02, epsilon=0.02, C=1000, score=-16.309358760323047, total=   6.2s\n",
      "[CV] gamma=0.01, epsilon=0.1, C=600 ..................................\n",
      "[CV]  gamma=0.02, epsilon=0.02, C=1000, score=-16.967312190619865, total=   7.0s\n",
      "[CV] gamma=0.01, epsilon=0.1, C=600 ..................................\n",
      "[CV]  gamma=0.02, epsilon=0.02, C=1000, score=-16.609900298989313, total=   4.6s\n",
      "[CV] gamma=0.01, epsilon=0.1, C=600 ..................................\n",
      "[CV]  gamma=0.02, epsilon=0.02, C=1000, score=-14.843739039777022, total=   4.5s\n",
      "[CV] gamma=0.01, epsilon=0.1, C=600 ..................................\n",
      "[CV]  gamma=0.01, epsilon=0.1, C=600, score=-14.983214711311609, total=   4.1s\n",
      "[CV]  gamma=0.01, epsilon=0.1, C=600, score=-12.90006748100564, total=   3.9s\n",
      "[CV] gamma=0.01, epsilon=0.1, C=600 ..................................\n",
      "[CV]  gamma=0.01, epsilon=0.1, C=600, score=-13.205143079328122, total=   4.1s\n",
      "[CV]  gamma=0.01, epsilon=0.1, C=600, score=-13.561509077076307, total=   4.2s\n",
      "[CV]  gamma=0.01, epsilon=0.1, C=600, score=-14.042734368461302, total=   4.2s\n",
      "[CV]  gamma=0.01, epsilon=0.1, C=600, score=-14.238752369095739, total=   3.2s\n",
      "[CV]  gamma=0.01, epsilon=0.1, C=600, score=-15.154420087610951, total=   3.1s\n",
      "[CV]  gamma=0.01, epsilon=0.1, C=600, score=-12.934491907136847, total=   2.5s\n"
     ]
    },
    {
     "name": "stderr",
     "output_type": "stream",
     "text": [
      "[Parallel(n_jobs=7)]: Done  80 out of  80 | elapsed:  1.2min finished\n"
     ]
    },
    {
     "name": "stdout",
     "output_type": "stream",
     "text": [
      "3.6716953214348833\n",
      "{'gamma': 'auto', 'epsilon': 0.005, 'C': 1300}\n"
     ]
    }
   ],
   "source": [
    "from sklearn.linear_model import LinearRegression, Ridge, LogisticRegression\n",
    "from sklearn.ensemble import RandomForestRegressor, GradientBoostingRegressor\n",
    "from sklearn.neighbors import KNeighborsRegressor\n",
    "from sklearn.svm import SVR, LinearSVR\n",
    "from sklearn.model_selection import GridSearchCV, RandomizedSearchCV\n",
    "from sklearn.preprocessing import PolynomialFeatures\n",
    "from sklearn.linear_model import BayesianRidge\n",
    "\n",
    "clf = SVR(gamma=0.001, epsilon=0.1, C=100)\n",
    "gb = GradientBoostingRegressor()\n",
    "gb_params = {'learning_rate': [0.05, 0.1, 0.5, 0.8, 0.9, 1, 1.1, 1.2],\n",
    "            'max_depth': [2, 3, 4],\n",
    "            #'criterion': ['friedman_mse', 'mse'],\n",
    "            'max_features': [None, 'sqrt']}\n",
    "\n",
    "parameters = {'C': np.arange(1, 15) * 100, \n",
    "              'gamma': ['auto', 0.0005, 0.001, 0.005, 0.01, 0.02],\n",
    "              'epsilon': [0.005, 0.01, 0.02, 0.05, 0.1]\n",
    "             }\n",
    "bagging = BaggingRegressor(SVR(gamma='auto', epsilon=0.005, C=1300))\n",
    "grid_clf = RandomizedSearchCV(clf, parameters, scoring='neg_mean_squared_error', cv=8, verbose=5, n_jobs=7)\n",
    "grid_clf = grid_clf.fit(X, y)\n",
    "print(np.sqrt(-grid_clf.best_score_))\n",
    "print(grid_clf.best_params_)"
   ]
  },
  {
   "cell_type": "code",
   "execution_count": 451,
   "metadata": {},
   "outputs": [],
   "source": [
    "import math\n",
    "\n",
    "def reduce(x):\n",
    "    x = np.array([max(val, 0) for val in x])\n",
    "    return np.array([min(val, 100) for val in x])"
   ]
  },
  {
   "cell_type": "code",
   "execution_count": 452,
   "metadata": {},
   "outputs": [],
   "source": [
    "svr_classifier = SVR(gamma=0.001, epsilon=0.1, C=100)\n",
    "svr_classifier = svr_classifier.fit(X, y)\n",
    "gb_classifier = GradientBoostingRegressor(learning_rate=0.8, max_depth=4, max_features=None)\n",
    "gb_classifier = gb_classifier.fit(X, y)"
   ]
  },
  {
   "cell_type": "markdown",
   "metadata": {},
   "source": [
    "### Let's ensemble a bit"
   ]
  },
  {
   "cell_type": "code",
   "execution_count": 453,
   "metadata": {},
   "outputs": [],
   "source": [
    "   \n",
    "\n",
    "def aggregate_results(feature, deck):\n",
    "    counter = Counter()\n",
    "\n",
    "    for stat in stats_dict.values():\n",
    "        if feature in stat:\n",
    "            counter[stat['name']] = stat[feature]\n",
    "    \n",
    "    def total_val(deck):\n",
    "        total = 0\n",
    "        for card, count in deck.cards.items():\n",
    "            total += count * counter[card]\n",
    "        return total\n",
    "\n",
    "    return np.array([total_val(deck)])\n",
    "\n",
    "\n",
    "\n",
    "def predict(deck, player):\n",
    "    players_features = [player == pl for pl in players]\n",
    "    x_test = np.array(v.transform(deck.cards)[0])\n",
    "    x_test = np.concatenate([np.array(players_features)])\n",
    "    costs = aggregate_results('cost', deck)\n",
    "    attack = aggregate_results('attack', deck)\n",
    "    health = aggregate_results('health', deck)\n",
    "    durability = aggregate_results('durability', deck)\n",
    "    armor = aggregate_results('armor', deck)\n",
    "    collectible_ratio = aggregate_results('collectible', deck)\n",
    "    \n",
    "    heros_arr = np.zeros((len(test_heros), ))\n",
    "\n",
    "    for j, hero in enumerate(test_heros):\n",
    "        heros_arr[j] = deck.hero == hero\n",
    "\n",
    "\n",
    "    costs = np.reshape(costs, (len(costs), 1))\n",
    "    attack = np.reshape(attack, (len(attack), 1))\n",
    "    health = np.reshape(health, (len(health), 1))\n",
    "    durability = np.reshape(durability, (len(durability), 1))\n",
    "    armor = np.reshape(armor, (len(armor), 1))\n",
    "    collectible_ratio = np.reshape(collectible_ratio, (len(collectible_ratio), 1))\n",
    "    heros_arr = heros_arr.reshape(-1, 1)\n",
    "    x_test = x_test.reshape(-1, 1)\n",
    "    #print(costs.shape, heros_arr.shape, x_test.shape)\n",
    "    X_pred = np.concatenate([x_test, costs, attack, health, \n",
    "                                          collectible_ratio, durability, armor, heros_arr])\n",
    "    return reduce(gb_classifier.predict(X_pred.reshape(1, -1)))\n"
   ]
  },
  {
   "cell_type": "code",
   "execution_count": 454,
   "metadata": {},
   "outputs": [
    {
     "name": "stdout",
     "output_type": "stream",
     "text": [
      "    deck_name player   win_rate\n",
      "0  deck244804     A1  19.730219\n",
      "1  deck124802     A1  46.392929\n",
      "2  deck687350     A1  34.475045\n",
      "3  deck517728     A1  41.722489\n",
      "4  deck130762     A1  34.685953\n"
     ]
    }
   ],
   "source": [
    "\n",
    "def get_test_decks_list():\n",
    "    test_decks = []\n",
    "\n",
    "    with open(test_path, 'r') as decks:\n",
    "        for line in decks.readlines():\n",
    "            json_info = json.loads(line)\n",
    "            test_decks.append(json_info['deckName'][0])\n",
    "    return test_decks\n",
    "\n",
    "test_decks_names = get_test_decks_list()\n",
    "\n",
    "def dump_results():\n",
    "    df_results = pd.DataFrame()\n",
    "    for player in players:\n",
    "        for deck_name in test_decks_names:\n",
    "            deck = test_decks[deck_name]\n",
    "            win_rate = predict(deck, player)[0]\n",
    "            df_results = df_results.append({'player': player, 'deck_name': deck_name, 'win_rate': win_rate}, \n",
    "                                           ignore_index=True)\n",
    "\n",
    "    print(df_results.head())\n",
    "    df_results.to_csv('data/test_results.csv', index=False, header=False, columns=['player', 'deck_name', 'win_rate'],\n",
    "                     sep=';')\n",
    "\n",
    "dump_results()"
   ]
  },
  {
   "cell_type": "code",
   "execution_count": 456,
   "metadata": {},
   "outputs": [
    {
     "name": "stdout",
     "output_type": "stream",
     "text": [
      "1\n"
     ]
    }
   ],
   "source": [
    "print(1)"
   ]
  },
  {
   "cell_type": "code",
   "execution_count": null,
   "metadata": {},
   "outputs": [],
   "source": []
  }
 ],
 "metadata": {
  "kernelspec": {
   "display_name": "Python 3",
   "language": "python",
   "name": "python3"
  },
  "language_info": {
   "codemirror_mode": {
    "name": "ipython",
    "version": 3
   },
   "file_extension": ".py",
   "mimetype": "text/x-python",
   "name": "python",
   "nbconvert_exporter": "python",
   "pygments_lexer": "ipython3",
   "version": "3.6.4"
  }
 },
 "nbformat": 4,
 "nbformat_minor": 2
}
