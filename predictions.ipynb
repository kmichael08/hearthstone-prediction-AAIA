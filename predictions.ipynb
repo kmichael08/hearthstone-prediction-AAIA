{
 "cells": [
  {
   "cell_type": "code",
   "execution_count": 2,
   "metadata": {
    "collapsed": false
   },
   "outputs": [],
   "source": [
    "import json\n",
    "from collections import Counter\n",
    "\n",
    "class Deck:\n",
    "    def __init__(self, info):\n",
    "        self.name = info['deckName'][0]\n",
    "        self.hero = info['hero'][0]\n",
    "        self.cards = Counter()\n",
    "        for name, [count] in info['cards'].items():\n",
    "            self.cards[name] = count\n",
    "\n",
    "training_path = 'data/trainingDecks.json'\n",
    "test_path = 'data/testDecks.json'\n",
    "            \n",
    "def get_decks_dict(path):\n",
    "    decks_dict = dict()    \n",
    "    \n",
    "    with open(path, 'r') as decks:\n",
    "        for line in decks.readlines():\n",
    "            json_info = json.loads(line)\n",
    "            decks_dict[json_info['deckName'][0]] = Deck(json_info)\n",
    "    return decks_dict\n",
    "\n",
    "training_decks = get_decks_dict(training_path)\n",
    "test_decks = get_decks_dict(test_path)"
   ]
  },
  {
   "cell_type": "code",
   "execution_count": 3,
   "metadata": {
    "collapsed": false
   },
   "outputs": [
    {
     "name": "stdout",
     "output_type": "stream",
     "text": [
      "PLAYER_0 WON    165347\n",
      "PLAYER_1 WON    134333\n",
      "Name: result, dtype: int64\n"
     ]
    }
   ],
   "source": [
    "import pandas as pd\n",
    "training_games = pd.read_csv('data/training_games.csv', delimiter=';', \n",
    "                             names=['id', 'bot1', 'deck1', 'bot2', 'deck2', 'result'])\n",
    "print(training_games['result'].value_counts())"
   ]
  },
  {
   "cell_type": "code",
   "execution_count": 4,
   "metadata": {
    "collapsed": false
   },
   "outputs": [
    {
     "name": "stdout",
     "output_type": "stream",
     "text": [
      "         id bot1       deck1 bot2       deck2  result\n",
      "0  100001.0   A1  deck113225   A1  deck731599       0\n",
      "1  100002.0   A1  deck694943   A1  deck929572       1\n",
      "2  100003.0   A1  deck182567   A1  deck525929       0\n",
      "3  100004.0   A1  deck219364   A1  deck757429       1\n",
      "4  100005.0   A1  deck826229   A1  deck337123       1\n",
      "299680\n"
     ]
    }
   ],
   "source": [
    "import pandas as pd\n",
    "training_games = pd.read_csv('data/training_games.csv', delimiter=';', \n",
    "                             names=['id', 'bot1', 'deck1', 'bot2', 'deck2', 'result'])\n",
    "training_games['result'] = training_games['result'] == 'PLAYER_1 WON'\n",
    "training_games['result'] = training_games['result'].astype(int)\n",
    "print(training_games.head())\n",
    "print(len(training_games))"
   ]
  },
  {
   "cell_type": "code",
   "execution_count": 5,
   "metadata": {
    "collapsed": false
   },
   "outputs": [
    {
     "name": "stdout",
     "output_type": "stream",
     "text": [
      "         id bot1       deck1 bot2       deck2  result    hero1    hero2\n",
      "0  100001.0   A1  deck113225   A1  deck731599       0   Priest    Druid\n",
      "1  100002.0   A1  deck694943   A1  deck929572       1   Shaman  Paladin\n",
      "2  100003.0   A1  deck182567   A1  deck525929       0    Rogue  Paladin\n",
      "3  100004.0   A1  deck219364   A1  deck757429       1  Warlock  Paladin\n",
      "4  100005.0   A1  deck826229   A1  deck337123       1     Mage  Paladin\n"
     ]
    }
   ],
   "source": [
    "training_hero = training_games\n",
    "training_hero['hero1'] = training_hero.apply(lambda row: training_decks[row['deck1']].hero, axis=1)\n",
    "training_hero['hero2'] = training_hero.apply(lambda row: training_decks[row['deck2']].hero, axis=1)\n",
    "print(training_hero.head())"
   ]
  },
  {
   "cell_type": "code",
   "execution_count": 6,
   "metadata": {
    "collapsed": false
   },
   "outputs": [
    {
     "name": "stdout",
     "output_type": "stream",
     "text": [
      "{'Shaman', 'Mage', 'Druid', 'Hunter', 'Paladin', 'Warrior', 'Warlock', 'Priest', 'Rogue'}\n"
     ]
    }
   ],
   "source": [
    "heros = {deck.hero for deck in training_decks.values()}\n",
    "print(heros)"
   ]
  },
  {
   "cell_type": "markdown",
   "metadata": {},
   "source": [
    "### Let's look at the cards"
   ]
  },
  {
   "cell_type": "code",
   "execution_count": 7,
   "metadata": {
    "collapsed": false
   },
   "outputs": [
    {
     "name": "stdout",
     "output_type": "stream",
     "text": [
      "{'Shaman', 'Mage', 'Druid', 'Hunter', 'Paladin', 'Warrior', 'Warlock', 'Priest', 'Rogue'}\n"
     ]
    }
   ],
   "source": [
    "test_heros = {deck.hero for deck in test_decks.values()}\n",
    "print(test_heros)"
   ]
  },
  {
   "cell_type": "code",
   "execution_count": 8,
   "metadata": {
    "collapsed": true
   },
   "outputs": [],
   "source": [
    "train_cards = set()\n",
    "test_cards = set()\n",
    "for deck in training_decks.values():\n",
    "    train_cards.update(deck.cards.keys())\n",
    "\n",
    "for deck in test_decks.values():\n",
    "    test_cards.update(deck.cards.keys())"
   ]
  },
  {
   "cell_type": "code",
   "execution_count": 9,
   "metadata": {
    "collapsed": false
   },
   "outputs": [
    {
     "name": "stdout",
     "output_type": "stream",
     "text": [
      "{'Power Word: Shield', 'Faceless Manipulator', 'Blessing of Kings', 'Prince Keleseth', 'Tundra Rhino', 'Raid Leader', 'Blessing of Might', 'Shiv', 'Voidwalker', 'Kindly Grandmother', 'Voodoo Doctor', 'Dire Wolf Alpha', 'Bluegill Warrior', 'Plated Beetle', 'Backstab', 'Firelands Portal', 'Druid of the Fang', 'Blizzard', 'Spellbreaker', \"Assassin's Blade\", 'Archmage Antonidas', 'Ravenholdt Assassin', 'Malfurion the Pestilent', 'Acherus Veteran', 'Crystalweaver', 'Wrath', 'Azure Drake', 'King Mukla', 'Argent Squire', \"Sorcerer's Apprentice\", 'Frostbolt', 'Gnomish Inventor', 'Shield Block', 'Magma Rager', 'Stonetusk Boar', 'Bloodfen Raptor', 'Rockbiter Weapon', 'Ironbark Protector', 'Darkshire Councilman', 'Argent Horserider', 'Alleycat', 'Spikeridged Steed', 'Arcane Intellect', 'Shieldbearer', 'Dragonling Mechanic', 'Stormpike Commando', 'Coldlight Oracle', 'Acolyte of Agony', 'Shadow Word: Pain', 'Eviscerate', 'Fearsome Doomguard', 'Crystal Lion', 'Rockpool Hunter', 'Volcano', 'SI:7 Agent', 'Duskboar', 'Sabretooth Stalker', 'River Crocolisk', 'Mortal Strike', 'Binding Heal', 'Primordial Glyph', 'Jade Spirit', 'Southsea Captain', 'Houndmaster', 'Evil Heckler', 'Ironforge Rifleman', 'Assassinate', 'Fire Fly', \"Skull of the Man'ari\", 'Mark of the Lotus', 'Animal Companion', 'Jade Behemoth', 'Reckless Rocketeer', 'Frostwolf Grunt', 'Shield Slam', 'Hex', 'Twilight Drake', 'Swipe', 'Grook Fu Master', 'Oaken Summons', \"Dead Man's Hand\", 'Astral Communion', 'Innervate', 'Fireball', 'Murloc Warleader', 'Loot Hoarder', 'Jade Lightning', 'Jade Chieftain', 'Dalaran Mage', 'Frost Nova', 'Holy Light', 'Force-Tank MAX', 'Righteous Protector', 'Divine Favor', 'Tainted Zealot', 'Sprint', 'Shadow Bolt', 'Prince Taldaram', 'Saronite Chain Gang', 'Deadly Shot', 'Savannah Highmane', 'Volcanic Potion', 'Drain Soul', 'Ironwood Golem', 'Frigid Snobold', 'Grotesque Dragonhawk', 'Stormwind Champion', 'Shadowstep', 'Bog Creeper', 'Darkshire Librarian', 'Lightning Bolt', 'Freezing Potion', 'Giant Mastodon', 'Cleave', 'Truesilver Champion', 'Bloodmage Thalnos', 'Defile', 'Fen Creeper', 'Guardian of Kings', 'Doomguard', 'Corridor Creeper', 'Stormwind Knight', 'Candleshot', 'Bloodsail Corsair', 'Mark of the Wild', 'Enchanted Raven', 'Bearshark', 'Ultimate Infestation', 'Hot Spring Guardian', 'Antique Healbot', 'Evolved Kobold', 'Puddlestomper', 'Argent Commander', 'Twisted Worgen', 'Dread Infernal', 'Drakonid Operative', 'Carnivorous Cube', 'Ironfur Grizzly', 'Skulking Geist', 'Moonfire', 'Cobalt Scalebane', 'Captured Jormungar', 'Fire Elemental', 'Worgen Infiltrator', 'Acolyte of Pain', 'Archmage', 'Healing Rain', 'Possessed Lackey', 'Execute', 'Cornered Sentry', 'Glacial Shard', 'Razorfen Hunter', 'Blowgill Sniper', 'Fan of Knives', 'Healing Touch', 'Elven Archer', 'Stegodon', 'Duskbreaker', 'Deadly Poison', 'Lesser Jasper Spellstone', 'Living Mana', 'Leeroy Jenkins', 'Bloodlust', 'Water Elemental', 'Silent Knight', 'Gurubashi Berserker', 'Divine Spirit', 'Grumble, Worldshaker', 'Blood Razor', 'Aya Blackpaw', 'Sap', 'Squirming Tentacle', 'Felfire Potion', 'Jungle Panther', 'Sunkeeper Tarim', 'Psych-o-Tron', 'Southsea Deckhand', 'Flametongue Totem', 'Dark Pact', 'Knife Juggler', 'Shadow Visions', 'Flame Imp', 'Kobold Geomancer', 'Mind Blast', 'Kirin Tor Mage', 'Dirty Rat', 'Wild Growth', 'Mana Wyrm', 'Hooked Reaver', 'Ancestral Healing', 'Faerie Dragon', 'Bittertide Hydra', 'Netherspite Historian', 'Rallying Blade', 'Elven Minstrel', 'Twisting Nether', 'Unidentified Shield', \"Medivh's Valet\", \"Hunter's Mark\", 'Radiant Elemental', 'Annoy-o-Tron', 'Kobold Librarian', 'Jade Claws', 'Nightblade', 'Lost Tallstrider', 'Finja, the Flying Star', 'Call to Arms', 'Murloc Tidehunter', 'Frostwolf Warlord', 'Drywhisker Armorer', 'Hammer of Wrath', 'Oasis Snapjaw', 'Arcane Shot', 'Golakka Crawler', 'Eaglehorn Bow', 'Despicable Dreadlord', 'Spreading Plague', 'Blazecaller', 'Fiery War Axe', 'Boulderfist Ogre', 'Arcane Blast', 'Claw', 'Lord of the Arena', 'Harrison Jones', \"Mogu'shan Warden\", 'Abyssal Enforcer', 'Booty Bay Bodyguard', 'Tournament Attendee', 'Siphon Soul', 'Ice Rager', \"Malchezaar's Imp\", 'Goldshire Footman', 'Midnight Drake', 'Whirlwind', 'Arcane Explosion', 'Jade Idol', 'Sleep with the Fishes', 'Core Hound', 'Arcane Giant', 'Succubus', 'Flamestrike', 'Brawl', 'Dire Mole', 'Tar Creeper', 'Flanking Strike', 'Dragonfire Potion', 'Hellfire', 'Fandral Staghelm', 'Shadow Rager', 'Hand of Protection', 'Unidentified Maul', 'Mortal Coil', 'Lesser Amethyst Spellstone', 'Nourish', 'Lost in the Jungle', \"Bloodreaver Gul'dan\", \"Al'Akir the Windlord\", 'Bash', 'Bite', 'Book Wyrm', 'Snowchugger', 'Mirror Entity', 'Starfire', 'Multi-Shot', 'Vulgar Homunculus', 'Warsong Commander', 'Kabal Lackey', 'Soulfire', 'Edwin VanCleef', 'Battle Rage', 'Priest of the Feast', 'Kabal Crystal Runner', 'Spellbender', 'Novice Engineer', 'Shadow Word: Death', 'Grimscale Oracle', 'Aluneth', 'Bilefin Tidehunter', 'Grimscale Chum', 'Mana Tide Totem', 'Kalimos, Primal Lord', 'Darkscale Healer', 'Inner Fire', \"Light's Justice\", 'Stand Against Darkness', 'Unleash the Hounds', \"Kor'kron Elite\", 'Druid of the Claw', 'Mistress of Mixtures', 'Scourgelord Garrosh', 'Acidic Swamp Ooze', 'Arcane Missiles', 'Mini-Mage', 'Vilespine Slayer', 'Arcanologist', 'Ethereal Arcanist', 'Kill Command', 'Holy Smite', 'Silverback Patriarch', 'Patches the Pirate', 'Voidlord', 'Kabal Talonpriest', 'Shattered Sun Cleric', 'Bonemare', 'Mountain Giant', 'Timber Wolf', 'Gnomeregan Infantry', 'Arcanite Reaper', 'Armorsmith', 'Primordial Drake', 'Murloc Tidecaller', 'Repentance', \"Sen'jin Shieldmasta\", 'Coldlight Seer', 'Drain Life', 'Holy Nova', 'Mind Control', 'Northshire Cleric', 'Wax Elemental', 'Fierce Monkey', 'Wolfrider', 'Malygos', 'Murloc Raider', 'Chillwind Yeti', 'Greater Healing Potion', 'Ogre Magi', 'Explosive Runes', 'Vilefin Inquisitor', 'Consecration', 'Jade Blossom'}\n",
      "{'Power Word: Shield', 'Faceless Manipulator', 'Shiv', 'Tundra Rhino', 'Prince Keleseth', 'Blessing of Kings', 'Voodoo Doctor', 'Raid Leader', 'Voidwalker', 'Kindly Grandmother', 'Blessing of Might', 'Dire Wolf Alpha', 'Bluegill Warrior', 'Plated Beetle', 'Backstab', 'Firelands Portal', 'Druid of the Fang', 'Blizzard', 'Spellbreaker', 'Ravenholdt Assassin', 'Malfurion the Pestilent', 'Crystalweaver', 'Acherus Veteran', 'Azure Drake', 'Wrath', 'King Mukla', 'Argent Squire', \"Sorcerer's Apprentice\", 'Frostbolt', 'Shield Block', 'Gnomish Inventor', 'Magma Rager', 'Stonetusk Boar', 'Bloodfen Raptor', 'Ironbark Protector', 'Darkshire Councilman', 'Argent Horserider', 'Alleycat', 'Spikeridged Steed', 'Dragonling Mechanic', 'Arcane Intellect', 'Shieldbearer', 'Stormpike Commando', 'Coldlight Oracle', 'Acolyte of Agony', 'Shadow Word: Pain', 'Crystal Lion', 'Rockpool Hunter', 'Volcano', 'SI:7 Agent', 'Duskboar', 'Sabretooth Stalker', 'River Crocolisk', 'Mortal Strike', 'Binding Heal', 'Primordial Glyph', 'Savage Roar', 'Jade Spirit', 'Southsea Captain', 'Doomsayer', 'Houndmaster', 'Evil Heckler', 'Ironforge Rifleman', 'Fire Fly', \"Skull of the Man'ari\", 'Mark of the Lotus', 'Animal Companion', 'Jade Behemoth', 'Reckless Rocketeer', 'Frostwolf Grunt', 'Shield Slam', 'Twilight Drake', 'Swipe', 'Grook Fu Master', 'Oaken Summons', \"Dead Man's Hand\", 'Primalfin Totem', 'Flying Machine', 'Innervate', 'Astral Communion', 'Murloc Warleader', 'Jade Chieftain', 'Jade Lightning', 'Fireball', 'Loot Hoarder', 'Dalaran Mage', 'Frost Nova', 'War Golem', 'Holy Light', 'Force-Tank MAX', 'Righteous Protector', 'Divine Favor', 'Faceless Behemoth', 'Tainted Zealot', 'Prince Taldaram', 'Saronite Chain Gang', 'Ice Block', 'Savannah Highmane', 'Volcanic Potion', 'Drain Soul', 'Ironwood Golem', 'Frigid Snobold', 'Stormwind Champion', 'Getaway Kodo', 'Grotesque Dragonhawk', 'Shadowstep', 'Bog Creeper', 'Darkshire Librarian', 'Cleave', 'Fen Creeper', 'Bloodmage Thalnos', 'Defile', 'Truesilver Champion', 'Guardian of Kings', 'Corridor Creeper', 'Doomguard', 'Stormwind Knight', 'Candleshot', 'Bloodsail Corsair', 'Ultimate Infestation', 'Hot Spring Guardian', 'Antique Healbot', 'Blastcrystal Potion', 'Puddlestomper', 'Argent Commander', 'Vilefin Inquisitor', 'Evolved Kobold', 'Skulking Geist', 'Carnivorous Cube', 'Drakonid Operative', 'Ironfur Grizzly', 'Captured Jormungar', 'Cobalt Scalebane', 'Moonfire', 'Fire Elemental', 'Acolyte of Pain', 'Archmage', 'Healing Rain', 'Possessed Lackey', 'Razorfen Hunter', 'Execute', 'Cornered Sentry', 'Glacial Shard', 'Blowgill Sniper', 'Fan of Knives', 'Stegodon', 'Healing Touch', 'Elven Archer', 'Duskbreaker', 'Lesser Jasper Spellstone', 'Leeroy Jenkins', 'Living Mana', 'Water Elemental', 'Silent Knight', 'Gurubashi Berserker', 'Divine Spirit', 'Grumble, Worldshaker', 'Cold Blood', 'Frost Shock', 'Blood Razor', 'Squirming Tentacle', 'Aya Blackpaw', 'Sap', 'Jungle Panther', 'Southsea Deckhand', 'Flametongue Totem', 'Sunkeeper Tarim', 'Psych-o-Tron', 'Dark Pact', 'Knife Juggler', 'Flame Imp', 'Kobold Geomancer', 'Shadow Visions', 'Fire Plume Harbinger', 'Dirty Rat', 'Kirin Tor Mage', 'Wild Growth', 'Mana Wyrm', 'Hooked Reaver', 'Ancestral Healing', 'Faerie Dragon', 'Bittertide Hydra', 'Netherspite Historian', 'Elven Minstrel', 'Rallying Blade', 'Twisting Nether', 'Unidentified Shield', \"Medivh's Valet\", 'Annoy-o-Tron', 'Radiant Elemental', 'Archmage Antonidas', 'Kobold Librarian', 'Jade Claws', 'Nightblade', 'Drywhisker Armorer', 'Explosive Runes', 'Finja, the Flying Star', 'Oasis Snapjaw', 'Frostwolf Warlord', 'Call to Arms', 'Lost Tallstrider', 'Hammer of Wrath', 'Murloc Tidehunter', 'Eaglehorn Bow', 'Golakka Crawler', 'Spreading Plague', 'Blazecaller', 'Fiery War Axe', 'Boulderfist Ogre', 'Arcane Blast', 'Claw', 'Lord of the Arena', 'Heroic Strike', 'Harrison Jones', \"Mogu'shan Warden\", 'Abyssal Enforcer', 'Booty Bay Bodyguard', 'Ice Rager', 'Hired Gun', 'Goldshire Footman', \"Malchezaar's Imp\", 'Midnight Drake', 'Whirlwind', 'Arcane Explosion', 'Jade Idol', 'Sleep with the Fishes', 'Core Hound', 'Arcane Giant', 'Succubus', 'Brawl', 'Dire Mole', 'Polymorph', 'Tar Creeper', 'Eldritch Horror', 'Fandral Staghelm', 'Flanking Strike', 'Hellfire', 'Dragonfire Potion', 'Bash', 'Unidentified Maul', 'Lesser Amethyst Spellstone', 'Mortal Coil', 'Nourish', \"Al'Akir the Windlord\", \"Bloodreaver Gul'dan\", 'Lightning Bolt', 'Lost in the Jungle', 'Hand of Protection', 'Book Wyrm', 'Bite', 'Mirror Entity', 'Warsong Commander', 'Multi-Shot', 'Vulgar Homunculus', 'Snowchugger', 'Kabal Lackey', 'Soulfire', 'Edwin VanCleef', 'Battle Rage', 'Priest of the Feast', 'Grimscale Oracle', 'Shadow Word: Death', 'Kabal Crystal Runner', 'Arcane Shot', 'Novice Engineer', 'Aluneth', 'Bilefin Tidehunter', 'Inner Fire', 'Mana Tide Totem', 'Kalimos, Primal Lord', 'Darkscale Healer', 'Grimscale Chum', \"Light's Justice\", 'Stand Against Darkness', 'Unleash the Hounds', 'Felguard', 'Druid of the Claw', 'Mistress of Mixtures', 'Scourgelord Garrosh', 'Acidic Swamp Ooze', 'Mini-Mage', 'Vilespine Slayer', 'Ethereal Arcanist', 'Silverback Patriarch', 'Kill Command', 'Arcanologist', 'Carrion Grub', 'Holy Smite', 'Patches the Pirate', 'Voidlord', 'Bonemare', 'Shattered Sun Cleric', 'Kabal Talonpriest', 'Mountain Giant', 'Timber Wolf', 'Gnomeregan Infantry', 'Armorsmith', 'Primordial Drake', 'Murloc Tidecaller', \"Sen'jin Shieldmasta\", 'Repentance', 'Drain Life', 'Coldlight Seer', 'Northshire Cleric', 'Wax Elemental', 'Wolfrider', 'Murloc Raider', 'Chillwind Yeti', 'Ogre Magi', 'Despicable Dreadlord', \"Hunter's Mark\", 'Consecration', 'Jade Blossom'}\n"
     ]
    }
   ],
   "source": [
    "print(train_cards)\n",
    "print(test_cards)"
   ]
  },
  {
   "cell_type": "code",
   "execution_count": 10,
   "metadata": {
    "collapsed": false
   },
   "outputs": [
    {
     "name": "stdout",
     "output_type": "stream",
     "text": [
      "313 330\n"
     ]
    }
   ],
   "source": [
    "print(len(test_cards), len(train_cards))"
   ]
  },
  {
   "cell_type": "code",
   "execution_count": 11,
   "metadata": {
    "collapsed": false
   },
   "outputs": [
    {
     "name": "stdout",
     "output_type": "stream",
     "text": [
      "295\n"
     ]
    }
   ],
   "source": [
    "all_cards = test_cards.intersection(train_cards)\n",
    "print(len(all_cards))"
   ]
  },
  {
   "cell_type": "code",
   "execution_count": 12,
   "metadata": {
    "collapsed": false
   },
   "outputs": [
    {
     "name": "stdout",
     "output_type": "stream",
     "text": [
      "  player        deck    result\n",
      "0     A1  deck100087  0.291667\n",
      "1     A1  deck101443  0.276627\n",
      "2     A1  deck102280  0.550613\n",
      "3     A1  deck104259  0.404459\n",
      "4     A1  deck105300  0.397929\n"
     ]
    }
   ],
   "source": [
    "train_df = training_games.get(['bot1', 'deck1', 'result']).rename(index=str, columns={'bot1': 'player', 'deck1': 'deck'})\n",
    "train_df['result'] = 1 - train_df['result']\n",
    "train_df = train_df.append([training_games.get(['bot2', 'deck2', 'result']).rename(index=str, columns={\n",
    "    'bot2': 'player', 'deck2': 'deck'})])\n",
    "train_df = train_df.groupby(['player', 'deck'])['result'].mean()\n",
    "train_df = train_df.reset_index()\n",
    "print(train_df.head())"
   ]
  },
  {
   "cell_type": "code",
   "execution_count": 13,
   "metadata": {
    "collapsed": false
   },
   "outputs": [
    {
     "name": "stdout",
     "output_type": "stream",
     "text": [
      "   player        deck    enemy    result\n",
      "0      A1  deck100087    Druid  0.409836\n",
      "1      A1  deck100087   Hunter  0.271845\n",
      "2      A1  deck100087     Mage  0.469697\n",
      "3      A1  deck100087  Paladin  0.127273\n",
      "4      A1  deck100087   Priest  0.363636\n",
      "5      A1  deck100087    Rogue  0.333333\n",
      "6      A1  deck100087   Shaman  0.226415\n",
      "7      A1  deck100087  Warlock  0.179487\n",
      "8      A1  deck100087  Warrior  0.533333\n",
      "9      A1  deck101443    Druid  0.406780\n",
      "10     A1  deck101443   Hunter  0.159091\n",
      "11     A1  deck101443     Mage  0.387755\n",
      "12     A1  deck101443  Paladin  0.196721\n",
      "13     A1  deck101443   Priest  0.349206\n",
      "14     A1  deck101443    Rogue  0.176471\n",
      "15     A1  deck101443   Shaman  0.368421\n",
      "16     A1  deck101443  Warlock  0.202247\n",
      "17     A1  deck101443  Warrior  0.537037\n",
      "18     A1  deck102280    Druid  0.612245\n",
      "19     A1  deck102280   Hunter  0.387097\n"
     ]
    }
   ],
   "source": [
    "train_df2 = training_hero.get(['bot1', 'deck1', 'result', 'hero2']).rename(index=str,\n",
    "                            columns={'bot1': 'player', 'deck1': 'deck', 'hero2': 'enemy'})\n",
    "train_df2['result'] = 1 - train_df2['result']\n",
    "train_df2 = train_df2.append([training_hero.get(['bot2', 'deck2', 'result', 'hero1']).rename(index=str, columns={\n",
    "    'bot2': 'player', 'deck2': 'deck', 'hero1': 'enemy'})])\n",
    "train_df2 = train_df2.groupby(['player', 'deck', 'enemy'])['result'].mean()\n",
    "train_df2 = train_df2.reset_index()\n",
    "print(train_df2.head(20))"
   ]
  },
  {
   "cell_type": "markdown",
   "metadata": {},
   "source": [
    "### Card names one hot encoding"
   ]
  },
  {
   "cell_type": "code",
   "execution_count": 14,
   "metadata": {
    "collapsed": true
   },
   "outputs": [],
   "source": [
    "def intersect_with_test_cards(cards_dict):\n",
    "    keys = test_cards.intersection(cards_dict)\n",
    "    return {k:cards_dict[k] for k in keys} "
   ]
  },
  {
   "cell_type": "code",
   "execution_count": 15,
   "metadata": {
    "collapsed": false
   },
   "outputs": [],
   "source": [
    "from sklearn.feature_extraction import DictVectorizer\n",
    "v = DictVectorizer(sparse=False)\n",
    "D = [deck.cards for deck in training_decks.values()]\n",
    "X = v.fit_transform(D)"
   ]
  },
  {
   "cell_type": "code",
   "execution_count": 16,
   "metadata": {
    "collapsed": false
   },
   "outputs": [
    {
     "name": "stdout",
     "output_type": "stream",
     "text": [
      "(14400, 9)\n",
      "(14400, 9)\n"
     ]
    }
   ],
   "source": [
    "import numpy as np\n",
    "\n",
    "heros_arr2 = np.zeros((len(train_df2['deck']), len(test_heros)))\n",
    "\n",
    "for i, deck_name in enumerate(train_df2['deck']):\n",
    "    for j, hero in enumerate(test_heros):\n",
    "        heros_arr2[i, j] = training_decks[deck_name].hero == hero\n",
    "\n",
    "enemy_arr = np.zeros((len(train_df2['deck']), len(test_heros)))\n",
    "\n",
    "for i, enemy in enumerate(train_df2['enemy']):\n",
    "    for j, hero in enumerate(test_heros):\n",
    "        enemy_arr[i, j] = enemy == hero\n",
    "\n",
    "print(enemy_arr.shape)\n",
    "print(heros_arr2.shape)"
   ]
  },
  {
   "cell_type": "code",
   "execution_count": 17,
   "metadata": {
    "collapsed": false
   },
   "outputs": [],
   "source": [
    "import numpy as np\n",
    "\n",
    "heros_arr = np.zeros((len(train_df['deck']), len(test_heros)))\n",
    "\n",
    "for i, deck_name in enumerate(train_df['deck']):\n",
    "    for j, hero in enumerate(test_heros):\n",
    "        heros_arr[i, j] = training_decks[deck_name].hero == hero"
   ]
  },
  {
   "cell_type": "code",
   "execution_count": 18,
   "metadata": {
    "collapsed": false
   },
   "outputs": [
    {
     "name": "stdout",
     "output_type": "stream",
     "text": [
      "{'B1': 0.45799675245171284, 'A2': 0.48449577954254092, 'A1': 0.54794083877250188, 'B2': 0.44216063484566098}\n"
     ]
    }
   ],
   "source": [
    "ai_rates_df = (training_games.groupby(['bot1'])['result'].mean() + 1 - training_games.groupby(['bot2'])['result'].mean()) / 2\n",
    "ai_rates_dict = ai_rates_df.to_dict()\n",
    "print(ai_rates_dict)"
   ]
  },
  {
   "cell_type": "code",
   "execution_count": 19,
   "metadata": {
    "collapsed": false
   },
   "outputs": [
    {
     "name": "stdout",
     "output_type": "stream",
     "text": [
      "{'B1': 0.45799675245171284, 'A2': 0.48449577954254092, 'A1': 0.54794083877250188, 'B2': 0.44216063484566098}\n"
     ]
    }
   ],
   "source": [
    "ai_rates_df2 = (training_games.groupby(['bot1'])['result'].mean() + 1 - training_games.groupby(['bot2'])['result'].mean()) / 2\n",
    "ai_rates_dict2 = ai_rates_df2.to_dict()\n",
    "print(ai_rates_dict)"
   ]
  },
  {
   "cell_type": "code",
   "execution_count": 20,
   "metadata": {
    "collapsed": true
   },
   "outputs": [],
   "source": [
    "import numpy as np\n",
    "\n",
    "players = ['A1', 'A2', 'B1', 'B2']\n",
    "\n",
    "players_features = [(train_df['player'] == pl).as_matrix() for pl in players]\n",
    "players_rates = np.array([ai_rates_dict[pl] for pl in train_df['player']])\n",
    "\n",
    "x = np.array([v.transform(training_decks[deck_name].cards)[0] for deck_name in train_df['deck']])"
   ]
  },
  {
   "cell_type": "code",
   "execution_count": 21,
   "metadata": {
    "collapsed": false
   },
   "outputs": [],
   "source": [
    "import numpy as np\n",
    "\n",
    "players = ['A1', 'A2', 'B1', 'B2']\n",
    "\n",
    "players_features2 = [(train_df2['player'] == pl).as_matrix() for pl in players]\n",
    "players_rates2 = np.array([ai_rates_dict[pl] for pl in train_df2['player']])\n",
    "\n",
    "x2 = np.array([v.transform(training_decks[deck_name].cards)[0] for deck_name in train_df2['deck']])"
   ]
  },
  {
   "cell_type": "code",
   "execution_count": 22,
   "metadata": {
    "collapsed": false
   },
   "outputs": [
    {
     "name": "stdout",
     "output_type": "stream",
     "text": [
      "(1600, 1)\n"
     ]
    }
   ],
   "source": [
    "print(players_rates.reshape(-1, 1).shape)"
   ]
  },
  {
   "cell_type": "code",
   "execution_count": 23,
   "metadata": {
    "collapsed": false
   },
   "outputs": [
    {
     "name": "stdout",
     "output_type": "stream",
     "text": [
      "(400, 330)\n"
     ]
    }
   ],
   "source": [
    "print(X.shape)"
   ]
  },
  {
   "cell_type": "markdown",
   "metadata": {},
   "source": [
    "### Let's get some statistics for each card"
   ]
  },
  {
   "cell_type": "code",
   "execution_count": 24,
   "metadata": {
    "collapsed": false
   },
   "outputs": [],
   "source": [
    "card_stats = json.load(open('data/formatted_cards.json', 'r'))\n",
    "#json.dump(card_stats, open('data/formatted_cards.json', 'w'), indent=4)"
   ]
  },
  {
   "cell_type": "code",
   "execution_count": 25,
   "metadata": {
    "collapsed": false
   },
   "outputs": [],
   "source": [
    "card_stats = [stat for stat in card_stats if 'name' in stat]"
   ]
  },
  {
   "cell_type": "code",
   "execution_count": 26,
   "metadata": {
    "collapsed": true
   },
   "outputs": [],
   "source": [
    "stats_dict = {stat['name']:stat for stat in card_stats}"
   ]
  },
  {
   "cell_type": "code",
   "execution_count": 27,
   "metadata": {
    "collapsed": true
   },
   "outputs": [],
   "source": [
    "from collections import Counter\n",
    "\n",
    "def aggregate_results(feature, fun, decks):\n",
    "    counter = Counter()\n",
    "\n",
    "    for stat in stats_dict.values():\n",
    "        if feature in stat:\n",
    "            counter[stat['name']] = stat[feature]\n",
    "    \n",
    "    def total_val(deck):\n",
    "        total = 0\n",
    "        cards = []\n",
    "        for card, count in deck.cards.items():\n",
    "            cards += [card] * count\n",
    "        cards = [stats_dict[card].get(feature, 0) for card in cards]\n",
    "        return fun(cards)\n",
    "\n",
    "    return np.array([total_val(deck) for deck in decks])"
   ]
  },
  {
   "cell_type": "code",
   "execution_count": 28,
   "metadata": {
    "collapsed": false
   },
   "outputs": [
    {
     "name": "stdout",
     "output_type": "stream",
     "text": [
      "(9, 1600)\n",
      "1600\n"
     ]
    }
   ],
   "source": [
    "card_features = ['cost', 'attack', 'health'#, 'durability', 'armor'\n",
    "                ]\n",
    "functions = [np.mean, np.median, np.var, \n",
    "             #np.max\n",
    "            ]\n",
    "\n",
    "tr_decks = [training_decks[deck_name] for deck_name in train_df['deck']]\n",
    "\n",
    "def get_aggregated_features(decks=tr_decks):\n",
    "    features_x = []\n",
    "    for feature in card_features:\n",
    "        for fun in functions:\n",
    "            features_x.append(aggregate_results(feature, fun, decks))\n",
    "    features_x = np.array(features_x)\n",
    "    return features_x\n",
    "\n",
    "features_x = get_aggregated_features()\n",
    "print(features_x.shape)\n",
    "print(len(train_df))\n"
   ]
  },
  {
   "cell_type": "code",
   "execution_count": 29,
   "metadata": {
    "collapsed": false
   },
   "outputs": [
    {
     "name": "stdout",
     "output_type": "stream",
     "text": [
      "(9, 14400)\n",
      "14400\n"
     ]
    }
   ],
   "source": [
    "tr_decks2 = [training_decks[deck_name] for deck_name in train_df2['deck']]\n",
    "features_x2 = get_aggregated_features(tr_decks2)\n",
    "print(features_x2.shape)\n",
    "print(len(train_df2))"
   ]
  },
  {
   "cell_type": "code",
   "execution_count": null,
   "metadata": {
    "collapsed": true
   },
   "outputs": [],
   "source": []
  },
  {
   "cell_type": "code",
   "execution_count": 30,
   "metadata": {
    "collapsed": true
   },
   "outputs": [],
   "source": [
    "players_x = np.stack(players_features).T\n",
    "players_rates_x = players_rates.reshape(-1, 1)\n",
    "players_x2 = np.stack(players_features2).T\n",
    "players_rates_x2 = players_rates2.reshape(-1, 1)"
   ]
  },
  {
   "cell_type": "code",
   "execution_count": 31,
   "metadata": {
    "collapsed": false
   },
   "outputs": [
    {
     "name": "stdout",
     "output_type": "stream",
     "text": [
      "(1600, 9)\n",
      "(1600, 9)\n",
      "(1600, 4)\n",
      "(1600, 1)\n",
      "(1600, 330)\n"
     ]
    }
   ],
   "source": [
    "print(features_x.T.shape)\n",
    "print(heros_arr.shape)\n",
    "print(players_x.shape)\n",
    "print(players_rates_x.shape)\n",
    "print(x.shape)"
   ]
  },
  {
   "cell_type": "code",
   "execution_count": 32,
   "metadata": {
    "collapsed": false
   },
   "outputs": [
    {
     "name": "stdout",
     "output_type": "stream",
     "text": [
      "(14400, 9)\n",
      "(14400, 9)\n",
      "(14400, 9)\n",
      "(14400, 4)\n",
      "(14400, 1)\n",
      "(14400, 330)\n"
     ]
    }
   ],
   "source": [
    "print(features_x2.T.shape)\n",
    "print(heros_arr2.shape)\n",
    "print(enemy_arr.shape)\n",
    "print(players_x2.shape)\n",
    "print(players_rates_x2.shape)\n",
    "print(x2.shape)"
   ]
  },
  {
   "cell_type": "code",
   "execution_count": 68,
   "metadata": {
    "collapsed": false
   },
   "outputs": [],
   "source": [
    "X = np.concatenate([x, \n",
    "                    players_x, \n",
    "                    players_rates_x,\n",
    "                    players_dom_x,\n",
    "                    #players_time_x,\n",
    "                    features_x.T, \n",
    "                    heros_arr\n",
    "                   ], axis=1)\n",
    "y = train_df['result'].as_matrix()"
   ]
  },
  {
   "cell_type": "code",
   "execution_count": 69,
   "metadata": {
    "collapsed": true
   },
   "outputs": [],
   "source": [
    "X2 = np.concatenate([x2, \n",
    "                    players_x2, \n",
    "                    players_rates_x2,\n",
    "                    players_dom_x2,\n",
    "                    #players_time_x2,\n",
    "                    features_x2.T, \n",
    "                    heros_arr2,\n",
    "                    enemy_arr\n",
    "                   ], axis=1)\n",
    "y2 = train_df2['result'].as_matrix()"
   ]
  },
  {
   "cell_type": "code",
   "execution_count": 70,
   "metadata": {
    "collapsed": false,
    "scrolled": true
   },
   "outputs": [
    {
     "name": "stdout",
     "output_type": "stream",
     "text": [
      "(14400, 363)\n",
      "(14400,)\n",
      "[ 0.29166667  0.27662722  0.5506135  ...,  0.56593407  0.35714286\n",
      "  0.53947368]\n"
     ]
    }
   ],
   "source": [
    "print(X2.shape)\n",
    "print(y2.shape)\n",
    "print(y)"
   ]
  },
  {
   "cell_type": "markdown",
   "metadata": {},
   "source": [
    "**Statystyki o graczach**"
   ]
  },
  {
   "cell_type": "code",
   "execution_count": 61,
   "metadata": {
    "collapsed": false
   },
   "outputs": [
    {
     "name": "stdout",
     "output_type": "stream",
     "text": [
      "Done with log number 110000\n",
      "Done with log number 120000\n",
      "Done with log number 130000\n",
      "Done with log number 140000\n",
      "Done with log number 150000\n",
      "Done with log number 160000\n",
      "Done with log number 170000\n",
      "Done with log number 180000\n",
      "Done with log number 190000\n",
      "Done with log number 200000\n",
      "Done with log number 210000\n",
      "Done with log number 220000\n",
      "Done with log number 230000\n",
      "Done with log number 240000\n",
      "Done with log number 250000\n",
      "Done with log number 260000\n",
      "Done with log number 270000\n",
      "Done with log number 280000\n",
      "Done with log number 290000\n",
      "Done with log number 300000\n",
      "Done with log number 310000\n",
      "Done with log number 320000\n",
      "Done with log number 330000\n",
      "Done with log number 340000\n",
      "Done with log number 350000\n",
      "Done with log number 360000\n",
      "Done with log number 370000\n",
      "Done with log number 380000\n",
      "Done with log number 390000\n",
      "50.7050637609\n",
      "51.9559746051\n",
      "52.4694840416\n",
      "51.8476229592\n"
     ]
    }
   ],
   "source": [
    "import numpy as np\n",
    "import json\n",
    "\n",
    "path = 'E:\\\\Users\\\\Ryszard\\\\hs_jsons\\\\' #path to the directory with jsons\n",
    "\n",
    "players = ['A1', 'A2', 'B1', 'B2']\n",
    "\n",
    "#calcucalet legnth of match\n",
    "def match_length(match):\n",
    "    result = dict()\n",
    "    length = len(match[\"game\"])\n",
    "    result[match[\"game_setup\"][\"bot_1_ply\"]] = length\n",
    "    result[match[\"game_setup\"][\"bot_2_ply\"]] = length\n",
    "    return result\n",
    "\n",
    "#calculate how dominant was player right before the win\n",
    "def domination_rate(match):\n",
    "    domination = dict()\n",
    "    player1 = match[\"game_setup\"][\"bot_1_ply\"]\n",
    "    player2 = match[\"game_setup\"][\"bot_2_ply\"]\n",
    "    last = match[\"game\"][-1][0]\n",
    "    result = match[\"result\"] == \"PLAYER_0 WON\"\n",
    "    if (result and last[\"active_player\"] == 0) or (not result and last[\"active_player\"] == 1):\n",
    "        winner = last[\"player\"]\n",
    "    else:\n",
    "        winner = last[\"opponent\"]   \n",
    "        \n",
    "    power = winner[\"hp\"] + winner[\"armor\"] + winner[\"attack\"]\n",
    "    \n",
    "    for card in winner[\"played_cards\"]:\n",
    "        power += card[\"attack\"] + card[\"hp_current\"]\n",
    "    \n",
    "    if result:\n",
    "        domination[player1] = power\n",
    "    else:\n",
    "        domination[player2] = power\n",
    "    \n",
    "    return domination\n",
    "\n",
    "    \n",
    "def match_stats(stat_fun):\n",
    "    min_id = 100001\n",
    "    max_id = 399680\n",
    "    stats = dict()\n",
    "    for pl in players:\n",
    "        stats[pl] = list()\n",
    "        \n",
    "    for i in range(min_id, max_id+1):\n",
    "        with open(path + 'log' + str(i) + '.log') as f:\n",
    "            match = json.load(f)\n",
    "            result = stat_fun(match)\n",
    "            for pl in result.keys():\n",
    "                stats[pl].append(result[pl])\n",
    "        if i%10000 == 0:\n",
    "            print(\"Done with log number \" + str(i))\n",
    "    \n",
    "    return stats\n",
    "\n",
    "domination = match_stats(domination_rate)\n",
    "for pl in players:\n",
    "    print(np.mean(domination[pl]))"
   ]
  },
  {
   "cell_type": "code",
   "execution_count": 71,
   "metadata": {
    "collapsed": false,
    "scrolled": true
   },
   "outputs": [
    {
     "name": "stdout",
     "output_type": "stream",
     "text": [
      "A1\n",
      "50.7050637609\n",
      "A2\n",
      "51.9559746051\n",
      "B1\n",
      "52.4694840416\n",
      "B2\n",
      "51.8476229592\n"
     ]
    }
   ],
   "source": [
    "#stats = {\"A1\": 110.748014305, \"A2\": 108.627219977, \"B1\": 113.546226718, \"B2\": 105.622228085}\n",
    "dom = {\"A1\": 50.7050637609, \"A2\": 51.9559746051, \"B1\": 52.4694840416, \"B2\": 51.8476229592}\n",
    "for pl in players:\n",
    "    print(pl)\n",
    "    print(np.mean(domination[pl]))\n",
    "players_time = np.array([stats[pl] for pl in train_df['player']])\n",
    "players_time2 = np.array([stats[pl] for pl in train_df2['player']])\n",
    "players_time_x = players_time.reshape(-1, 1)\n",
    "players_time_x2 = players_time2.reshape(-1, 1)\n",
    "players_dom = np.array([dom[pl] for pl in train_df['player']])\n",
    "players_dom2 = np.array([dom[pl] for pl in train_df2['player']])\n",
    "players_dom_x = players_dom.reshape(-1, 1)\n",
    "players_dom_x2 = players_dom2.reshape(-1, 1)"
   ]
  },
  {
   "cell_type": "markdown",
   "metadata": {},
   "source": [
    "**shufflujemy dataset**"
   ]
  },
  {
   "cell_type": "code",
   "execution_count": 72,
   "metadata": {
    "collapsed": true
   },
   "outputs": [],
   "source": [
    "import random\n",
    "indices = random.sample(range(len(y)), len(y))\n",
    "X = X[indices]\n",
    "y = y[indices]\n",
    "y *= 100\n",
    "indices = random.sample(range(len(y2)), len(y2))\n",
    "X2 = X2[indices]\n",
    "y2 = y2[indices]\n",
    "y2 *= 100"
   ]
  },
  {
   "cell_type": "code",
   "execution_count": 73,
   "metadata": {
    "collapsed": true
   },
   "outputs": [],
   "source": [
    "from sklearn.linear_model import LinearRegression, Ridge, LogisticRegression, SGDRegressor\n",
    "from sklearn.ensemble import RandomForestRegressor, GradientBoostingRegressor\n",
    "from sklearn.neighbors import KNeighborsRegressor\n",
    "from sklearn.svm import SVR, LinearSVR\n",
    "from sklearn.model_selection import GridSearchCV, RandomizedSearchCV\n",
    "from sklearn.preprocessing import PolynomialFeatures\n",
    "from sklearn.linear_model import BayesianRidge, SGDRegressor\n",
    "from sklearn.preprocessing import StandardScaler\n",
    "from sklearn.neural_network import MLPRegressor\n"
   ]
  },
  {
   "cell_type": "code",
   "execution_count": 127,
   "metadata": {
    "collapsed": false
   },
   "outputs": [
    {
     "name": "stdout",
     "output_type": "stream",
     "text": [
      "Fitting 8 folds for each of 10 candidates, totalling 80 fits\n"
     ]
    },
    {
     "name": "stderr",
     "output_type": "stream",
     "text": [
      "[Parallel(n_jobs=7)]: Done   4 tasks      | elapsed:  2.0min\n",
      "[Parallel(n_jobs=7)]: Done  58 tasks      | elapsed: 36.3min\n",
      "[Parallel(n_jobs=7)]: Done  80 out of  80 | elapsed: 53.7min finished\n"
     ]
    },
    {
     "name": "stdout",
     "output_type": "stream",
     "text": [
      "9.83869450694\n",
      "{'learning_rate': 0.3, 'max_depth': 3, 'n_estimators': 500}\n"
     ]
    }
   ],
   "source": [
    "clf = SVR(gamma=0.001, epsilon=0.1, C=100, kernel='rbf')\n",
    "gb = GradientBoostingRegressor()\n",
    "gb_params = {'learning_rate': [0.3, 0.4, 0.5, 0.6, ],\n",
    "            'max_depth': [3, 4],\n",
    "             'n_estimators': [200, 300, 400, 500, 600]`````\n",
    "            #'criterion': ['friedman_mse', 'mse'],\n",
    "            #'max_features': [None, 'sqrt', 'log2']\n",
    "            }\n",
    "\n",
    "parameters = {'C': np.arange(1, 20) * 50, \n",
    "              'gamma': ['auto', 0.0005, 0.001, 0.005, 0.01, 0.02],\n",
    "              'epsilon': [0.005, 0.01, 0.02, 0.03, 0.05, 0.1]\n",
    "             }\n",
    "\n",
    "nn_params = {'hidden_layer_sizes': [(300,), (512,), (800,)]}\n",
    "\n",
    "nn = MLPRegressor(hidden_layer_sizes=(512, ))\n",
    "\n",
    "X_new = StandardScaler().fit_transform(X2)\n",
    "\n",
    "grid_clf = RandomizedSearchCV(gb, gb_params, scoring='neg_mean_squared_error', cv=8, verbose=5, n_jobs=7)\n",
    "grid_clf = grid_clf.fit(X_new, y2)\n",
    "print(np.sqrt(-grid_clf.best_score_))\n",
    "print(grid_clf.best_params_)"
   ]
  },
  {
   "cell_type": "code",
   "execution_count": 74,
   "metadata": {
    "collapsed": true
   },
   "outputs": [],
   "source": [
    "import math\n",
    "\n",
    "def reduce(x):\n",
    "    x = np.array([max(val, 0) for val in x])\n",
    "    return np.array([min(val, 100) for val in x])"
   ]
  },
  {
   "cell_type": "code",
   "execution_count": 75,
   "metadata": {
    "collapsed": false
   },
   "outputs": [
    {
     "name": "stdout",
     "output_type": "stream",
     "text": [
      "(1600, 354)\n"
     ]
    }
   ],
   "source": [
    "print(X.shape)\n",
    "svr_classifier = SVR(gamma=0.01, epsilon=0.02, C=100)\n",
    "svr_classifier = svr_classifier.fit(X, y)\n",
    "gb_classifier = GradientBoostingRegressor(n_estimators=500, learning_rate=0.3, max_depth=3, max_features=None)\n",
    "gb_classifier = gb_classifier.fit(X, y)\n",
    "\n",
    "#svr_classifier2 = SVR(gamma=0.01, epsilon=0.02, C=100)\n",
    "#svr_classifier2 = svr_classifier2.fit(X2, y2)\n",
    "#gb_classifier2 = GradientBoostingRegressor(n_estimators=500, learning_rate=0.3, max_depth=3, max_features=None)\n",
    "#gb_classifier2 = gb_classifier2.fit(X2, y2)\n",
    "#nn_classifier = MLPRegressor(hidden_layer_sizes=(512, ))\n",
    "#nn_classifier = nn_classifier.fit(X, y)"
   ]
  },
  {
   "cell_type": "code",
   "execution_count": 76,
   "metadata": {
    "collapsed": false
   },
   "outputs": [],
   "source": [
    "def predict(deck, player, classifier, classifier2):\n",
    "    players_features = [player == pl for pl in players]\n",
    "    players_rates = [ai_rates_dict[player]]\n",
    "    #players_time = [stats[player]]\n",
    "    players_dom = [dom[player]]\n",
    "\n",
    "    \n",
    "    heros_arr = np.zeros((len(test_heros), ))\n",
    "\n",
    "    for j, hero in enumerate(test_heros):\n",
    "        heros_arr[j] = deck.hero == hero\n",
    "\n",
    "\n",
    "    heros_arr = heros_arr.reshape(-1, 1)\n",
    "    players_x = np.array(players_features).reshape(-1, 1)\n",
    "    players_rates_x = np.array([players_rates]).reshape(-1, 1)\n",
    "    #players_time_x = np.array([players_time]).reshape(-1, 1)\n",
    "    players_dom_x = np.array([players_dom]).reshape(-1, 1)\n",
    "    features_x = get_aggregated_features([deck])\n",
    "    x_test = np.array(v.transform([deck.cards]))\n",
    "    x_test = x_test.reshape(-1, 1)\n",
    "    X_pred = np.concatenate([x_test, \n",
    "                             players_x, \n",
    "                             players_rates_x,\n",
    "                             players_dom_x,\n",
    "                             #players_time_x,\n",
    "                             features_x,\n",
    "                             heros_arr])\n",
    "    #print(X_pred.shape)\n",
    "    X_pred = X_pred.reshape(1, -1)\n",
    "    preds = classifier.predict(X_pred) * 0.8 + classifier2.predict(X_pred) * 0.2\n",
    "    return reduce(preds)"
   ]
  },
  {
   "cell_type": "code",
   "execution_count": 79,
   "metadata": {
    "collapsed": false
   },
   "outputs": [],
   "source": [
    "def predict2(deck, player, enemy, classifier, classifier2):\n",
    "    players_features = [player == pl for pl in players]\n",
    "    players_rates = [ai_rates_dict[player]]\n",
    "    #players_time = [stats[player]]\n",
    "    players_dom = [dom[player]]\n",
    "    \n",
    "    \n",
    "    heros_arr = np.zeros((len(test_heros), ))\n",
    "\n",
    "    for j, hero in enumerate(test_heros):\n",
    "        heros_arr[j] = deck.hero == hero\n",
    "        \n",
    "    enemy_arr = np.zeros((len(test_heros), ))\n",
    "\n",
    "    for j, hero in enumerate(test_heros):\n",
    "        enemy_arr[j] = enemy == hero\n",
    "\n",
    "    heros_arr = heros_arr.reshape(-1, 1)\n",
    "    enemy_arr = enemy_arr.reshape(-1, 1)\n",
    "    players_x = np.array(players_features).reshape(-1, 1)\n",
    "    players_rates_x = np.array([players_rates]).reshape(-1, 1)\n",
    "    #players_time_x = np.array([players_time]).reshape(-1, 1)\n",
    "    players_dom_x = np.array([players_dom]).reshape(-1, 1)\n",
    "    features_x = get_aggregated_features([deck])\n",
    "    x_test = np.array(v.transform([deck.cards]))\n",
    "    x_test = x_test.reshape(-1, 1)\n",
    "    X_pred = np.concatenate([x_test, \n",
    "                             players_x, \n",
    "                             players_rates_x,\n",
    "                             players_dom_x,\n",
    "                             #players_time_x,\n",
    "                             features_x,\n",
    "                             heros_arr,\n",
    "                             enemy_arr])\n",
    "    X_pred = X_pred.reshape(1, -1)\n",
    "    preds = classifier2.predict(X_pred)# * 0.8 + classifier2.predict(X_pred) * 0.2\n",
    "    return reduce(preds)\n"
   ]
  },
  {
   "cell_type": "code",
   "execution_count": 80,
   "metadata": {
    "collapsed": false
   },
   "outputs": [
    {
     "name": "stdout",
     "output_type": "stream",
     "text": [
      "(1600, 354)\n",
      "    deck_name player   win_rate\n",
      "0  deck244804     A1  24.886603\n",
      "1  deck124802     A1  43.886638\n",
      "2  deck687350     A1  46.949983\n",
      "3  deck517728     A1  46.840413\n",
      "4  deck130762     A1  39.030355\n"
     ]
    }
   ],
   "source": [
    "\n",
    "def get_test_decks_list():\n",
    "    test_decks = []\n",
    "\n",
    "    with open(test_path, 'r') as decks:\n",
    "        for line in decks.readlines():\n",
    "            json_info = json.loads(line)\n",
    "            test_decks.append(json_info['deckName'][0])\n",
    "    return test_decks\n",
    "\n",
    "test_decks_names = get_test_decks_list()\n",
    "\n",
    "def dump_results():\n",
    "    df_results = pd.DataFrame()\n",
    "    for player in players:\n",
    "        for deck_name in test_decks_names:\n",
    "            deck = test_decks[deck_name]\n",
    "            win_rate = predict(deck, player, svr_classifier, gb_classifier)[0]\n",
    "            df_results = df_results.append({'player': player, 'deck_name': deck_name, 'win_rate': win_rate}, \n",
    "                                           ignore_index=True)\n",
    "\n",
    "    print(df_results.head())\n",
    "    df_results.to_csv('data/test_results.csv', index=False, header=False, columns=['player', 'deck_name', 'win_rate'],\n",
    "                     sep=';')\n",
    "    return df_results\n",
    "\n",
    "test_heros = [deck.hero for deck in test_decks.values()]\n",
    "test_hero_counts = Counter(test_heros)\n",
    "hero_count = len(test_heros)\n",
    "test_heros = {deck.hero for deck in test_decks.values()}\n",
    "\n",
    "def dump_results2():\n",
    "    df_results = pd.DataFrame()\n",
    "    for player in players:\n",
    "        for deck_name in test_decks_names:\n",
    "            deck = test_decks[deck_name]\n",
    "            win_rate = 0\n",
    "            for enemy in heros:\n",
    "                win_rate += predict2(deck, player, enemy, svr_classifier2, gb_classifier2)[0] * test_hero_counts[enemy]\n",
    "            win_rate /= hero_count\n",
    "            df_results = df_results.append({'player': player, 'deck_name': deck_name, 'win_rate': win_rate}, \n",
    "                                           ignore_index=True)\n",
    "\n",
    "    print(df_results.head())\n",
    "    df_results.to_csv('data/test_results3.csv', index=False, header=False, columns=['player', 'deck_name', 'win_rate'],\n",
    "                     sep=';')\n",
    "    return df_results\n",
    "\n",
    "print(X.shape)\n",
    "df_results = dump_results()"
   ]
  },
  {
   "cell_type": "code",
   "execution_count": null,
   "metadata": {
    "collapsed": false
   },
   "outputs": [],
   "source": []
  },
  {
   "cell_type": "code",
   "execution_count": 55,
   "metadata": {
    "collapsed": false
   },
   "outputs": [
    {
     "data": {
      "image/png": "[encoded data removed]",
      "text/plain": [
       "<matplotlib.figure.Figure at 0x234e8a8c9e8>"
      ]
     },
     "metadata": {},
     "output_type": "display_data"
    }
   ],
   "source": [
    "import matplotlib.pyplot as plt\n",
    "%matplotlib inline\n",
    "plt.hist(df_results['win_rate'])\n",
    "plt.show()"
   ]
  },
  {
   "cell_type": "code",
   "execution_count": 34,
   "metadata": {
    "collapsed": false
   },
   "outputs": [
    {
     "name": "stdout",
     "output_type": "stream",
     "text": [
      "51.91216582456974\n"
     ]
    }
   ],
   "source": [
    "print(np.mean(df_results['win_rate']))"
   ]
  },
  {
   "cell_type": "code",
   "execution_count": 54,
   "metadata": {
    "collapsed": false
   },
   "outputs": [
    {
     "name": "stdout",
     "output_type": "stream",
     "text": [
      "Counter({'Paladin': 268, 'Hunter': 264, 'Warlock': 264, 'Rogue': 144, 'Priest': 136, 'Mage': 136, 'Druid': 132, 'Warrior': 128, 'Shaman': 128})\n"
     ]
    }
   ],
   "source": [
    "heros = [deck.hero for deck in tr_decks]\n",
    "tr_hero_counts = Counter(heros)\n",
    "print(tr_hero_counts)"
   ]
  },
  {
   "cell_type": "code",
   "execution_count": 47,
   "metadata": {
    "collapsed": false
   },
   "outputs": [
    {
     "name": "stdout",
     "output_type": "stream",
     "text": [
      "Counter({'Hunter': 33, 'Warlock': 33, 'Paladin': 32, 'Warrior': 19, 'Druid': 18, 'Shaman': 18, 'Priest': 17, 'Mage': 16, 'Rogue': 14})\n",
      "200\n"
     ]
    }
   ],
   "source": [
    "test_heros = [deck.hero for deck in test_decks.values()]\n",
    "test_hero_counts = Counter(test_heros)\n",
    "print(test_hero_counts)"
   ]
  },
  {
   "cell_type": "code",
   "execution_count": null,
   "metadata": {
    "collapsed": true
   },
   "outputs": [],
   "source": []
  },
  {
   "cell_type": "code",
   "execution_count": null,
   "metadata": {
    "collapsed": true
   },
   "outputs": [],
   "source": []
  },
  {
   "cell_type": "code",
   "execution_count": null,
   "metadata": {
    "collapsed": true
   },
   "outputs": [],
   "source": []
  }
 ],
 "metadata": {
  "anaconda-cloud": {},
  "kernelspec": {
   "display_name": "Python [default]",
   "language": "python",
   "name": "python3"
  },
  "language_info": {
   "codemirror_mode": {
    "name": "ipython",
    "version": 3
   },
   "file_extension": ".py",
   "mimetype": "text/x-python",
   "name": "python",
   "nbconvert_exporter": "python",
   "pygments_lexer": "ipython3",
   "version": "3.5.2"
  }
 },
 "nbformat": 4,
 "nbformat_minor": 2
}
