{
 "cells": [
  {
   "cell_type": "code",
   "execution_count": 1,
   "metadata": {},
   "outputs": [],
   "source": [
    "import json\n",
    "from collections import Counter\n",
    "\n",
    "class Deck:\n",
    "    def __init__(self, info):\n",
    "        self.name = info['deckName'][0]\n",
    "        self.hero = info['hero'][0]\n",
    "        self.cards = Counter()\n",
    "        for name, [count] in info['cards'].items():\n",
    "            self.cards[name] = count\n",
    "\n",
    "training_path = 'data/trainingDecks.json'\n",
    "test_path = 'data/testDecks.json'\n",
    "            \n",
    "def get_decks_dict(path):\n",
    "    decks_dict = dict()    \n",
    "    \n",
    "    with open(path, 'r') as decks:\n",
    "        for line in decks.readlines():\n",
    "            json_info = json.loads(line)\n",
    "            decks_dict[json_info['deckName'][0]] = Deck(json_info)\n",
    "    return decks_dict\n",
    "\n",
    "training_decks = get_decks_dict(training_path)\n",
    "test_decks = get_decks_dict(test_path)"
   ]
  },
  {
   "cell_type": "code",
   "execution_count": 2,
   "metadata": {},
   "outputs": [
    {
     "name": "stdout",
     "output_type": "stream",
     "text": [
      "         id bot1       deck1 bot2       deck2  result\n",
      "0  100001.0   A1  deck113225   A1  deck731599       0\n",
      "1  100002.0   A1  deck694943   A1  deck929572       1\n",
      "2  100003.0   A1  deck182567   A1  deck525929       0\n",
      "3  100004.0   A1  deck219364   A1  deck757429       1\n",
      "4  100005.0   A1  deck826229   A1  deck337123       1\n",
      "299680\n"
     ]
    }
   ],
   "source": [
    "import pandas as pd\n",
    "training_games = pd.read_csv('data/training_games.csv', delimiter=';', \n",
    "                             names=['id', 'bot1', 'deck1', 'bot2', 'deck2', 'result'])\n",
    "training_games['result'] = training_games['result'] == 'PLAYER_1 WON'\n",
    "training_games['result'] = training_games['result'].astype(int)\n",
    "print(training_games.head())\n",
    "print(len(training_games))"
   ]
  },
  {
   "cell_type": "code",
   "execution_count": 3,
   "metadata": {},
   "outputs": [
    {
     "name": "stdout",
     "output_type": "stream",
     "text": [
      "{'Mage', 'Shaman', 'Warlock', 'Druid', 'Priest', 'Paladin', 'Rogue', 'Hunter', 'Warrior'}\n"
     ]
    }
   ],
   "source": [
    "heros = {deck.hero for deck in training_decks.values()}\n",
    "print(heros)"
   ]
  },
  {
   "cell_type": "code",
   "execution_count": 15,
   "metadata": {},
   "outputs": [
    {
     "name": "stdout",
     "output_type": "stream",
     "text": [
      "  player        deck    result\n",
      "0     A1  deck100087  0.291667\n",
      "1     A1  deck101443  0.276627\n",
      "2     A1  deck102280  0.550613\n",
      "3     A1  deck104259  0.404459\n",
      "4     A1  deck105300  0.397929\n"
     ]
    }
   ],
   "source": [
    "train_df = training_games.get(['bot1', 'deck1', 'result']).rename(index=str, columns={'bot1': 'player', 'deck1': 'deck'})\n",
    "train_df['result'] = 1 - train_df['result']\n",
    "train_df = train_df.append([training_games.get(['bot2', 'deck2', 'result']).rename(index=str, columns={\n",
    "    'bot2': 'player', 'deck2': 'deck'})])\n",
    "train_df = train_df.groupby(['player', 'deck'])['result'].mean()\n",
    "train_df = train_df.reset_index()\n",
    "print(train_df.head())"
   ]
  },
  {
   "cell_type": "code",
   "execution_count": 16,
   "metadata": {},
   "outputs": [],
   "source": [
    "from sklearn.feature_extraction import DictVectorizer\n",
    "v = DictVectorizer(sparse=False)\n",
    "D = [deck.cards for deck in training_decks.values()]\n",
    "X = v.fit_transform(D)\n",
    "\n"
   ]
  },
  {
   "cell_type": "code",
   "execution_count": 17,
   "metadata": {},
   "outputs": [],
   "source": [
    "import numpy as np\n",
    "\n",
    "players = ['A1', 'A2', 'B1', 'B2']\n",
    "\n",
    "players_features = [(train_df['player'] == pl).as_matrix() for pl in players]\n",
    "\n",
    "x = np.array([v.transform(training_decks[deck_name].cards)[0] for deck_name in train_df['deck']])"
   ]
  },
  {
   "cell_type": "code",
   "execution_count": 18,
   "metadata": {},
   "outputs": [],
   "source": [
    "players_x = np.stack(players_features).T\n",
    "X = np.concatenate([x, players_x], axis=1)\n",
    "y = train_df['result'].as_matrix()"
   ]
  },
  {
   "cell_type": "code",
   "execution_count": 19,
   "metadata": {},
   "outputs": [
    {
     "name": "stdout",
     "output_type": "stream",
     "text": [
      "(1600, 334)\n",
      "(1600,)\n"
     ]
    }
   ],
   "source": [
    "print(X.shape)\n",
    "print(y.shape)"
   ]
  },
  {
   "cell_type": "code",
   "execution_count": 20,
   "metadata": {},
   "outputs": [],
   "source": [
    "from sklearn.model_selection import train_test_split\n",
    "X_train, X_val, y_train, y_val = train_test_split(X, y, test_size=0.2, random_state=42)"
   ]
  },
  {
   "cell_type": "code",
   "execution_count": 96,
   "metadata": {},
   "outputs": [],
   "source": [
    "from sklearn.linear_model import LinearRegression, Ridge\n",
    "from sklearn.ensemble import RandomForestRegressor, GradientBoostingRegressor\n",
    "from sklearn.svm import SVR\n",
    "logit = Ridge()\n",
    "logit = logit.fit(X_train, y_train)"
   ]
  },
  {
   "cell_type": "code",
   "execution_count": 97,
   "metadata": {},
   "outputs": [],
   "source": [
    "import math\n",
    "\n",
    "def reduce(x):\n",
    "    x = np.array([max(val, 0) for val in x])\n",
    "    return np.array([min(val, 100) for val in x])"
   ]
  },
  {
   "cell_type": "code",
   "execution_count": 98,
   "metadata": {},
   "outputs": [
    {
     "name": "stdout",
     "output_type": "stream",
     "text": [
      "4.477018192940878\n"
     ]
    }
   ],
   "source": [
    "from sklearn.metrics import mean_squared_error\n",
    "y_pred = reduce(logit.predict(X_val)) * 100\n",
    "print(np.sqrt(mean_squared_error(y_val * 100, y_pred)))"
   ]
  },
  {
   "cell_type": "code",
   "execution_count": 99,
   "metadata": {},
   "outputs": [],
   "source": [
    "def predict(deck, player):\n",
    "    players_features = [player == pl for pl in players]\n",
    "    x_test = np.array(v.transform(deck.cards)[0])\n",
    "    x_test = np.concatenate([x_test, np.array(players_features)])\n",
    "    return reduce(logit.predict([x_test])) * 100\n"
   ]
  },
  {
   "cell_type": "code",
   "execution_count": 100,
   "metadata": {},
   "outputs": [
    {
     "name": "stdout",
     "output_type": "stream",
     "text": [
      "    deck_name player   win_rate\n",
      "0  deck244804     A1  19.529482\n",
      "1  deck124802     A1  39.828483\n",
      "2  deck687350     A1  40.864186\n",
      "3  deck517728     A1  47.513237\n",
      "4  deck130762     A1  41.953465\n"
     ]
    }
   ],
   "source": [
    "\n",
    "def get_test_decks_list():\n",
    "    test_decks = []\n",
    "\n",
    "    with open(test_path, 'r') as decks:\n",
    "        for line in decks.readlines():\n",
    "            json_info = json.loads(line)\n",
    "            test_decks.append(json_info['deckName'][0])\n",
    "    return test_decks\n",
    "\n",
    "test_decks_names = get_test_decks_list()\n",
    "\n",
    "def dump_results():\n",
    "    df_results = pd.DataFrame()\n",
    "    for player in players:\n",
    "        for deck_name in test_decks_names:\n",
    "            deck = test_decks[deck_name]\n",
    "            win_rate = predict(deck, player)[0]\n",
    "            df_results = df_results.append({'player': player, 'deck_name': deck_name, 'win_rate': win_rate}, \n",
    "                                           ignore_index=True)\n",
    "\n",
    "    print(df_results.head())\n",
    "    df_results.to_csv('data/test_results.csv', index=False, header=False, columns=['player', 'deck_name', 'win_rate'],\n",
    "                     sep=';')\n",
    "\n",
    "dump_results()"
   ]
  },
  {
   "cell_type": "code",
   "execution_count": null,
   "metadata": {},
   "outputs": [],
   "source": []
  },
  {
   "cell_type": "code",
   "execution_count": null,
   "metadata": {},
   "outputs": [],
   "source": []
  }
 ],
 "metadata": {
  "kernelspec": {
   "display_name": "Python 3",
   "language": "python",
   "name": "python3"
  },
  "language_info": {
   "codemirror_mode": {
    "name": "ipython",
    "version": 3
   },
   "file_extension": ".py",
   "mimetype": "text/x-python",
   "name": "python",
   "nbconvert_exporter": "python",
   "pygments_lexer": "ipython3",
   "version": "3.6.4"
  }
 },
 "nbformat": 4,
 "nbformat_minor": 2
}
