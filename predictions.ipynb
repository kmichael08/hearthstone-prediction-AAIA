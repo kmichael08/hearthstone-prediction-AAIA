{
 "cells": [
  {
   "cell_type": "code",
   "execution_count": 1,
   "metadata": {},
   "outputs": [],
   "source": [
    "import json\n",
    "from collections import Counter\n",
    "\n",
    "class Deck:\n",
    "    def __init__(self, info):\n",
    "        self.name = info['deckName'][0]\n",
    "        self.hero = info['hero'][0]\n",
    "        self.cards = Counter()\n",
    "        for name, [count] in info['cards'].items():\n",
    "            self.cards[name] = count\n",
    "\n",
    "training_path = 'data/trainingDecks.json'\n",
    "test_path = 'data/testDecks.json'\n",
    "            \n",
    "def get_decks_dict(path):\n",
    "    decks_dict = dict()    \n",
    "    \n",
    "    with open(path, 'r') as decks:\n",
    "        for line in decks.readlines():\n",
    "            json_info = json.loads(line)\n",
    "            decks_dict[json_info['deckName'][0]] = Deck(json_info)\n",
    "    return decks_dict\n",
    "\n",
    "training_decks = get_decks_dict(training_path)\n",
    "test_decks = get_decks_dict(test_path)"
   ]
  },
  {
   "cell_type": "code",
   "execution_count": 2,
   "metadata": {},
   "outputs": [
    {
     "name": "stdout",
     "output_type": "stream",
     "text": [
      "         id bot1       deck1 bot2       deck2  result\n",
      "0  100001.0   A1  deck113225   A1  deck731599       0\n",
      "1  100002.0   A1  deck694943   A1  deck929572       1\n",
      "2  100003.0   A1  deck182567   A1  deck525929       0\n",
      "3  100004.0   A1  deck219364   A1  deck757429       1\n",
      "4  100005.0   A1  deck826229   A1  deck337123       1\n",
      "299680\n"
     ]
    }
   ],
   "source": [
    "import pandas as pd\n",
    "training_games = pd.read_csv('data/training_games.csv', delimiter=';', \n",
    "                             names=['id', 'bot1', 'deck1', 'bot2', 'deck2', 'result'])\n",
    "training_games['result'] = training_games['result'] == 'PLAYER_1 WON'\n",
    "training_games['result'] = training_games['result'].astype(int)\n",
    "print(training_games.head())\n",
    "print(len(training_games))"
   ]
  },
  {
   "cell_type": "code",
   "execution_count": 3,
   "metadata": {},
   "outputs": [
    {
     "name": "stdout",
     "output_type": "stream",
     "text": [
      "{'Mage', 'Shaman', 'Warlock', 'Druid', 'Priest', 'Paladin', 'Rogue', 'Hunter', 'Warrior'}\n"
     ]
    }
   ],
   "source": [
    "heros = {deck.hero for deck in training_decks.values()}\n",
    "print(heros)"
   ]
  },
  {
   "cell_type": "code",
   "execution_count": 15,
   "metadata": {},
   "outputs": [
    {
     "name": "stdout",
     "output_type": "stream",
     "text": [
      "  player        deck    result\n",
      "0     A1  deck100087  0.291667\n",
      "1     A1  deck101443  0.276627\n",
      "2     A1  deck102280  0.550613\n",
      "3     A1  deck104259  0.404459\n",
      "4     A1  deck105300  0.397929\n"
     ]
    }
   ],
   "source": [
    "train_df = training_games.get(['bot1', 'deck1', 'result']).rename(index=str, columns={'bot1': 'player', 'deck1': 'deck'})\n",
    "train_df['result'] = 1 - train_df['result']\n",
    "train_df = train_df.append([training_games.get(['bot2', 'deck2', 'result']).rename(index=str, columns={\n",
    "    'bot2': 'player', 'deck2': 'deck'})])\n",
    "train_df = train_df.groupby(['player', 'deck'])['result'].mean()\n",
    "train_df = train_df.reset_index()\n",
    "print(train_df.head())"
   ]
  },
  {
   "cell_type": "code",
   "execution_count": 322,
   "metadata": {},
   "outputs": [],
   "source": [
    "from sklearn.feature_extraction import DictVectorizer\n",
    "v = DictVectorizer(sparse=False)\n",
    "D = [deck.cards for deck in training_decks.values()]\n",
    "X = v.fit_transform(D)\n",
    "\n"
   ]
  },
  {
   "cell_type": "code",
   "execution_count": 323,
   "metadata": {},
   "outputs": [],
   "source": [
    "import numpy as np\n",
    "\n",
    "players = ['A1', 'A2', 'B1', 'B2']\n",
    "\n",
    "players_features = [(train_df['player'] == pl).as_matrix() for pl in players]\n",
    "\n",
    "x = np.array([v.transform(training_decks[deck_name].cards)[0] for deck_name in train_df['deck']])"
   ]
  },
  {
   "cell_type": "code",
   "execution_count": 324,
   "metadata": {},
   "outputs": [],
   "source": [
    "players_x = np.stack(players_features).T\n",
    "X = np.concatenate([x, players_x], axis=1)\n",
    "y = train_df['result'].as_matrix()"
   ]
  },
  {
   "cell_type": "code",
   "execution_count": 325,
   "metadata": {},
   "outputs": [
    {
     "name": "stdout",
     "output_type": "stream",
     "text": [
      "(1600, 334)\n",
      "(1600,)\n"
     ]
    }
   ],
   "source": [
    "print(X.shape)\n",
    "print(y.shape)"
   ]
  },
  {
   "cell_type": "markdown",
   "metadata": {},
   "source": [
    "**shufflujemy dataset**"
   ]
  },
  {
   "cell_type": "code",
   "execution_count": 326,
   "metadata": {},
   "outputs": [],
   "source": [
    "import random\n",
    "indices = random.sample(range(len(y)), len(y))\n",
    "X = X[indices]\n",
    "y = y[indices]"
   ]
  },
  {
   "cell_type": "code",
   "execution_count": 327,
   "metadata": {},
   "outputs": [],
   "source": [
    "from sklearn.model_selection import train_test_split\n",
    "X_train, X_val, y_train, y_val = train_test_split(X, y, test_size=0.2, random_state=42)"
   ]
  },
  {
   "cell_type": "code",
   "execution_count": 328,
   "metadata": {},
   "outputs": [
    {
     "name": "stdout",
     "output_type": "stream",
     "text": [
      "(1280, 334) (1280,)\n",
      "[[0. 0. 0. ... 0. 1. 0.]\n",
      " [0. 0. 0. ... 0. 0. 0.]\n",
      " [0. 0. 0. ... 0. 0. 0.]\n",
      " ...\n",
      " [0. 0. 2. ... 0. 0. 1.]\n",
      " [0. 0. 0. ... 1. 0. 0.]\n",
      " [0. 2. 0. ... 0. 0. 0.]] [0.60206718 0.64046579 0.29464286 ... 0.29230769 0.47859922 0.60349854]\n"
     ]
    }
   ],
   "source": [
    "print(X_train.shape, y_train.shape)\n",
    "print(X_train, y_train)"
   ]
  },
  {
   "cell_type": "code",
   "execution_count": 329,
   "metadata": {},
   "outputs": [],
   "source": [
    "from sklearn.linear_model import LinearRegression, Ridge, LogisticRegression\n",
    "from sklearn.ensemble import RandomForestRegressor, GradientBoostingRegressor\n",
    "from sklearn.neighbors import KNeighborsRegressor\n",
    "from sklearn.svm import SVR, LinearSVR\n",
    "#logit = LinearSVR(C=0.02)\n",
    "logit = Ridge()\n",
    "logit = logit.fit(X_train, y_train)"
   ]
  },
  {
   "cell_type": "code",
   "execution_count": 330,
   "metadata": {},
   "outputs": [],
   "source": [
    "import math\n",
    "\n",
    "def reduce(x):\n",
    "    x = np.array([max(val, 0) for val in x])\n",
    "    return np.array([min(val, 100) for val in x])"
   ]
  },
  {
   "cell_type": "code",
   "execution_count": 331,
   "metadata": {},
   "outputs": [
    {
     "name": "stdout",
     "output_type": "stream",
     "text": [
      "(320, 334) (320,)\n"
     ]
    }
   ],
   "source": [
    "print(X_val.shape, y_val.shape)"
   ]
  },
  {
   "cell_type": "code",
   "execution_count": 332,
   "metadata": {},
   "outputs": [
    {
     "name": "stdout",
     "output_type": "stream",
     "text": [
      "4.8608002828731784\n"
     ]
    }
   ],
   "source": [
    "from sklearn.metrics import mean_squared_error\n",
    "y_pred = reduce(logit.predict(X_val) * 100)\n",
    "print(np.sqrt(mean_squared_error(y_val * 100, y_pred)))"
   ]
  },
  {
   "cell_type": "code",
   "execution_count": 333,
   "metadata": {},
   "outputs": [
    {
     "name": "stdout",
     "output_type": "stream",
     "text": [
      "[43.35660034 57.79756569 47.5376503  50.85760019 47.25015582 36.93754096\n",
      " 38.84913823 40.77585944 43.62689715 53.59780575 44.02455764 23.54372743\n",
      " 31.91962448 56.55714867 26.59351344 68.14303652 52.80241169 46.62457448\n",
      " 54.05256683 43.27574898 66.05754856 39.39199878 49.21857557 36.87423435\n",
      " 48.89119867 60.2898551  61.47515969 45.46573744 44.56227187 39.47004384\n",
      " 38.92042381 56.14942734 48.08464296 71.1908336  23.09330567 60.57301231\n",
      " 51.29750006 56.49639987 32.1532341  48.06488493 55.29004048 64.91488554\n",
      " 38.06721028 57.31902118 61.43881056 59.4449072  64.00207268 51.04512104\n",
      " 44.67878089 59.2872     49.17104625 69.9163602  43.84557869 38.30268639\n",
      " 61.10039238 53.83242504 77.43739572 40.49983134 59.41576123 62.14130113\n",
      " 35.76194151 42.59351503 69.82280142 59.88306931 42.14188884 66.32362736\n",
      " 68.51754258 33.25420752 47.77209015 56.91702257 61.6287305  74.74146404\n",
      " 78.54030128 77.2559925  71.4521599  69.30582243 47.32310854 54.59584103\n",
      " 62.42656833 64.46986148 49.69731765 48.088082   46.75152578 44.62414587\n",
      " 61.52355559 68.49119531 51.98977698 53.64102358 51.04308388 32.36147071\n",
      " 46.0022638  53.3070359  56.19770636 61.64551102 44.90487048 45.10885427\n",
      " 49.00517176 49.47423948 60.91237336 52.55764768 20.74012491 52.91502834\n",
      " 55.17907354 70.74764747 45.276044   42.1667554  23.14262884 50.13081126\n",
      " 49.06202278 55.00619256 59.11915059 69.45265997 45.13757961 45.27666352\n",
      " 55.97600626 65.32271867 42.70324914 51.61777673 40.59634266 58.36337642\n",
      " 44.45112172 45.24399402 68.9670289  46.39573763 37.83120468 42.37148203\n",
      " 32.67511921 66.77223049 57.56004237 39.95287713 47.54045126 44.4807171\n",
      " 13.51378988 82.29735008 67.23116273 60.25257972 57.87033319 66.86579741\n",
      " 66.79989671 41.47158917 50.79691585 42.89944931 69.78957113 61.31694484\n",
      " 75.90581393 33.24871169 64.4692712  66.50091963 66.59504309 40.26750884\n",
      " 74.03377629 57.19265745 51.95097385 65.55056134 48.26108102 54.7912344\n",
      " 38.42383702 39.30813246 62.24875912 60.41886639 58.71374544 72.98847719\n",
      " 53.11734893 45.49934992 50.94407475 75.38395486 46.64363438 69.23142839\n",
      " 52.66895349 53.47051964 67.46002365 70.46363871 50.83879223 37.18238231\n",
      " 69.25025887 24.17659483 29.1617711  36.6075717  59.68932809 56.52624405\n",
      " 58.64129004 68.22576856 62.02427214 56.14531048 56.52316026 63.16227615\n",
      " 59.6124632  64.95138064 48.2888133  41.63246096 56.16409388 53.47755876\n",
      " 61.56586392 63.4377075  37.6690339  66.27099888 59.69122378 32.26150787\n",
      " 52.23623881 65.66672233 51.94480168 53.51964653 35.52251057 63.50206491\n",
      " 55.5301512  63.10087059 46.04207865 53.67950587 50.17382446 50.10247106\n",
      " 72.5917844  53.7781135  67.54006425 28.64009461 58.1007926  46.81845587\n",
      " 66.65975242 50.6185884  41.82491477 54.59348315 72.14876513 63.08661811\n",
      " 38.8545175  63.6175532  46.34575134 32.16278601 47.52852873 39.25832416\n",
      " 51.28557754 43.6120844  61.85784141 37.03523385 31.39331649 57.37970111\n",
      " 62.75017235 63.50076813 43.40992001 52.82908592 58.94259032 46.74261566\n",
      " 60.71942114 27.30077624 57.24296047 73.35543911 48.80626934 40.60617914\n",
      " 58.55871965 53.87478815 58.76934044 54.68511103 46.08444043 45.85879223\n",
      " 26.23918453 62.30387756 43.06140706 35.73595306 40.54163126 57.77946743\n",
      " 73.82484598 50.21705661 48.36739034 61.28446093 48.24580009 49.03469863\n",
      " 47.90895029 45.86155265 69.74197477 67.1068361  66.91585691 45.36514465\n",
      " 67.19475631 25.88466989 66.49818727 31.96894764 43.1269201  46.39057266\n",
      " 59.34293649 11.12048281 70.36323295 63.36951201 37.6120041  47.94293361\n",
      " 52.40704507 53.06983847 50.83643434 56.59977195 42.22520675 70.71974676\n",
      " 74.62480653 65.98442015 39.21734059 57.15647465 64.19952022 78.2088769\n",
      " 45.88707898 43.8974846  62.7564492  42.07503049 37.3714932  67.86943131\n",
      " 34.04779717 57.42281258 60.05277243 37.29186988 54.88424124 53.36296831\n",
      " 45.47102781 33.79166211 52.98433682 54.2530242  49.91569703 56.22371324\n",
      " 48.33234613 37.46641341 55.52603475 44.20402526 48.68471402 44.4785262\n",
      " 64.12079676 36.74278254]\n",
      "[41.54589372 62.76595745 47.54098361 58.07228916 60.53921569 35.71428571\n",
      " 35.07042254 40.10695187 43.62139918 53.84615385 43.68421053 26.953125\n",
      " 32.36607143 58.91891892 33.02325581 74.05063291 55.38461538 45.11627907\n",
      " 65.17857143 34.04580153 62.5        41.09149278 53.88739946 33.53293413\n",
      " 48.14814815 59.90639626 64.28571429 44.7284345  41.99475066 45.95959596\n",
      " 37.79411765 55.73333333 45.27472527 69.61722488 27.08333333 63.95348837\n",
      " 57.64705882 56.32911392 37.54385965 49.14196568 46.54545455 64.56692913\n",
      " 31.39534884 60.82317073 62.80864198 56.71981777 63.49614396 52.54237288\n",
      " 42.39130435 61.32596685 57.48898678 68.9119171  50.19305019 43.53846154\n",
      " 58.63636364 54.24836601 78.82352941 41.62162162 62.80487805 64.4245142\n",
      " 38.69918699 40.9252669  75.75757576 57.63779528 39.11764706 65.28117359\n",
      " 66.1498708  33.88704319 55.91133005 55.24296675 67.73399015 74.15730337\n",
      " 73.30508475 76.50273224 80.70175439 69.6        49.51140065 40.8045977\n",
      " 61.29032258 63.25301205 54.20168067 44.55696203 44.33962264 40.3030303\n",
      " 61.32596685 71.4953271  50.18587361 60.31128405 61.00628931 32.92307692\n",
      " 45.38690476 65.85365854 42.77108434 67.08074534 40.88820827 44.44444444\n",
      " 59.14634146 52.86532951 59.90220049 52.69709544 22.37442922 43.42629482\n",
      " 55.19125683 71.89189189 42.85714286 41.64179104 24.7706422  41.73228346\n",
      " 53.33333333 59.91735537 57.75729647 69.3877551  47.12643678 49.02597403\n",
      " 60.08230453 65.55023923 48.07692308 56.60377358 44.0625     60.64356436\n",
      " 43.2160804  54.54545455 70.63106796 45.37815126 39.28571429 40.5\n",
      " 26.44836272 67.37967914 54.71698113 39.85148515 38.97058824 56.11192931\n",
      " 14.50151057 78.60962567 67.78242678 60.8365019  58.77616747 65.88235294\n",
      " 64.84375    38.16254417 55.80246914 43.5508346  72.51461988 58.91891892\n",
      " 81.93548387 36.15023474 63.98305085 58.83668904 65.17189836 41.93548387\n",
      " 75.         54.34131737 55.43071161 74.1697417  48.73096447 59.65189873\n",
      " 40.48991354 38.07266983 53.57142857 61.42322097 58.56929955 79.54545455\n",
      " 56.08108108 50.56910569 53.0075188  75.16778523 48.98550725 72.38493724\n",
      " 50.6097561  46.83840749 76.74418605 70.         26.5625     36.8902439\n",
      " 68.52589641 26.77165354 31.12840467 37.28549142 57.14285714 40.562249\n",
      " 48.125      66.66666667 65.36144578 53.52323838 53.1598513  63.35078534\n",
      " 67.56756757 65.55023923 42.58555133 51.74825175 47.97297297 52.20125786\n",
      " 54.91803279 63.77358491 39.13043478 62.53298153 58.4        25.28089888\n",
      " 55.76923077 55.69105691 44.20289855 53.70101597 37.84461153 60.32934132\n",
      " 55.47445255 61.98473282 47.25806452 53.11004785 50.25641026 46.06741573\n",
      " 73.68421053 53.74045802 67.72486772 30.86053412 60.85271318 49.05660377\n",
      " 62.93103448 48.79227053 39.39393939 51.80722892 74.90039841 62.94820717\n",
      " 32.26744186 63.4032634  39.29098966 36.97183099 51.90839695 37.40685544\n",
      " 51.74418605 46.77419355 65.59139785 42.79835391 35.10028653 58.04597701\n",
      " 61.84738956 57.86516854 42.49249249 51.87969925 61.62790698 48.828125\n",
      " 65.75875486 27.56756757 52.75       70.         42.55319149 43.10954064\n",
      " 59.62732919 65.17647059 65.16587678 50.22522523 46.46226415 44.00584795\n",
      " 25.19083969 55.17241379 47.15447154 35.36231884 40.57315234 61.72839506\n",
      " 77.70700637 42.35294118 59.87654321 63.56707317 45.48736462 50.89285714\n",
      " 44.97354497 46.95863747 72.45508982 66.50366748 68.44547564 43.57976654\n",
      " 70.14218009 27.61506276 60.77981651 28.02850356 47.89473684 39.80582524\n",
      " 59.64653903 18.09815951 71.13402062 63.27683616 35.79545455 43.77745242\n",
      " 53.78787879 61.9047619  41.36546185 51.79856115 36.19631902 62.25490196\n",
      " 74.85714286 64.68253968 36.09022556 63.37209302 67.58241758 79.28286853\n",
      " 43.08300395 30.46062407 61.91536748 47.98994975 40.47217538 68.73563218\n",
      " 32.304038   57.5        50.88757396 37.28813559 43.62934363 50.\n",
      " 44.20289855 34.63687151 59.375      52.97619048 55.48780488 53.82585752\n",
      " 42.12598425 37.81094527 66.58476658 42.61363636 36.44067797 43.41085271\n",
      " 65.34090909 34.55882353]\n"
     ]
    }
   ],
   "source": [
    "print(y_pred)\n",
    "print(y_val * 100)"
   ]
  },
  {
   "cell_type": "code",
   "execution_count": 216,
   "metadata": {},
   "outputs": [],
   "source": [
    "final_classifier = Ridge()\n",
    "final_classifier = final_classifier.fit(X, y)"
   ]
  },
  {
   "cell_type": "code",
   "execution_count": 217,
   "metadata": {},
   "outputs": [],
   "source": [
    "def predict(deck, player):\n",
    "    players_features = [player == pl for pl in players]\n",
    "    x_test = np.array(v.transform(deck.cards)[0])\n",
    "    x_test = np.concatenate([x_test, np.array(players_features)])\n",
    "    return reduce(final_classifier.predict([x_test])) * 100\n"
   ]
  },
  {
   "cell_type": "code",
   "execution_count": 218,
   "metadata": {},
   "outputs": [
    {
     "name": "stdout",
     "output_type": "stream",
     "text": [
      "    deck_name player   win_rate\n",
      "0  deck244804     A1  18.392592\n",
      "1  deck124802     A1  40.175071\n",
      "2  deck687350     A1  44.581154\n",
      "3  deck517728     A1  49.120459\n",
      "4  deck130762     A1  42.915430\n"
     ]
    }
   ],
   "source": [
    "\n",
    "def get_test_decks_list():\n",
    "    test_decks = []\n",
    "\n",
    "    with open(test_path, 'r') as decks:\n",
    "        for line in decks.readlines():\n",
    "            json_info = json.loads(line)\n",
    "            test_decks.append(json_info['deckName'][0])\n",
    "    return test_decks\n",
    "\n",
    "test_decks_names = get_test_decks_list()\n",
    "\n",
    "def dump_results():\n",
    "    df_results = pd.DataFrame()\n",
    "    for player in players:\n",
    "        for deck_name in test_decks_names:\n",
    "            deck = test_decks[deck_name]\n",
    "            win_rate = predict(deck, player)[0]\n",
    "            df_results = df_results.append({'player': player, 'deck_name': deck_name, 'win_rate': win_rate}, \n",
    "                                           ignore_index=True)\n",
    "\n",
    "    print(df_results.head())\n",
    "    df_results.to_csv('data/test_results.csv', index=False, header=False, columns=['player', 'deck_name', 'win_rate'],\n",
    "                     sep=';')\n",
    "\n",
    "dump_results()"
   ]
  },
  {
   "cell_type": "code",
   "execution_count": null,
   "metadata": {},
   "outputs": [],
   "source": []
  },
  {
   "cell_type": "code",
   "execution_count": null,
   "metadata": {},
   "outputs": [],
   "source": []
  }
 ],
 "metadata": {
  "kernelspec": {
   "display_name": "Python 3",
   "language": "python",
   "name": "python3"
  },
  "language_info": {
   "codemirror_mode": {
    "name": "ipython",
    "version": 3
   },
   "file_extension": ".py",
   "mimetype": "text/x-python",
   "name": "python",
   "nbconvert_exporter": "python",
   "pygments_lexer": "ipython3",
   "version": "3.6.4"
  }
 },
 "nbformat": 4,
 "nbformat_minor": 2
}
