{
 "cells": [
  {
   "cell_type": "code",
   "execution_count": 44,
   "metadata": {
    "collapsed": false
   },
   "outputs": [],
   "source": [
    "import json\n",
    "from collections import Counter\n",
    "\n",
    "class Deck:\n",
    "    def __init__(self, info):\n",
    "        self.name = info['deckName'][0]\n",
    "        self.hero = info['hero'][0]\n",
    "        self.cards = Counter()\n",
    "        for name, [count] in info['cards'].items():\n",
    "            self.cards[name] = count\n",
    "\n",
    "training_path = 'data/trainingDecks.json'\n",
    "test_path = 'data/testDecks.json'\n",
    "            \n",
    "def get_decks_dict(path):\n",
    "    decks_dict = dict()    \n",
    "    \n",
    "    with open(path, 'r') as decks:\n",
    "        for line in decks.readlines():\n",
    "            json_info = json.loads(line)\n",
    "            decks_dict[json_info['deckName'][0]] = Deck(json_info)\n",
    "    return decks_dict\n",
    "\n",
    "training_decks = get_decks_dict(training_path)\n",
    "test_decks = get_decks_dict(test_path)"
   ]
  },
  {
   "cell_type": "code",
   "execution_count": 45,
   "metadata": {
    "collapsed": false
   },
   "outputs": [
    {
     "name": "stdout",
     "output_type": "stream",
     "text": [
      "PLAYER_0 WON    165347\n",
      "PLAYER_1 WON    134333\n",
      "Name: result, dtype: int64\n"
     ]
    }
   ],
   "source": [
    "import pandas as pd\n",
    "training_games = pd.read_csv('data/training_games.csv', delimiter=';', \n",
    "                             names=['id', 'bot1', 'deck1', 'bot2', 'deck2', 'result'])\n",
    "print(training_games['result'].value_counts())"
   ]
  },
  {
   "cell_type": "code",
   "execution_count": 46,
   "metadata": {
    "collapsed": false
   },
   "outputs": [
    {
     "name": "stdout",
     "output_type": "stream",
     "text": [
      "         id bot1       deck1 bot2       deck2  result\n",
      "0  100001.0   A1  deck113225   A1  deck731599       0\n",
      "1  100002.0   A1  deck694943   A1  deck929572       1\n",
      "2  100003.0   A1  deck182567   A1  deck525929       0\n",
      "3  100004.0   A1  deck219364   A1  deck757429       1\n",
      "4  100005.0   A1  deck826229   A1  deck337123       1\n",
      "299680\n"
     ]
    }
   ],
   "source": [
    "import pandas as pd\n",
    "training_games = pd.read_csv('data/training_games.csv', delimiter=';', \n",
    "                             names=['id', 'bot1', 'deck1', 'bot2', 'deck2', 'result'])\n",
    "training_games['result'] = training_games['result'] == 'PLAYER_1 WON'\n",
    "training_games['result'] = training_games['result'].astype(int)\n",
    "print(training_games.head())\n",
    "print(len(training_games))"
   ]
  },
  {
   "cell_type": "code",
   "execution_count": 47,
   "metadata": {
    "collapsed": false
   },
   "outputs": [
    {
     "name": "stdout",
     "output_type": "stream",
     "text": [
      "         id bot1       deck1 bot2       deck2  result    hero1    hero2\n",
      "0  100001.0   A1  deck113225   A1  deck731599       0   Priest    Druid\n",
      "1  100002.0   A1  deck694943   A1  deck929572       1   Shaman  Paladin\n",
      "2  100003.0   A1  deck182567   A1  deck525929       0    Rogue  Paladin\n",
      "3  100004.0   A1  deck219364   A1  deck757429       1  Warlock  Paladin\n",
      "4  100005.0   A1  deck826229   A1  deck337123       1     Mage  Paladin\n"
     ]
    }
   ],
   "source": [
    "training_hero = training_games\n",
    "training_hero['hero1'] = training_hero.apply(lambda row: training_decks[row['deck1']].hero, axis=1)\n",
    "training_hero['hero2'] = training_hero.apply(lambda row: training_decks[row['deck2']].hero, axis=1)\n",
    "print(training_hero.head())"
   ]
  },
  {
   "cell_type": "code",
   "execution_count": 48,
   "metadata": {
    "collapsed": false
   },
   "outputs": [
    {
     "name": "stdout",
     "output_type": "stream",
     "text": [
      "{'Shaman', 'Hunter', 'Warlock', 'Rogue', 'Druid', 'Mage', 'Priest', 'Warrior', 'Paladin'}\n"
     ]
    }
   ],
   "source": [
    "heros = {deck.hero for deck in training_decks.values()}\n",
    "print(heros)"
   ]
  },
  {
   "cell_type": "markdown",
   "metadata": {},
   "source": [
    "### Let's look at the cards"
   ]
  },
  {
   "cell_type": "code",
   "execution_count": 146,
   "metadata": {
    "collapsed": false
   },
   "outputs": [
    {
     "name": "stdout",
     "output_type": "stream",
     "text": [
      "{'Shaman', 'Hunter', 'Warlock', 'Rogue', 'Druid', 'Mage', 'Priest', 'Warrior', 'Paladin'}\n"
     ]
    }
   ],
   "source": [
    "test_heros = {deck.hero for deck in test_decks.values()}\n",
    "print(test_heros)"
   ]
  },
  {
   "cell_type": "code",
   "execution_count": 50,
   "metadata": {
    "collapsed": true
   },
   "outputs": [],
   "source": [
    "train_cards = set()\n",
    "test_cards = set()\n",
    "for deck in training_decks.values():\n",
    "    train_cards.update(deck.cards.keys())\n",
    "\n",
    "for deck in test_decks.values():\n",
    "    test_cards.update(deck.cards.keys())"
   ]
  },
  {
   "cell_type": "code",
   "execution_count": 51,
   "metadata": {
    "collapsed": false
   },
   "outputs": [
    {
     "name": "stdout",
     "output_type": "stream",
     "text": [
      "{'Mortal Strike', 'Fierce Monkey', 'Murloc Warleader', 'Primordial Glyph', 'Frostbolt', 'Mana Wyrm', 'Animal Companion', 'Harrison Jones', 'Shield Block', 'Succubus', 'Backstab', 'Jade Blossom', 'Dalaran Mage', 'Netherspite Historian', 'Savannah Highmane', 'Mortal Coil', 'Acolyte of Agony', 'Booty Bay Bodyguard', 'Loot Hoarder', 'Grotesque Dragonhawk', 'Bog Creeper', 'Divine Spirit', 'Grumble, Worldshaker', 'Lesser Jasper Spellstone', 'Voidwalker', 'Gnomish Inventor', 'Shadow Bolt', 'Evolved Kobold', 'Arcane Missiles', 'Radiant Elemental', 'Battle Rage', 'Fen Creeper', 'River Crocolisk', 'Annoy-o-Tron', 'Bonemare', 'Skulking Geist', 'Hammer of Wrath', 'Stormwind Champion', 'Jungle Panther', 'Hot Spring Guardian', 'Volcanic Potion', 'Arcane Giant', 'Drywhisker Armorer', 'Sabretooth Stalker', 'Flanking Strike', 'Sunkeeper Tarim', 'Shieldbearer', 'Raid Leader', 'Silent Knight', 'Blizzard', 'Jade Idol', 'Southsea Captain', 'Reckless Rocketeer', 'Dirty Rat', 'Goldshire Footman', 'Firelands Portal', 'Hand of Protection', 'Moonfire', 'Southsea Deckhand', 'Arcanite Reaper', 'Bilefin Tidehunter', 'SI:7 Agent', 'Fan of Knives', 'Priest of the Feast', 'Call to Arms', 'Soulfire', 'Ironbark Protector', 'Archmage', 'Water Elemental', 'Darkshire Librarian', \"Bloodreaver Gul'dan\", 'Spellbreaker', 'Frostwolf Warlord', \"Medivh's Valet\", 'Ironforge Rifleman', 'Druid of the Fang', 'Stormwind Knight', 'Shield Slam', \"Mogu'shan Warden\", 'Argent Commander', 'Holy Smite', \"Kor'kron Elite\", 'Ancestral Healing', 'Elven Minstrel', 'Blood Razor', 'Puddlestomper', 'Novice Engineer', 'Arcane Shot', 'Wild Growth', 'Aluneth', 'Psych-o-Tron', 'Bittertide Hydra', 'Core Hound', 'Oasis Snapjaw', 'Dark Pact', 'Sleep with the Fishes', 'Innervate', 'Ice Rager', 'Plated Beetle', 'Frostwolf Grunt', 'Rockpool Hunter', 'Kill Command', 'Twilight Drake', 'Acolyte of Pain', 'Shadow Word: Death', 'Acherus Veteran', 'Bash', 'Mirror Entity', 'Deadly Poison', 'Archmage Antonidas', 'Hellfire', 'Kobold Librarian', 'Mark of the Lotus', 'Mind Blast', 'Voidlord', 'Elven Archer', 'Tar Creeper', 'Drakonid Operative', 'Doomguard', 'Fandral Staghelm', 'Snowchugger', 'Mistress of Mixtures', 'Astral Communion', 'Shadowstep', 'Consecration', 'Kalimos, Primal Lord', 'Mana Tide Totem', 'Jade Behemoth', 'Jade Lightning', 'Darkscale Healer', 'Spikeridged Steed', 'Fiery War Axe', 'Ironfur Grizzly', 'Finja, the Flying Star', 'Nourish', 'Starfire', 'Fire Elemental', 'Evil Heckler', 'Possessed Lackey', 'Volcano', 'Ravenholdt Assassin', 'Wolfrider', 'Worgen Infiltrator', \"Assassin's Blade\", 'Flame Imp', \"Dead Man's Hand\", 'Spreading Plague', 'Prince Keleseth', 'Holy Nova', 'Living Mana', 'Candleshot', 'Grook Fu Master', 'Greater Healing Potion', 'Druid of the Claw', 'Kobold Geomancer', 'Dire Mole', 'Assassinate', 'Repentance', 'Oaken Summons', 'Ethereal Arcanist', 'Bluegill Warrior', 'Sprint', 'Coldlight Oracle', 'Arcane Blast', 'Twisted Worgen', 'Azure Drake', 'Leeroy Jenkins', 'Power Word: Shield', 'King Mukla', 'Antique Healbot', 'Swipe', 'Tainted Zealot', 'Blessing of Might', 'Mountain Giant', 'Bloodfen Raptor', 'Explosive Runes', 'Dragonling Mechanic', 'Ultimate Infestation', 'Holy Light', 'Wax Elemental', 'Gurubashi Berserker', 'Hooked Reaver', 'Twisting Nether', \"Skull of the Man'ari\", 'Fire Fly', 'Patches the Pirate', \"Sen'jin Shieldmasta\", 'Bloodsail Corsair', 'Arcanologist', 'Jade Chieftain', 'Golakka Crawler', 'Brawl', 'Magma Rager', 'Ogre Magi', 'Arcane Explosion', 'Cobalt Scalebane', 'Carnivorous Cube', 'Edwin VanCleef', 'Mark of the Wild', 'Kabal Talonpriest', 'Execute', \"Sorcerer's Apprentice\", 'Rockbiter Weapon', 'Fireball', 'Freezing Potion', 'Healing Rain', 'Bloodmage Thalnos', 'Malfurion the Pestilent', 'Prince Taldaram', 'Boulderfist Ogre', 'Cleave', 'Fearsome Doomguard', 'Faerie Dragon', 'Blessing of Kings', 'Frost Nova', 'Healing Touch', 'Grimscale Oracle', 'Felfire Potion', 'Northshire Cleric', 'Divine Favor', 'Lost Tallstrider', 'Despicable Dreadlord', 'Primordial Drake', 'Truesilver Champion', 'Force-Tank MAX', 'Murloc Tidecaller', 'Squirming Tentacle', 'Book Wyrm', 'Gnomeregan Infantry', 'Corridor Creeper', 'Saronite Chain Gang', 'Arcane Intellect', 'Bearshark', 'Vilefin Inquisitor', 'Argent Squire', 'Timber Wolf', 'Knife Juggler', 'Crystalweaver', 'Eaglehorn Bow', 'Unleash the Hounds', 'Blowgill Sniper', 'Shiv', 'Kabal Crystal Runner', 'Tournament Attendee', 'Cornered Sentry', 'Siphon Soul', 'Duskboar', 'Captured Jormungar', 'Armorsmith', 'Houndmaster', 'Hex', 'Aya Blackpaw', 'Dire Wolf Alpha', 'Jade Claws', 'Frigid Snobold', 'Multi-Shot', 'Nightblade', 'Binding Heal', 'Silverback Patriarch', 'Malygos', 'Drain Soul', 'Stonetusk Boar', \"Light's Justice\", 'Inner Fire', 'Glacial Shard', 'Shadow Visions', 'Drain Life', 'Tundra Rhino', 'Crystal Lion', 'Stand Against Darkness', 'Vulgar Homunculus', 'Defile', 'Abyssal Enforcer', 'Stegodon', 'Spellbender', \"Hunter's Mark\", 'Whirlwind', 'Voodoo Doctor', 'Stormpike Commando', 'Blazecaller', 'Argent Horserider', 'Righteous Protector', 'Bite', 'Enchanted Raven', 'Lost in the Jungle', 'Giant Mastodon', 'Murloc Raider', \"Malchezaar's Imp\", 'Unidentified Maul', 'Shadow Word: Pain', 'Guardian of Kings', 'Murloc Tidehunter', 'Dragonfire Potion', 'Deadly Shot', 'Eviscerate', 'Coldlight Seer', 'Flametongue Totem', 'Shadow Rager', 'Bloodlust', 'Sap', 'Chillwind Yeti', 'Kindly Grandmother', 'Midnight Drake', 'Faceless Manipulator', 'Vilespine Slayer', 'Darkshire Councilman', 'Acidic Swamp Ooze', 'Jade Spirit', 'Shattered Sun Cleric', 'Lesser Amethyst Spellstone', 'Warsong Commander', 'Wrath', 'Ironwood Golem', 'Kirin Tor Mage', 'Razorfen Hunter', 'Scourgelord Garrosh', 'Lightning Bolt', 'Mini-Mage', 'Dread Infernal', 'Mind Control', 'Lord of the Arena', 'Rallying Blade', 'Duskbreaker', 'Flamestrike', 'Unidentified Shield', \"Al'Akir the Windlord\", 'Claw', 'Kabal Lackey', 'Alleycat', 'Grimscale Chum'}\n",
      "{'Mortal Strike', 'Murloc Warleader', 'Primordial Glyph', 'Frostbolt', 'Animal Companion', 'Mana Wyrm', 'Harrison Jones', 'Shield Block', 'Succubus', 'Jade Blossom', 'Backstab', 'Dalaran Mage', 'Netherspite Historian', 'Mortal Coil', 'Acolyte of Agony', 'Booty Bay Bodyguard', 'Loot Hoarder', 'Grotesque Dragonhawk', 'Bog Creeper', 'Divine Spirit', 'Grumble, Worldshaker', 'Lesser Jasper Spellstone', 'Voidwalker', 'Gnomish Inventor', 'Evolved Kobold', 'Savage Roar', 'Hired Gun', 'Radiant Elemental', 'Battle Rage', 'Fen Creeper', 'Ice Block', 'River Crocolisk', 'Annoy-o-Tron', 'Bonemare', 'Skulking Geist', 'Hammer of Wrath', 'Stormwind Champion', 'Jungle Panther', 'Hot Spring Guardian', 'Felguard', 'Volcanic Potion', 'Drywhisker Armorer', 'Arcane Giant', 'Sabretooth Stalker', 'Flanking Strike', 'Sunkeeper Tarim', 'Reckless Rocketeer', 'Silent Knight', 'Blizzard', 'Raid Leader', 'Jade Idol', 'Southsea Captain', 'Ogre Magi', 'Dirty Rat', 'Firelands Portal', 'Goldshire Footman', 'Hand of Protection', 'Moonfire', 'Southsea Deckhand', 'Bilefin Tidehunter', 'SI:7 Agent', 'Fan of Knives', 'Archmage', 'Call to Arms', 'Darkshire Librarian', 'Soulfire', 'Priest of the Feast', 'Ironbark Protector', 'Water Elemental', \"Bloodreaver Gul'dan\", 'Spellbreaker', 'Frostwolf Warlord', \"Mogu'shan Warden\", \"Medivh's Valet\", 'Druid of the Fang', 'Ironforge Rifleman', 'Shield Slam', 'Stormwind Knight', 'Argent Commander', 'Holy Smite', 'Blood Razor', 'Elven Minstrel', 'Ancestral Healing', 'Puddlestomper', 'Novice Engineer', 'Arcane Shot', 'Wild Growth', 'Aluneth', 'Psych-o-Tron', 'Bittertide Hydra', 'Ice Rager', 'Oasis Snapjaw', 'Sleep with the Fishes', 'Dark Pact', 'Innervate', 'Core Hound', 'Plated Beetle', 'Frostwolf Grunt', 'Polymorph', 'Rockpool Hunter', 'Kill Command', 'Twilight Drake', 'Acolyte of Pain', 'Shadow Word: Death', 'Acherus Veteran', 'Bash', 'Mirror Entity', 'Archmage Antonidas', 'Hellfire', 'Kobold Librarian', 'Mark of the Lotus', 'Voidlord', 'Elven Archer', 'Drakonid Operative', 'Tar Creeper', 'Fandral Staghelm', 'Doomguard', 'Snowchugger', 'Mistress of Mixtures', 'Primalfin Totem', 'Astral Communion', 'Shadowstep', 'Consecration', 'War Golem', 'Mana Tide Totem', 'Kalimos, Primal Lord', 'Jade Behemoth', 'Jade Lightning', 'Darkscale Healer', 'Spikeridged Steed', 'Fiery War Axe', 'Nourish', 'Finja, the Flying Star', 'Ironfur Grizzly', 'Ravenholdt Assassin', 'Fire Elemental', 'Evil Heckler', 'Volcano', 'Possessed Lackey', 'Wolfrider', 'Flame Imp', \"Dead Man's Hand\", 'Spreading Plague', 'Prince Keleseth', 'Living Mana', 'Grook Fu Master', 'Candleshot', 'Druid of the Claw', 'Kobold Geomancer', 'Dire Mole', 'Oaken Summons', 'Repentance', 'Ethereal Arcanist', 'Bluegill Warrior', 'Tainted Zealot', 'Coldlight Oracle', 'Arcane Blast', 'Azure Drake', 'Leeroy Jenkins', 'Power Word: Shield', 'King Mukla', 'Antique Healbot', 'Swipe', 'Faceless Behemoth', 'Heroic Strike', 'Blessing of Might', 'Mountain Giant', 'Bloodfen Raptor', 'Dragonling Mechanic', 'Explosive Runes', 'Ultimate Infestation', 'Holy Light', 'Wax Elemental', 'Carrion Grub', 'Gurubashi Berserker', 'Hooked Reaver', 'Fire Fly', 'Patches the Pirate', \"Skull of the Man'ari\", \"Sen'jin Shieldmasta\", 'Bloodsail Corsair', 'Arcanologist', 'Jade Chieftain', 'Golakka Crawler', 'Brawl', 'Magma Rager', 'Arcane Explosion', 'Cobalt Scalebane', 'Carnivorous Cube', 'Edwin VanCleef', 'Kabal Talonpriest', 'Execute', \"Sorcerer's Apprentice\", 'Flying Machine', 'Fireball', 'Healing Rain', 'Bloodmage Thalnos', 'Malfurion the Pestilent', 'Prince Taldaram', 'Boulderfist Ogre', 'Cleave', 'Faerie Dragon', 'Blessing of Kings', 'Frost Nova', 'Healing Touch', 'Grimscale Oracle', 'Northshire Cleric', 'Divine Favor', 'Lost Tallstrider', 'Despicable Dreadlord', 'Primordial Drake', 'Truesilver Champion', 'Force-Tank MAX', 'Murloc Tidecaller', 'Squirming Tentacle', 'Book Wyrm', 'Gnomeregan Infantry', 'Corridor Creeper', 'Cold Blood', 'Saronite Chain Gang', 'Arcane Intellect', 'Vilefin Inquisitor', 'Timber Wolf', 'Argent Squire', 'Knife Juggler', 'Crystalweaver', 'Eaglehorn Bow', 'Blowgill Sniper', 'Shiv', 'Unleash the Hounds', 'Kabal Crystal Runner', 'Cornered Sentry', 'Captured Jormungar', 'Duskboar', 'Savannah Highmane', 'Houndmaster', 'Armorsmith', 'Aya Blackpaw', 'Dire Wolf Alpha', 'Jade Claws', 'Multi-Shot', 'Twisting Nether', 'Nightblade', 'Binding Heal', 'Silverback Patriarch', 'Drain Soul', \"Light's Justice\", 'Stonetusk Boar', 'Stand Against Darkness', 'Inner Fire', 'Glacial Shard', 'Tundra Rhino', 'Shadow Visions', 'Drain Life', 'Crystal Lion', 'Fire Plume Harbinger', 'Vulgar Homunculus', 'Defile', 'Abyssal Enforcer', 'Stegodon', \"Hunter's Mark\", 'Whirlwind', 'Voodoo Doctor', 'Stormpike Commando', 'Blazecaller', 'Argent Horserider', 'Righteous Protector', 'Bite', 'Lost in the Jungle', 'Getaway Kodo', 'Murloc Raider', \"Malchezaar's Imp\", 'Dragonfire Potion', 'Shadow Word: Pain', 'Unidentified Maul', 'Murloc Tidehunter', 'Guardian of Kings', 'Flametongue Totem', 'Coldlight Seer', 'Chillwind Yeti', 'Sap', 'Kindly Grandmother', 'Midnight Drake', 'Faceless Manipulator', 'Acidic Swamp Ooze', 'Vilespine Slayer', 'Darkshire Councilman', 'Jade Spirit', 'Shattered Sun Cleric', 'Lesser Amethyst Spellstone', 'Warsong Commander', 'Wrath', 'Ironwood Golem', 'Kirin Tor Mage', 'Scourgelord Garrosh', 'Lightning Bolt', 'Razorfen Hunter', 'Blastcrystal Potion', 'Mini-Mage', 'Frost Shock', 'Eldritch Horror', 'Lord of the Arena', 'Rallying Blade', 'Duskbreaker', 'Frigid Snobold', 'Shieldbearer', 'Unidentified Shield', \"Al'Akir the Windlord\", 'Claw', 'Kabal Lackey', 'Doomsayer', 'Alleycat', 'Grimscale Chum'}\n"
     ]
    }
   ],
   "source": [
    "print(train_cards)\n",
    "print(test_cards)"
   ]
  },
  {
   "cell_type": "code",
   "execution_count": 52,
   "metadata": {
    "collapsed": false
   },
   "outputs": [
    {
     "name": "stdout",
     "output_type": "stream",
     "text": [
      "313 330\n"
     ]
    }
   ],
   "source": [
    "print(len(test_cards), len(train_cards))"
   ]
  },
  {
   "cell_type": "code",
   "execution_count": 53,
   "metadata": {
    "collapsed": false
   },
   "outputs": [
    {
     "name": "stdout",
     "output_type": "stream",
     "text": [
      "295\n"
     ]
    }
   ],
   "source": [
    "all_cards = test_cards.intersection(train_cards)\n",
    "print(len(all_cards))"
   ]
  },
  {
   "cell_type": "code",
   "execution_count": 54,
   "metadata": {
    "collapsed": false
   },
   "outputs": [
    {
     "name": "stdout",
     "output_type": "stream",
     "text": [
      "  player        deck    result\n",
      "0     A1  deck100087  0.291667\n",
      "1     A1  deck101443  0.276627\n",
      "2     A1  deck102280  0.550613\n",
      "3     A1  deck104259  0.404459\n",
      "4     A1  deck105300  0.397929\n"
     ]
    }
   ],
   "source": [
    "train_df = training_games.get(['bot1', 'deck1', 'result']).rename(index=str, columns={'bot1': 'player', 'deck1': 'deck'})\n",
    "train_df['result'] = 1 - train_df['result']\n",
    "train_df = train_df.append([training_games.get(['bot2', 'deck2', 'result']).rename(index=str, columns={\n",
    "    'bot2': 'player', 'deck2': 'deck'})])\n",
    "train_df = train_df.groupby(['player', 'deck'])['result'].mean()\n",
    "train_df = train_df.reset_index()\n",
    "print(train_df.head())"
   ]
  },
  {
   "cell_type": "code",
   "execution_count": 55,
   "metadata": {
    "collapsed": false
   },
   "outputs": [
    {
     "name": "stdout",
     "output_type": "stream",
     "text": [
      "   player        deck    enemy    result\n",
      "0      A1  deck100087    Druid  0.409836\n",
      "1      A1  deck100087   Hunter  0.271845\n",
      "2      A1  deck100087     Mage  0.469697\n",
      "3      A1  deck100087  Paladin  0.127273\n",
      "4      A1  deck100087   Priest  0.363636\n",
      "5      A1  deck100087    Rogue  0.333333\n",
      "6      A1  deck100087   Shaman  0.226415\n",
      "7      A1  deck100087  Warlock  0.179487\n",
      "8      A1  deck100087  Warrior  0.533333\n",
      "9      A1  deck101443    Druid  0.406780\n",
      "10     A1  deck101443   Hunter  0.159091\n",
      "11     A1  deck101443     Mage  0.387755\n",
      "12     A1  deck101443  Paladin  0.196721\n",
      "13     A1  deck101443   Priest  0.349206\n",
      "14     A1  deck101443    Rogue  0.176471\n",
      "15     A1  deck101443   Shaman  0.368421\n",
      "16     A1  deck101443  Warlock  0.202247\n",
      "17     A1  deck101443  Warrior  0.537037\n",
      "18     A1  deck102280    Druid  0.612245\n",
      "19     A1  deck102280   Hunter  0.387097\n"
     ]
    }
   ],
   "source": [
    "train_df2 = training_hero.get(['bot1', 'deck1', 'result', 'hero2']).rename(index=str,\n",
    "                            columns={'bot1': 'player', 'deck1': 'deck', 'hero2': 'enemy'})\n",
    "train_df2['result'] = 1 - train_df2['result']\n",
    "train_df2 = train_df2.append([training_hero.get(['bot2', 'deck2', 'result', 'hero1']).rename(index=str, columns={\n",
    "    'bot2': 'player', 'deck2': 'deck', 'hero1': 'enemy'})])\n",
    "train_df2 = train_df2.groupby(['player', 'deck', 'enemy'])['result'].mean()\n",
    "train_df2 = train_df2.reset_index()\n",
    "print(train_df2.head(20))"
   ]
  },
  {
   "cell_type": "markdown",
   "metadata": {},
   "source": [
    "### Card names one hot encoding"
   ]
  },
  {
   "cell_type": "code",
   "execution_count": 56,
   "metadata": {
    "collapsed": true
   },
   "outputs": [],
   "source": [
    "def intersect_with_test_cards(cards_dict):\n",
    "    keys = test_cards.intersection(cards_dict)\n",
    "    return {k:cards_dict[k] for k in keys} "
   ]
  },
  {
   "cell_type": "code",
   "execution_count": 57,
   "metadata": {
    "collapsed": false
   },
   "outputs": [],
   "source": [
    "from sklearn.feature_extraction import DictVectorizer\n",
    "v = DictVectorizer(sparse=False)\n",
    "D = [deck.cards for deck in training_decks.values()]\n",
    "X = v.fit_transform(D)"
   ]
  },
  {
   "cell_type": "code",
   "execution_count": 109,
   "metadata": {
    "collapsed": false
   },
   "outputs": [
    {
     "name": "stdout",
     "output_type": "stream",
     "text": [
      "(14400, 9)\n",
      "(14400, 9)\n"
     ]
    }
   ],
   "source": [
    "import numpy as np\n",
    "\n",
    "heros_arr2 = np.zeros((len(train_df2['deck']), len(test_heros)))\n",
    "\n",
    "for i, deck_name in enumerate(train_df2['deck']):\n",
    "    for j, hero in enumerate(test_heros):\n",
    "        heros_arr2[i, j] = training_decks[deck_name].hero == hero\n",
    "\n",
    "enemy_arr = np.zeros((len(train_df2['deck']), len(test_heros)))\n",
    "\n",
    "for i, enemy in enumerate(train_df2['enemy']):\n",
    "    for j, hero in enumerate(test_heros):\n",
    "        enemy_arr[i, j] = enemy == hero\n",
    "\n",
    "print(enemy_arr.shape)\n",
    "print(heros_arr2.shape)"
   ]
  },
  {
   "cell_type": "code",
   "execution_count": 69,
   "metadata": {
    "collapsed": false
   },
   "outputs": [],
   "source": [
    "import numpy as np\n",
    "\n",
    "heros_arr = np.zeros((len(train_df['deck']), len(test_heros)))\n",
    "\n",
    "for i, deck_name in enumerate(train_df['deck']):\n",
    "    for j, hero in enumerate(test_heros):\n",
    "        heros_arr[i, j] = training_decks[deck_name].hero == hero"
   ]
  },
  {
   "cell_type": "code",
   "execution_count": 70,
   "metadata": {
    "collapsed": false
   },
   "outputs": [
    {
     "name": "stdout",
     "output_type": "stream",
     "text": [
      "{'A2': 0.48449577954254092, 'A1': 0.54794083877250188, 'B1': 0.45799675245171284, 'B2': 0.44216063484566098}\n"
     ]
    }
   ],
   "source": [
    "ai_rates_df = (training_games.groupby(['bot1'])['result'].mean() + 1 - training_games.groupby(['bot2'])['result'].mean()) / 2\n",
    "ai_rates_dict = ai_rates_df.to_dict()\n",
    "print(ai_rates_dict)"
   ]
  },
  {
   "cell_type": "code",
   "execution_count": null,
   "metadata": {
    "collapsed": true
   },
   "outputs": [],
   "source": [
    "ai_rates_df2 = (training_games.groupby(['bot1'])['result'].mean() + 1 - training_games.groupby(['bot2'])['result'].mean()) / 2\n",
    "ai_rates_dict2 = ai_rates_df2.to_dict()\n",
    "print(ai_rates_dict)"
   ]
  },
  {
   "cell_type": "code",
   "execution_count": 93,
   "metadata": {
    "collapsed": true
   },
   "outputs": [],
   "source": [
    "import numpy as np\n",
    "\n",
    "players = ['A1', 'A2', 'B1', 'B2']\n",
    "\n",
    "players_features = [(train_df['player'] == pl).as_matrix() for pl in players]\n",
    "players_rates = np.array([ai_rates_dict[pl] for pl in train_df['player']])\n",
    "\n",
    "x = np.array([v.transform(training_decks[deck_name].cards)[0] for deck_name in train_df['deck']])"
   ]
  },
  {
   "cell_type": "code",
   "execution_count": 99,
   "metadata": {
    "collapsed": false
   },
   "outputs": [
    {
     "name": "stdout",
     "output_type": "stream",
     "text": [
      "(14400, 1)\n"
     ]
    }
   ],
   "source": [
    "import numpy as np\n",
    "\n",
    "players = ['A1', 'A2', 'B1', 'B2']\n",
    "\n",
    "players_features2 = [(train_df2['player'] == pl).as_matrix() for pl in players]\n",
    "players_rates2 = np.array([ai_rates_dict[pl] for pl in train_df2['player']])\n",
    "\n",
    "x2 = np.array([v.transform(training_decks[deck_name].cards)[0] for deck_name in train_df2['deck']])"
   ]
  },
  {
   "cell_type": "code",
   "execution_count": 72,
   "metadata": {
    "collapsed": false
   },
   "outputs": [
    {
     "name": "stdout",
     "output_type": "stream",
     "text": [
      "(1600, 1)\n"
     ]
    }
   ],
   "source": [
    "print(players_rates.reshape(-1, 1).shape)"
   ]
  },
  {
   "cell_type": "code",
   "execution_count": 73,
   "metadata": {
    "collapsed": false
   },
   "outputs": [
    {
     "name": "stdout",
     "output_type": "stream",
     "text": [
      "(400, 330)\n"
     ]
    }
   ],
   "source": [
    "print(X.shape)"
   ]
  },
  {
   "cell_type": "markdown",
   "metadata": {},
   "source": [
    "### Let's get some statistics for each card"
   ]
  },
  {
   "cell_type": "code",
   "execution_count": 74,
   "metadata": {
    "collapsed": false
   },
   "outputs": [],
   "source": [
    "card_stats = json.load(open('data/formatted_cards.json', 'r'))\n",
    "#json.dump(card_stats, open('data/formatted_cards.json', 'w'), indent=4)"
   ]
  },
  {
   "cell_type": "code",
   "execution_count": 75,
   "metadata": {
    "collapsed": false
   },
   "outputs": [],
   "source": [
    "card_stats = [stat for stat in card_stats if 'name' in stat]"
   ]
  },
  {
   "cell_type": "code",
   "execution_count": 76,
   "metadata": {
    "collapsed": true
   },
   "outputs": [],
   "source": [
    "stats_dict = {stat['name']:stat for stat in card_stats}"
   ]
  },
  {
   "cell_type": "code",
   "execution_count": 102,
   "metadata": {
    "collapsed": true
   },
   "outputs": [],
   "source": [
    "from collections import Counter\n",
    "\n",
    "def aggregate_results(feature, fun, decks):\n",
    "    counter = Counter()\n",
    "\n",
    "    for stat in stats_dict.values():\n",
    "        if feature in stat:\n",
    "            counter[stat['name']] = stat[feature]\n",
    "    \n",
    "    def total_val(deck):\n",
    "        total = 0\n",
    "        cards = []\n",
    "        for card, count in deck.cards.items():\n",
    "            cards += [card] * count\n",
    "        cards = [stats_dict[card].get(feature, 0) for card in cards]\n",
    "        return fun(cards)\n",
    "\n",
    "    return np.array([total_val(deck) for deck in decks])"
   ]
  },
  {
   "cell_type": "code",
   "execution_count": 103,
   "metadata": {
    "collapsed": false
   },
   "outputs": [
    {
     "name": "stdout",
     "output_type": "stream",
     "text": [
      "(9, 1600)\n",
      "1600\n"
     ]
    }
   ],
   "source": [
    "card_features = ['cost', 'attack', 'health'#, 'durability', 'armor'\n",
    "                ]\n",
    "functions = [np.mean, np.median, np.var, \n",
    "             #np.max\n",
    "            ]\n",
    "\n",
    "tr_decks = [training_decks[deck_name] for deck_name in train_df['deck']]\n",
    "\n",
    "def get_aggregated_features(decks=tr_decks):\n",
    "    features_x = []\n",
    "    for feature in card_features:\n",
    "        for fun in functions:\n",
    "            features_x.append(aggregate_results(feature, fun, decks))\n",
    "    features_x = np.array(features_x)\n",
    "    return features_x\n",
    "\n",
    "features_x = get_aggregated_features()\n",
    "print(features_x.shape)\n",
    "print(len(train_df))\n"
   ]
  },
  {
   "cell_type": "code",
   "execution_count": 105,
   "metadata": {
    "collapsed": false
   },
   "outputs": [
    {
     "name": "stdout",
     "output_type": "stream",
     "text": [
      "(9, 14400)\n",
      "14400\n"
     ]
    }
   ],
   "source": [
    "tr_decks2 = [training_decks[deck_name] for deck_name in train_df2['deck']]\n",
    "features_x2 = get_aggregated_features(tr_decks2)\n",
    "print(features_x2.shape)\n",
    "print(len(train_df2))"
   ]
  },
  {
   "cell_type": "code",
   "execution_count": null,
   "metadata": {
    "collapsed": true
   },
   "outputs": [],
   "source": []
  },
  {
   "cell_type": "code",
   "execution_count": 100,
   "metadata": {
    "collapsed": true
   },
   "outputs": [],
   "source": [
    "players_x = np.stack(players_features).T\n",
    "players_rates_x = players_rates.reshape(-1, 1)\n",
    "players_x2 = np.stack(players_features2).T\n",
    "players_rates_x2 = players_rates2.reshape(-1, 1)"
   ]
  },
  {
   "cell_type": "code",
   "execution_count": 94,
   "metadata": {
    "collapsed": false
   },
   "outputs": [
    {
     "name": "stdout",
     "output_type": "stream",
     "text": [
      "(1600, 9)\n",
      "(1600, 9)\n",
      "(1600, 4)\n",
      "(1600, 1)\n",
      "(1600, 330)\n",
      "[[ 0.  0.  0. ...,  0.  0.  0.]\n",
      " [ 0.  0.  0. ...,  0.  0.  2.]\n",
      " [ 0.  0.  0. ...,  0.  0.  0.]\n",
      " ..., \n",
      " [ 0.  0.  0. ...,  0.  0.  0.]\n",
      " [ 0.  0.  0. ...,  0.  0.  0.]\n",
      " [ 0.  0.  0. ...,  0.  0.  0.]]\n"
     ]
    }
   ],
   "source": [
    "print(features_x.T.shape)\n",
    "print(heros_arr.shape)\n",
    "print(players_x.shape)\n",
    "print(players_rates_x.shape)\n",
    "print(x.shape)"
   ]
  },
  {
   "cell_type": "code",
   "execution_count": 110,
   "metadata": {
    "collapsed": false
   },
   "outputs": [
    {
     "name": "stdout",
     "output_type": "stream",
     "text": [
      "(14400, 9)\n",
      "(14400, 9)\n",
      "(14400, 9)\n",
      "(14400, 4)\n",
      "(14400, 1)\n",
      "(14400, 330)\n"
     ]
    }
   ],
   "source": [
    "print(features_x2.T.shape)\n",
    "print(heros_arr2.shape)\n",
    "print(enemy_arr.shape)\n",
    "print(players_x2.shape)\n",
    "print(players_rates_x2.shape)\n",
    "print(x2.shape)"
   ]
  },
  {
   "cell_type": "code",
   "execution_count": 123,
   "metadata": {
    "collapsed": false
   },
   "outputs": [],
   "source": [
    "X = np.concatenate([x, \n",
    "                    players_x, \n",
    "                    players_rates_x,\n",
    "                    features_x.T, \n",
    "                    heros_arr\n",
    "                   ], axis=1)\n",
    "y = train_df['result'].as_matrix()"
   ]
  },
  {
   "cell_type": "code",
   "execution_count": 124,
   "metadata": {
    "collapsed": true
   },
   "outputs": [],
   "source": [
    "X2 = np.concatenate([x2, \n",
    "                    players_x2, \n",
    "                    players_rates_x2,\n",
    "                    features_x2.T, \n",
    "                    heros_arr2,\n",
    "                    enemy_arr\n",
    "                   ], axis=1)\n",
    "y2 = train_df2['result'].as_matrix()"
   ]
  },
  {
   "cell_type": "code",
   "execution_count": 126,
   "metadata": {
    "collapsed": false
   },
   "outputs": [
    {
     "name": "stdout",
     "output_type": "stream",
     "text": [
      "(14400, 362)\n",
      "(14400,)\n",
      "[ 61.2716763   65.55023923  55.38057743 ...,  60.5734767   35.71428571\n",
      "  34.96932515]\n"
     ]
    }
   ],
   "source": [
    "print(X2.shape)\n",
    "print(y2.shape)\n",
    "print(y)"
   ]
  },
  {
   "cell_type": "markdown",
   "metadata": {},
   "source": [
    "**shufflujemy dataset**"
   ]
  },
  {
   "cell_type": "code",
   "execution_count": 125,
   "metadata": {
    "collapsed": true
   },
   "outputs": [],
   "source": [
    "import random\n",
    "indices = random.sample(range(len(y)), len(y))\n",
    "X = X[indices]\n",
    "y = y[indices]\n",
    "y *= 100\n",
    "indices = random.sample(range(len(y2)), len(y2))\n",
    "X2 = X2[indices]\n",
    "y2 = y2[indices]\n",
    "y2 *= 100"
   ]
  },
  {
   "cell_type": "code",
   "execution_count": 127,
   "metadata": {
    "collapsed": false
   },
   "outputs": [
    {
     "name": "stdout",
     "output_type": "stream",
     "text": [
      "Fitting 8 folds for each of 10 candidates, totalling 80 fits\n"
     ]
    },
    {
     "name": "stderr",
     "output_type": "stream",
     "text": [
      "[Parallel(n_jobs=7)]: Done   4 tasks      | elapsed:  2.0min\n",
      "[Parallel(n_jobs=7)]: Done  58 tasks      | elapsed: 36.3min\n",
      "[Parallel(n_jobs=7)]: Done  80 out of  80 | elapsed: 53.7min finished\n"
     ]
    },
    {
     "name": "stdout",
     "output_type": "stream",
     "text": [
      "9.83869450694\n",
      "{'learning_rate': 0.3, 'max_depth': 3, 'n_estimators': 500}\n"
     ]
    }
   ],
   "source": [
    "from sklearn.linear_model import LinearRegression, Ridge, LogisticRegression, SGDRegressor\n",
    "from sklearn.ensemble import RandomForestRegressor, GradientBoostingRegressor\n",
    "from sklearn.neighbors import KNeighborsRegressor\n",
    "from sklearn.svm import SVR, LinearSVR\n",
    "from sklearn.model_selection import GridSearchCV, RandomizedSearchCV\n",
    "from sklearn.preprocessing import PolynomialFeatures\n",
    "from sklearn.linear_model import BayesianRidge, SGDRegressor\n",
    "from sklearn.preprocessing import StandardScaler\n",
    "from sklearn.neural_network import MLPRegressor\n",
    "\n",
    "clf = SVR(gamma=0.001, epsilon=0.1, C=100, kernel='rbf')\n",
    "gb = GradientBoostingRegressor()\n",
    "gb_params = {'learning_rate': [0.3, 0.4, 0.5, 0.6, ],\n",
    "            'max_depth': [3, 4],\n",
    "             'n_estimators': [200, 300, 400, 500, 600]`````\n",
    "            #'criterion': ['friedman_mse', 'mse'],\n",
    "            #'max_features': [None, 'sqrt', 'log2']\n",
    "            }\n",
    "\n",
    "parameters = {'C': np.arange(1, 20) * 50, \n",
    "              'gamma': ['auto', 0.0005, 0.001, 0.005, 0.01, 0.02],\n",
    "              'epsilon': [0.005, 0.01, 0.02, 0.03, 0.05, 0.1]\n",
    "             }\n",
    "\n",
    "nn_params = {'hidden_layer_sizes': [(300,), (512,), (800,)]}\n",
    "\n",
    "nn = MLPRegressor(hidden_layer_sizes=(512, ))\n",
    "\n",
    "X_new = StandardScaler().fit_transform(X2)\n",
    "\n",
    "grid_clf = RandomizedSearchCV(gb, gb_params, scoring='neg_mean_squared_error', cv=8, verbose=5, n_jobs=7)\n",
    "grid_clf = grid_clf.fit(X_new, y2)\n",
    "print(np.sqrt(-grid_clf.best_score_))\n",
    "print(grid_clf.best_params_)"
   ]
  },
  {
   "cell_type": "code",
   "execution_count": 150,
   "metadata": {
    "collapsed": true
   },
   "outputs": [],
   "source": [
    "import math\n",
    "\n",
    "def reduce(x):\n",
    "    x = np.array([max(val, 0) for val in x])\n",
    "    return np.array([min(val, 100) for val in x])"
   ]
  },
  {
   "cell_type": "code",
   "execution_count": 130,
   "metadata": {
    "collapsed": true
   },
   "outputs": [],
   "source": [
    "svr_classifier = SVR(gamma=0.01, epsilon=0.02, C=100)\n",
    "svr_classifier = svr_classifier.fit(X2, y2)\n",
    "gb_classifier = GradientBoostingRegressor(n_estimators=500, learning_rate=0.3, max_depth=3, max_features=None)\n",
    "gb_classifier = gb_classifier.fit(X2, y2)\n",
    "#nn_classifier = MLPRegressor(hidden_layer_sizes=(512, ))\n",
    "#nn_classifier = nn_classifier.fit(X, y)"
   ]
  },
  {
   "cell_type": "code",
   "execution_count": 31,
   "metadata": {
    "collapsed": true
   },
   "outputs": [],
   "source": [
    "def predict(deck, player, classifier, classifier2):\n",
    "    players_features = [player == pl for pl in players]\n",
    "    players_rates = [ai_rates_dict[player]]\n",
    "\n",
    "    \n",
    "    heros_arr = np.zeros((len(test_heros), ))\n",
    "\n",
    "    for j, hero in enumerate(test_heros):\n",
    "        heros_arr[j] = deck.hero == hero\n",
    "\n",
    "\n",
    "    heros_arr = heros_arr.reshape(-1, 1)\n",
    "    players_x = np.array(players_features).reshape(-1, 1)\n",
    "    players_rates_x = np.array([players_rates]).reshape(-1, 1)\n",
    "    features_x = get_aggregated_features([deck])\n",
    "    x_test = np.array(v.transform([deck.cards]))\n",
    "    x_test = x_test.reshape(-1, 1)\n",
    "    X_pred = np.concatenate([x_test, \n",
    "                             players_x, \n",
    "                             players_rates_x,\n",
    "                             features_x,\n",
    "                             heros_arr])\n",
    "    X_pred = X_pred.reshape(1, -1)\n",
    "    preds = classifier.predict(X_pred) * 0.8 + classifier2.predict(X_pred) * 0.2\n",
    "    return reduce(preds)"
   ]
  },
  {
   "cell_type": "code",
   "execution_count": 163,
   "metadata": {
    "collapsed": false
   },
   "outputs": [],
   "source": [
    "def predict2(deck, player, enemy, classifier, classifier2):\n",
    "    players_features = [player == pl for pl in players]\n",
    "    players_rates = [ai_rates_dict[player]]\n",
    "\n",
    "    \n",
    "    heros_arr = np.zeros((len(test_heros), ))\n",
    "\n",
    "    for j, hero in enumerate(test_heros):\n",
    "        heros_arr[j] = deck.hero == hero\n",
    "        \n",
    "    enemy_arr = np.zeros((len(test_heros), ))\n",
    "\n",
    "    for j, hero in enumerate(test_heros):\n",
    "        enemy_arr[j] = enemy == hero\n",
    "\n",
    "    #print(heros_arr.shape)\n",
    "    #print(enemy_arr.shape)\n",
    "    heros_arr = heros_arr.reshape(-1, 1)\n",
    "    enemy_arr = enemy_arr.reshape(-1, 1)\n",
    "    #print(heros_arr.shape)\n",
    "    #print(enemy_arr.shape)\n",
    "    players_x = np.array(players_features).reshape(-1, 1)\n",
    "    players_rates_x = np.array([players_rates]).reshape(-1, 1)\n",
    "    features_x = get_aggregated_features([deck])\n",
    "    x_test = np.array(v.transform([deck.cards]))\n",
    "    x_test = x_test.reshape(-1, 1)\n",
    "    X_pred = np.concatenate([x_test, \n",
    "                             players_x, \n",
    "                             players_rates_x,\n",
    "                             features_x,\n",
    "                             heros_arr,\n",
    "                             enemy_arr])\n",
    "    X_pred = X_pred.reshape(1, -1)\n",
    "    preds = classifier.predict(X_pred) * 0.8 + classifier2.predict(X_pred) * 0.2\n",
    "    return reduce(preds)\n"
   ]
  },
  {
   "cell_type": "code",
   "execution_count": 164,
   "metadata": {
    "collapsed": false
   },
   "outputs": [
    {
     "name": "stdout",
     "output_type": "stream",
     "text": [
      "    deck_name player   win_rate\n",
      "0  deck244804     A1  28.307267\n",
      "1  deck124802     A1  41.936442\n",
      "2  deck687350     A1  41.158708\n",
      "3  deck517728     A1  41.052121\n",
      "4  deck130762     A1  40.454617\n"
     ]
    }
   ],
   "source": [
    "\n",
    "def get_test_decks_list():\n",
    "    test_decks = []\n",
    "\n",
    "    with open(test_path, 'r') as decks:\n",
    "        for line in decks.readlines():\n",
    "            json_info = json.loads(line)\n",
    "            test_decks.append(json_info['deckName'][0])\n",
    "    return test_decks\n",
    "\n",
    "test_decks_names = get_test_decks_list()\n",
    "\n",
    "def dump_results():\n",
    "    df_results = pd.DataFrame()\n",
    "    for player in players:\n",
    "        for deck_name in test_decks_names:\n",
    "            deck = test_decks[deck_name]\n",
    "            win_rate = predict(deck, player, svr_classifier, gb_classifier)[0]\n",
    "            df_results = df_results.append({'player': player, 'deck_name': deck_name, 'win_rate': win_rate}, \n",
    "                                           ignore_index=True)\n",
    "\n",
    "    print(df_results.head())\n",
    "    df_results.to_csv('data/test_results.csv', index=False, header=False, columns=['player', 'deck_name', 'win_rate'],\n",
    "                     sep=';')\n",
    "    return df_results\n",
    "\n",
    "test_heros = [deck.hero for deck in test_decks.values()]\n",
    "test_hero_counts = Counter(test_heros)\n",
    "hero_count = len(test_heros)\n",
    "test_heros = {deck.hero for deck in test_decks.values()}\n",
    "\n",
    "def dump_results2():\n",
    "    df_results = pd.DataFrame()\n",
    "    for player in players:\n",
    "        for deck_name in test_decks_names:\n",
    "            deck = test_decks[deck_name]\n",
    "            win_rate = 0\n",
    "            for enemy in heros:\n",
    "                win_rate += predict2(deck, player, enemy, svr_classifier, gb_classifier)[0] * test_hero_counts[enemy]\n",
    "            win_rate /= hero_count\n",
    "            df_results = df_results.append({'player': player, 'deck_name': deck_name, 'win_rate': win_rate}, \n",
    "                                           ignore_index=True)\n",
    "\n",
    "    print(df_results.head())\n",
    "    df_results.to_csv('data/test_results3.csv', index=False, header=False, columns=['player', 'deck_name', 'win_rate'],\n",
    "                     sep=';')\n",
    "    return df_results\n",
    "\n",
    "df_results = dump_results2()"
   ]
  },
  {
   "cell_type": "code",
   "execution_count": null,
   "metadata": {
    "collapsed": true
   },
   "outputs": [],
   "source": []
  },
  {
   "cell_type": "code",
   "execution_count": 55,
   "metadata": {
    "collapsed": false
   },
   "outputs": [
    {
     "data": {
      "image/png": "[encoded data removed]",
      "text/plain": [
       "<matplotlib.figure.Figure at 0x234e8a8c9e8>"
      ]
     },
     "metadata": {},
     "output_type": "display_data"
    }
   ],
   "source": [
    "import matplotlib.pyplot as plt\n",
    "%matplotlib inline\n",
    "plt.hist(df_results['win_rate'])\n",
    "plt.show()"
   ]
  },
  {
   "cell_type": "code",
   "execution_count": 34,
   "metadata": {
    "collapsed": false
   },
   "outputs": [
    {
     "name": "stdout",
     "output_type": "stream",
     "text": [
      "51.91216582456974\n"
     ]
    }
   ],
   "source": [
    "print(np.mean(df_results['win_rate']))"
   ]
  },
  {
   "cell_type": "code",
   "execution_count": 54,
   "metadata": {
    "collapsed": false
   },
   "outputs": [
    {
     "name": "stdout",
     "output_type": "stream",
     "text": [
      "Counter({'Paladin': 268, 'Hunter': 264, 'Warlock': 264, 'Rogue': 144, 'Priest': 136, 'Mage': 136, 'Druid': 132, 'Warrior': 128, 'Shaman': 128})\n"
     ]
    }
   ],
   "source": [
    "heros = [deck.hero for deck in tr_decks]\n",
    "tr_hero_counts = Counter(heros)\n",
    "print(tr_hero_counts)"
   ]
  },
  {
   "cell_type": "code",
   "execution_count": 47,
   "metadata": {
    "collapsed": false
   },
   "outputs": [
    {
     "name": "stdout",
     "output_type": "stream",
     "text": [
      "Counter({'Hunter': 33, 'Warlock': 33, 'Paladin': 32, 'Warrior': 19, 'Druid': 18, 'Shaman': 18, 'Priest': 17, 'Mage': 16, 'Rogue': 14})\n",
      "200\n"
     ]
    }
   ],
   "source": [
    "test_heros = [deck.hero for deck in test_decks.values()]\n",
    "test_hero_counts = Counter(test_heros)\n",
    "print(test_hero_counts)"
   ]
  },
  {
   "cell_type": "code",
   "execution_count": null,
   "metadata": {
    "collapsed": true
   },
   "outputs": [],
   "source": []
  },
  {
   "cell_type": "code",
   "execution_count": null,
   "metadata": {
    "collapsed": true
   },
   "outputs": [],
   "source": []
  },
  {
   "cell_type": "code",
   "execution_count": null,
   "metadata": {
    "collapsed": true
   },
   "outputs": [],
   "source": []
  }
 ],
 "metadata": {
  "anaconda-cloud": {},
  "kernelspec": {
   "display_name": "Python [default]",
   "language": "python",
   "name": "python3"
  },
  "language_info": {
   "codemirror_mode": {
    "name": "ipython",
    "version": 3
   },
   "file_extension": ".py",
   "mimetype": "text/x-python",
   "name": "python",
   "nbconvert_exporter": "python",
   "pygments_lexer": "ipython3",
   "version": "3.5.2"
  }
 },
 "nbformat": 4,
 "nbformat_minor": 2
}
