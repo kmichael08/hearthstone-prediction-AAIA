{
 "cells": [
  {
   "cell_type": "code",
   "execution_count": 541,
   "metadata": {},
   "outputs": [],
   "source": [
    "import json\n",
    "from collections import Counter\n",
    "\n",
    "class Deck:\n",
    "    def __init__(self, info):\n",
    "        self.name = info['deckName'][0]\n",
    "        self.hero = info['hero'][0]\n",
    "        self.cards = Counter()\n",
    "        for name, [count] in info['cards'].items():\n",
    "            self.cards[name] = count\n",
    "\n",
    "training_path = 'data/trainingDecks.json'\n",
    "test_path = 'data/testDecks.json'\n",
    "            \n",
    "def get_decks_dict(path):\n",
    "    decks_dict = dict()    \n",
    "    \n",
    "    with open(path, 'r') as decks:\n",
    "        for line in decks.readlines():\n",
    "            json_info = json.loads(line)\n",
    "            decks_dict[json_info['deckName'][0]] = Deck(json_info)\n",
    "    return decks_dict\n",
    "\n",
    "training_decks = get_decks_dict(training_path)\n",
    "test_decks = get_decks_dict(test_path)"
   ]
  },
  {
   "cell_type": "code",
   "execution_count": 782,
   "metadata": {},
   "outputs": [
    {
     "name": "stdout",
     "output_type": "stream",
     "text": [
      "PLAYER_0 WON    165347\n",
      "PLAYER_1 WON    134333\n",
      "Name: result, dtype: int64\n"
     ]
    }
   ],
   "source": [
    "import pandas as pd\n",
    "training_games = pd.read_csv('data/training_games.csv', delimiter=';', \n",
    "                             names=['id', 'bot1', 'deck1', 'bot2', 'deck2', 'result'])\n",
    "print(training_games['result'].value_counts())"
   ]
  },
  {
   "cell_type": "code",
   "execution_count": 789,
   "metadata": {},
   "outputs": [
    {
     "name": "stdout",
     "output_type": "stream",
     "text": [
      "         id bot1       deck1 bot2       deck2  result\n",
      "0  100001.0   A1  deck113225   A1  deck731599       0\n",
      "1  100002.0   A1  deck694943   A1  deck929572       1\n",
      "2  100003.0   A1  deck182567   A1  deck525929       0\n",
      "3  100004.0   A1  deck219364   A1  deck757429       1\n",
      "4  100005.0   A1  deck826229   A1  deck337123       1\n",
      "299680\n"
     ]
    }
   ],
   "source": [
    "import pandas as pd\n",
    "training_games = pd.read_csv('data/training_games.csv', delimiter=';', \n",
    "                             names=['id', 'bot1', 'deck1', 'bot2', 'deck2', 'result'])\n",
    "training_games['result'] = training_games['result'] == 'PLAYER_1 WON'\n",
    "training_games['result'] = training_games['result'].astype(int)\n",
    "print(training_games.head())\n",
    "print(len(training_games))"
   ]
  },
  {
   "cell_type": "code",
   "execution_count": 543,
   "metadata": {},
   "outputs": [
    {
     "name": "stdout",
     "output_type": "stream",
     "text": [
      "{'Warrior', 'Druid', 'Priest', 'Rogue', 'Paladin', 'Hunter', 'Mage', 'Warlock', 'Shaman'}\n"
     ]
    }
   ],
   "source": [
    "heros = {deck.hero for deck in training_decks.values()}\n",
    "print(heros)"
   ]
  },
  {
   "cell_type": "markdown",
   "metadata": {},
   "source": [
    "### Let's look at the cards"
   ]
  },
  {
   "cell_type": "code",
   "execution_count": 544,
   "metadata": {},
   "outputs": [
    {
     "name": "stdout",
     "output_type": "stream",
     "text": [
      "{'Warrior', 'Druid', 'Priest', 'Rogue', 'Hunter', 'Paladin', 'Mage', 'Warlock', 'Shaman'}\n"
     ]
    }
   ],
   "source": [
    "test_heros = {deck.hero for deck in test_decks.values()}\n",
    "print(test_heros)"
   ]
  },
  {
   "cell_type": "code",
   "execution_count": 545,
   "metadata": {},
   "outputs": [],
   "source": [
    "train_cards = set()\n",
    "test_cards = set()\n",
    "for deck in training_decks.values():\n",
    "    train_cards.update(deck.cards.keys())\n",
    "\n",
    "for deck in test_decks.values():\n",
    "    test_cards.update(deck.cards.keys())"
   ]
  },
  {
   "cell_type": "code",
   "execution_count": 546,
   "metadata": {},
   "outputs": [
    {
     "name": "stdout",
     "output_type": "stream",
     "text": [
      "{'Dark Pact', 'Cornered Sentry', 'Innervate', 'Shadow Word: Death', 'Nourish', 'Mortal Coil', 'Divine Spirit', 'Glacial Shard', 'Vilespine Slayer', 'Booty Bay Bodyguard', 'Harrison Jones', 'Captured Jormungar', 'Mirror Entity', 'Holy Light', 'Bite', 'Jungle Panther', 'Divine Favor', 'Darkshire Councilman', 'King Mukla', 'Assassinate', 'Kirin Tor Mage', 'Arcane Blast', 'Murloc Tidecaller', 'Blessing of Kings', 'Malfurion the Pestilent', 'Silent Knight', 'Blowgill Sniper', 'Vulgar Homunculus', 'Rockpool Hunter', 'Explosive Runes', 'Volcanic Potion', 'Dragonfire Potion', 'Brawl', 'Puddlestomper', 'Grimscale Oracle', 'Coldlight Seer', 'Twilight Drake', 'Ultimate Infestation', 'Drain Soul', 'Abyssal Enforcer', 'Elven Archer', 'Azure Drake', 'Vilefin Inquisitor', 'Duskboar', 'Ironwood Golem', 'Patches the Pirate', 'Coldlight Oracle', 'Southsea Deckhand', 'Lost Tallstrider', 'Southsea Captain', 'Starfire', \"Mogu'shan Warden\", 'Houndmaster', 'Truesilver Champion', 'Raid Leader', 'Gnomish Inventor', 'Repentance', 'Frostwolf Grunt', 'Stormwind Champion', 'Blood Razor', 'Jade Claws', 'Jade Spirit', 'Evil Heckler', 'Bilefin Tidehunter', 'Moonfire', 'Worgen Infiltrator', 'Rallying Blade', 'Flamestrike', 'Shield Block', 'Holy Smite', 'Twisting Nether', 'Deadly Poison', 'Argent Squire', 'Druid of the Fang', 'Gurubashi Berserker', 'Consecration', 'Mountain Giant', 'Ice Rager', 'Primordial Glyph', 'Spellbender', 'Wrath', 'Mana Tide Totem', 'Tournament Attendee', 'Fen Creeper', 'Kill Command', 'Aluneth', 'Enchanted Raven', 'Unidentified Maul', 'Faerie Dragon', 'Tainted Zealot', 'Wild Growth', 'Healing Rain', 'Frostbolt', 'Astral Communion', 'Magma Rager', 'Mistress of Mixtures', 'Stonetusk Boar', 'Twisted Worgen', 'Fireball', 'Voodoo Doctor', 'Chillwind Yeti', 'Doomguard', 'Netherspite Historian', 'Prince Keleseth', 'Fandral Staghelm', 'Cobalt Scalebane', 'Mana Wyrm', 'Mark of the Wild', 'Primordial Drake', 'Nightblade', 'Ravenholdt Assassin', 'Argent Horserider', 'Goldshire Footman', \"Dead Man's Hand\", 'Duskbreaker', 'Oaken Summons', 'Kobold Librarian', 'Fan of Knives', 'Murloc Tidehunter', 'Guardian of Kings', 'Dirty Rat', 'Fiery War Axe', 'Holy Nova', 'Ethereal Arcanist', 'Bash', 'Armorsmith', 'Crystal Lion', 'Sap', \"Sorcerer's Apprentice\", 'Arcane Explosion', 'Kabal Crystal Runner', 'Novice Engineer', 'Backstab', 'Swipe', 'Bloodsail Corsair', 'Acidic Swamp Ooze', 'Timber Wolf', 'Rockbiter Weapon', 'Lightning Bolt', 'Bonemare', 'Kalimos, Primal Lord', 'Bloodmage Thalnos', 'Dalaran Mage', 'Druid of the Claw', 'Acolyte of Pain', 'Loot Hoarder', \"Assassin's Blade\", 'Spreading Plague', 'Multi-Shot', 'Book Wyrm', 'Warsong Commander', 'Spikeridged Steed', 'Arcanologist', \"Malchezaar's Imp\", 'Arcanite Reaper', 'Wolfrider', 'Bloodlust', 'Shadow Visions', 'Archmage', 'SI:7 Agent', 'Blizzard', 'Annoy-o-Tron', 'Evolved Kobold', 'Arcane Missiles', 'Corridor Creeper', 'Freezing Potion', 'Eaglehorn Bow', 'Dire Wolf Alpha', 'Shield Slam', 'Defile', 'Jade Chieftain', 'Jade Lightning', 'Elven Minstrel', 'Firelands Portal', 'Eviscerate', 'Darkshire Librarian', 'Antique Healbot', 'Deadly Shot', 'Bittertide Hydra', 'Ironfur Grizzly', 'Razorfen Hunter', 'Silverback Patriarch', 'Hand of Protection', 'Lord of the Arena', 'Unleash the Hounds', 'Aya Blackpaw', 'Saronite Chain Gang', 'Priest of the Feast', 'Lesser Amethyst Spellstone', 'Water Elemental', 'Grook Fu Master', 'Shadowstep', 'Ironforge Rifleman', 'Hellfire', 'Flame Imp', 'Arcane Intellect', 'Claw', 'Knife Juggler', 'Fierce Monkey', 'Flametongue Totem', 'Frost Nova', 'Frigid Snobold', 'Golakka Crawler', 'Giant Mastodon', 'Acolyte of Agony', 'Grumble, Worldshaker', 'Savannah Highmane', 'Stormwind Knight', 'Carnivorous Cube', \"Skull of the Man'ari\", 'Ironbark Protector', 'Shadow Word: Pain', 'Ancestral Healing', 'Drywhisker Armorer', 'Bluegill Warrior', 'Succubus', 'Arcane Giant', 'Radiant Elemental', 'Hooked Reaver', \"Al'Akir the Windlord\", 'Scourgelord Garrosh', 'Sprint', 'Hammer of Wrath', 'Cleave', 'Felfire Potion', 'Alleycat', 'Oasis Snapjaw', 'Jade Idol', 'Bloodfen Raptor', 'Healing Touch', 'Drakonid Operative', 'Fire Fly', 'Archmage Antonidas', 'Drain Life', 'Fearsome Doomguard', 'Shadow Rager', 'Kabal Talonpriest', 'Hex', 'Despicable Dreadlord', 'Ogre Magi', 'Bearshark', 'Snowchugger', 'Jade Behemoth', 'Jade Blossom', 'Boulderfist Ogre', 'Candleshot', 'Sabretooth Stalker', 'Unidentified Shield', 'Dread Infernal', \"Hunter's Mark\", 'Shieldbearer', 'Leeroy Jenkins', 'Murloc Raider', 'Frostwolf Warlord', 'Reckless Rocketeer', 'Mortal Strike', \"Sen'jin Shieldmasta\", 'Kindly Grandmother', 'Mini-Mage', 'Binding Heal', 'Arcane Shot', 'Spellbreaker', 'Malygos', 'River Crocolisk', 'Tar Creeper', 'Kobold Geomancer', 'Midnight Drake', 'Voidlord', 'Acherus Veteran', 'Murloc Warleader', 'Kabal Lackey', \"Medivh's Valet\", \"Light's Justice\", 'Shattered Sun Cleric', 'Force-Tank MAX', 'Dragonling Mechanic', 'Soulfire', 'Inner Fire', 'Northshire Cleric', 'Grimscale Chum', 'Blazecaller', 'Dire Mole', 'Crystalweaver', 'Faceless Manipulator', 'Edwin VanCleef', 'Stormpike Commando', 'Lost in the Jungle', 'Tundra Rhino', 'Plated Beetle', \"Kor'kron Elite\", 'Greater Healing Potion', 'Mind Control', 'Shiv', 'Psych-o-Tron', 'Squirming Tentacle', 'Flanking Strike', 'Wax Elemental', 'Power Word: Shield', 'Animal Companion', 'Argent Commander', 'Whirlwind', 'Sleep with the Fishes', 'Battle Rage', 'Living Mana', 'Finja, the Flying Star', 'Siphon Soul', 'Mark of the Lotus', 'Call to Arms', 'Execute', 'Skulking Geist', 'Volcano', 'Fire Elemental', 'Lesser Jasper Spellstone', \"Bloodreaver Gul'dan\", 'Shadow Bolt', 'Blessing of Might', 'Prince Taldaram', 'Stand Against Darkness', 'Core Hound', 'Righteous Protector', 'Hot Spring Guardian', 'Sunkeeper Tarim', 'Stegodon', 'Bog Creeper', 'Grotesque Dragonhawk', 'Possessed Lackey', 'Gnomeregan Infantry', 'Mind Blast', 'Darkscale Healer', 'Voidwalker'}\n",
      "{'Dark Pact', 'Cornered Sentry', 'Innervate', 'Shadow Word: Death', 'Nourish', 'Mortal Coil', 'Divine Spirit', 'Glacial Shard', 'Harrison Jones', 'Vilespine Slayer', 'Captured Jormungar', 'Booty Bay Bodyguard', 'Mirror Entity', 'Holy Light', 'Arcane Blast', 'Bite', 'Darkshire Councilman', 'King Mukla', 'Kirin Tor Mage', 'Silent Knight', 'Vulgar Homunculus', 'Blowgill Sniper', 'Murloc Tidecaller', 'Divine Favor', 'Malfurion the Pestilent', 'Blessing of Kings', \"Hunter's Mark\", 'Rockpool Hunter', 'Explosive Runes', 'Doomsayer', 'Volcanic Potion', 'Dragonfire Potion', 'Brawl', 'Puddlestomper', 'Grimscale Oracle', 'Magma Rager', 'Coldlight Seer', 'Twilight Drake', 'Drain Soul', 'Ultimate Infestation', 'Abyssal Enforcer', 'Elven Archer', 'Azure Drake', 'Vilefin Inquisitor', 'Duskboar', 'Ironwood Golem', 'Patches the Pirate', 'Coldlight Oracle', 'Southsea Deckhand', 'Lost Tallstrider', 'Southsea Captain', \"Mogu'shan Warden\", 'Houndmaster', 'Truesilver Champion', 'Raid Leader', 'Gnomish Inventor', 'Repentance', 'Frostwolf Grunt', 'Stormwind Champion', 'Blood Razor', 'Jade Claws', 'Jade Spirit', 'Evil Heckler', 'Moonfire', 'Bilefin Tidehunter', 'Rallying Blade', 'Shield Block', 'Holy Smite', 'Twisting Nether', 'Argent Squire', 'Druid of the Fang', 'Gurubashi Berserker', 'Consecration', 'Mountain Giant', 'Ice Rager', 'Primordial Glyph', 'Wrath', 'Mana Tide Totem', 'Fen Creeper', 'Kill Command', 'Aluneth', 'Faerie Dragon', 'Unidentified Maul', 'Tainted Zealot', 'Wild Growth', 'Healing Rain', 'Frostbolt', 'Polymorph', 'War Golem', 'Hired Gun', 'Blastcrystal Potion', 'Mistress of Mixtures', 'Stonetusk Boar', 'Astral Communion', 'Fireball', 'Voodoo Doctor', 'Chillwind Yeti', 'Doomguard', 'Prince Keleseth', 'Mana Wyrm', 'Netherspite Historian', 'Cobalt Scalebane', 'Fandral Staghelm', 'Primordial Drake', 'Nightblade', 'Ravenholdt Assassin', 'Argent Horserider', 'Goldshire Footman', \"Dead Man's Hand\", 'Duskbreaker', 'Kobold Librarian', 'Oaken Summons', 'Fan of Knives', 'Carrion Grub', 'Guardian of Kings', 'Dirty Rat', 'Murloc Tidehunter', 'Fiery War Axe', 'Ethereal Arcanist', 'Bash', 'Armorsmith', \"Sorcerer's Apprentice\", 'Timber Wolf', 'Sap', 'Kabal Crystal Runner', 'Novice Engineer', 'Backstab', 'Swipe', 'Bloodsail Corsair', 'Acidic Swamp Ooze', 'Arcane Explosion', 'Lightning Bolt', 'Bonemare', 'Dalaran Mage', 'Bloodmage Thalnos', 'Kalimos, Primal Lord', 'Druid of the Claw', 'Acolyte of Pain', 'Loot Hoarder', 'Spreading Plague', 'Warsong Commander', 'Spikeridged Steed', 'Book Wyrm', 'Multi-Shot', 'Arcanologist', \"Malchezaar's Imp\", 'Stormpike Commando', 'Wolfrider', 'Blizzard', 'Archmage', 'Shadow Visions', 'SI:7 Agent', 'Annoy-o-Tron', 'Evolved Kobold', 'Corridor Creeper', 'Heroic Strike', 'Eaglehorn Bow', 'Dire Wolf Alpha', 'Shield Slam', 'Elven Minstrel', 'Firelands Portal', 'Cold Blood', 'Defile', 'Jade Chieftain', 'Jade Lightning', 'Darkshire Librarian', 'Antique Healbot', 'Bittertide Hydra', 'Ironfur Grizzly', 'Razorfen Hunter', 'Hand of Protection', 'Silverback Patriarch', 'Lord of the Arena', 'Fire Plume Harbinger', 'Unleash the Hounds', 'Aya Blackpaw', 'Saronite Chain Gang', 'Priest of the Feast', 'Lesser Amethyst Spellstone', 'Water Elemental', 'Grook Fu Master', 'Shadowstep', 'Ironforge Rifleman', 'Hellfire', 'Flame Imp', 'Arcane Intellect', 'Claw', 'Knife Juggler', 'Flametongue Totem', 'Frost Nova', 'Frigid Snobold', 'Golakka Crawler', 'Acolyte of Agony', 'Grumble, Worldshaker', 'Savannah Highmane', 'Stormwind Knight', 'Carnivorous Cube', \"Skull of the Man'ari\", 'Ironbark Protector', 'Shadow Word: Pain', 'Ancestral Healing', 'Getaway Kodo', 'Drywhisker Armorer', 'Succubus', 'Bluegill Warrior', 'Arcane Giant', 'Radiant Elemental', 'Hooked Reaver', \"Al'Akir the Windlord\", 'Scourgelord Garrosh', 'Hammer of Wrath', 'Cleave', 'Alleycat', 'Eldritch Horror', 'Oasis Snapjaw', 'Frost Shock', 'Jade Idol', 'Bloodfen Raptor', 'Healing Touch', 'Drakonid Operative', 'Fire Fly', 'Archmage Antonidas', 'Primalfin Totem', 'Drain Life', 'Savage Roar', 'Kabal Talonpriest', 'Despicable Dreadlord', 'Ogre Magi', 'Jungle Panther', 'Snowchugger', 'Jade Behemoth', 'Jade Blossom', 'Candleshot', 'Boulderfist Ogre', 'Sabretooth Stalker', 'Unidentified Shield', 'Shieldbearer', 'Leeroy Jenkins', 'Frostwolf Warlord', 'Murloc Raider', 'Binding Heal', 'Kindly Grandmother', 'Mini-Mage', \"Sen'jin Shieldmasta\", 'Mortal Strike', 'Arcane Shot', 'Reckless Rocketeer', 'Spellbreaker', 'River Crocolisk', 'Tar Creeper', 'Kobold Geomancer', 'Voidlord', 'Midnight Drake', 'Acherus Veteran', 'Kabal Lackey', 'Murloc Warleader', \"Medivh's Valet\", \"Light's Justice\", 'Shattered Sun Cleric', 'Force-Tank MAX', 'Dragonling Mechanic', 'Soulfire', 'Blazecaller', 'Dire Mole', 'Tundra Rhino', 'Inner Fire', 'Northshire Cleric', 'Crystalweaver', 'Edwin VanCleef', 'Faceless Manipulator', 'Grimscale Chum', 'Plated Beetle', 'Lost in the Jungle', 'Faceless Behemoth', 'Ice Block', 'Shiv', 'Psych-o-Tron', 'Squirming Tentacle', 'Flanking Strike', 'Wax Elemental', 'Power Word: Shield', 'Animal Companion', 'Argent Commander', 'Battle Rage', 'Sleep with the Fishes', 'Whirlwind', 'Finja, the Flying Star', 'Living Mana', 'Mark of the Lotus', 'Call to Arms', 'Execute', 'Skulking Geist', 'Volcano', 'Felguard', 'Fire Elemental', 'Lesser Jasper Spellstone', \"Bloodreaver Gul'dan\", 'Blessing of Might', 'Prince Taldaram', 'Stand Against Darkness', 'Core Hound', 'Righteous Protector', 'Hot Spring Guardian', 'Sunkeeper Tarim', 'Stegodon', 'Bog Creeper', 'Flying Machine', 'Grotesque Dragonhawk', 'Possessed Lackey', 'Gnomeregan Infantry', 'Crystal Lion', 'Darkscale Healer', 'Voidwalker'}\n"
     ]
    }
   ],
   "source": [
    "print(train_cards)\n",
    "print(test_cards)"
   ]
  },
  {
   "cell_type": "code",
   "execution_count": 547,
   "metadata": {},
   "outputs": [
    {
     "name": "stdout",
     "output_type": "stream",
     "text": [
      "313 330\n"
     ]
    }
   ],
   "source": [
    "print(len(test_cards), len(train_cards))"
   ]
  },
  {
   "cell_type": "code",
   "execution_count": 548,
   "metadata": {},
   "outputs": [
    {
     "name": "stdout",
     "output_type": "stream",
     "text": [
      "295\n"
     ]
    }
   ],
   "source": [
    "all_cards = test_cards.intersection(train_cards)\n",
    "print(len(all_cards))"
   ]
  },
  {
   "cell_type": "code",
   "execution_count": 626,
   "metadata": {},
   "outputs": [
    {
     "name": "stdout",
     "output_type": "stream",
     "text": [
      "  player        deck    result\n",
      "0     A1  deck100087  0.291667\n",
      "1     A1  deck101443  0.276627\n",
      "2     A1  deck102280  0.550613\n",
      "3     A1  deck104259  0.404459\n",
      "4     A1  deck105300  0.397929\n"
     ]
    }
   ],
   "source": [
    "train_df = training_games.get(['bot1', 'deck1', 'result']).rename(index=str, columns={'bot1': 'player', 'deck1': 'deck'})\n",
    "train_df['result'] = 1 - train_df['result']\n",
    "train_df = train_df.append([training_games.get(['bot2', 'deck2', 'result']).rename(index=str, columns={\n",
    "    'bot2': 'player', 'deck2': 'deck'})])\n",
    "train_df = train_df.groupby(['player', 'deck'])['result'].mean()\n",
    "train_df = train_df.reset_index()\n",
    "print(train_df.head())"
   ]
  },
  {
   "cell_type": "markdown",
   "metadata": {},
   "source": [
    "### Card names one hot encoding"
   ]
  },
  {
   "cell_type": "code",
   "execution_count": 738,
   "metadata": {},
   "outputs": [],
   "source": [
    "def intersect_with_test_cards(cards_dict):\n",
    "    keys = test_cards.intersection(cards_dict)\n",
    "    return {k:cards_dict[k] for k in keys} "
   ]
  },
  {
   "cell_type": "code",
   "execution_count": 739,
   "metadata": {},
   "outputs": [],
   "source": [
    "from sklearn.feature_extraction import DictVectorizer\n",
    "v = DictVectorizer(sparse=False)\n",
    "D = [deck.cards for deck in training_decks.values()]\n",
    "X = v.fit_transform(D)"
   ]
  },
  {
   "cell_type": "code",
   "execution_count": 740,
   "metadata": {},
   "outputs": [],
   "source": [
    "heros_arr = np.zeros((len(train_df['deck']), len(test_heros)))\n",
    "\n",
    "for i, deck_name in enumerate(train_df['deck']):\n",
    "    for j, hero in enumerate(test_heros):\n",
    "        heros_arr[i, j] = training_decks[deck_name].hero == hero"
   ]
  },
  {
   "cell_type": "code",
   "execution_count": 798,
   "metadata": {},
   "outputs": [
    {
     "name": "stdout",
     "output_type": "stream",
     "text": [
      "{'A1': 0.5479408387725019, 'A2': 0.4844957795425409, 'B1': 0.45799675245171284, 'B2': 0.442160634845661}\n"
     ]
    }
   ],
   "source": [
    "ai_rates_df = (training_games.groupby(['bot1'])['result'].mean() + 1 - training_games.groupby(['bot2'])['result'].mean()) / 2\n",
    "ai_rates_dict = ai_rates_df.to_dict()\n",
    "print(ai_rates_dict)"
   ]
  },
  {
   "cell_type": "code",
   "execution_count": 800,
   "metadata": {},
   "outputs": [],
   "source": [
    "import numpy as np\n",
    "\n",
    "players = ['A1', 'A2', 'B1', 'B2']\n",
    "\n",
    "players_features = [(train_df['player'] == pl).as_matrix() for pl in players]\n",
    "players_rates = np.array([ai_rates_dict[pl] for pl in train_df['player']])\n",
    "\n",
    "x = np.array([v.transform(training_decks[deck_name].cards)[0] for deck_name in train_df['deck']])"
   ]
  },
  {
   "cell_type": "code",
   "execution_count": 803,
   "metadata": {},
   "outputs": [
    {
     "name": "stdout",
     "output_type": "stream",
     "text": [
      "(1600, 1)\n"
     ]
    }
   ],
   "source": [
    "print(players_rates.reshape(-1, 1).shape)"
   ]
  },
  {
   "cell_type": "markdown",
   "metadata": {},
   "source": [
    "### Let's get some statistics for each card"
   ]
  },
  {
   "cell_type": "code",
   "execution_count": 742,
   "metadata": {},
   "outputs": [],
   "source": [
    "card_stats = json.load(open('data/cards.json', 'r'))\n",
    "json.dump(card_stats, open('data/formatted_cards.json', 'w'), indent=4)"
   ]
  },
  {
   "cell_type": "code",
   "execution_count": 743,
   "metadata": {},
   "outputs": [],
   "source": [
    "card_stats = [stat for stat in card_stats if 'name' in stat]"
   ]
  },
  {
   "cell_type": "code",
   "execution_count": 744,
   "metadata": {},
   "outputs": [],
   "source": [
    "stats_dict = {stat['name']:stat for stat in card_stats}"
   ]
  },
  {
   "cell_type": "code",
   "execution_count": 745,
   "metadata": {},
   "outputs": [],
   "source": [
    "from collections import Counter\n",
    "\n",
    "def aggregate_results(feature, fun, decks):\n",
    "    counter = Counter()\n",
    "\n",
    "    for stat in stats_dict.values():\n",
    "        if feature in stat:\n",
    "            counter[stat['name']] = stat[feature]\n",
    "    \n",
    "    def total_val(deck):\n",
    "        total = 0\n",
    "        cards = []\n",
    "        for card, count in deck.cards.items():\n",
    "            cards += [card] * count\n",
    "        cards = [stats_dict[card].get(feature, 0) for card in cards]\n",
    "        return fun(cards)\n",
    "\n",
    "    return np.array([total_val(deck) for deck in decks])"
   ]
  },
  {
   "cell_type": "code",
   "execution_count": 836,
   "metadata": {},
   "outputs": [
    {
     "name": "stdout",
     "output_type": "stream",
     "text": [
      "(9, 1600)\n"
     ]
    }
   ],
   "source": [
    "card_features = ['cost', 'attack', 'health'#, 'durability', 'armor'\n",
    "                ]\n",
    "functions = [np.mean, np.median, np.var, \n",
    "             #np.max\n",
    "            ]\n",
    "\n",
    "tr_decks = [training_decks[deck_name] for deck_name in train_df['deck']]\n",
    "\n",
    "def get_aggregated_features(decks=tr_decks):\n",
    "    features_x = []\n",
    "    for feature in card_features:\n",
    "        for fun in functions:\n",
    "            features_x.append(aggregate_results(feature, fun, decks))\n",
    "    features_x = np.array(features_x)\n",
    "    return features_x\n",
    "\n",
    "features_x = get_aggregated_features()\n",
    "print(features_x.shape)"
   ]
  },
  {
   "cell_type": "code",
   "execution_count": 837,
   "metadata": {},
   "outputs": [],
   "source": [
    "players_x = np.stack(players_features).T\n",
    "players_rates_x = players_rates.reshape(-1, 1)"
   ]
  },
  {
   "cell_type": "code",
   "execution_count": 838,
   "metadata": {},
   "outputs": [
    {
     "name": "stdout",
     "output_type": "stream",
     "text": [
      "(1600, 9)\n",
      "(1600, 9)\n",
      "(1600, 4)\n",
      "(1600, 1)\n",
      "(1600, 330)\n"
     ]
    }
   ],
   "source": [
    "print(features_x.T.shape)\n",
    "print(heros_arr.shape)\n",
    "print(players_x.shape)\n",
    "print(players_rates_x.shape)\n",
    "print(x.shape)"
   ]
  },
  {
   "cell_type": "code",
   "execution_count": 887,
   "metadata": {},
   "outputs": [],
   "source": [
    "\n",
    "X = np.concatenate([x, \n",
    "                    players_x, \n",
    "                    players_rates_x,\n",
    "                    features_x.T, \n",
    "                    heros_arr\n",
    "                   ], axis=1)\n",
    "y = train_df['result'].as_matrix()"
   ]
  },
  {
   "cell_type": "code",
   "execution_count": 888,
   "metadata": {},
   "outputs": [
    {
     "name": "stdout",
     "output_type": "stream",
     "text": [
      "(1600, 353)\n",
      "(1600,)\n"
     ]
    }
   ],
   "source": [
    "print(X.shape)\n",
    "print(y.shape)"
   ]
  },
  {
   "cell_type": "markdown",
   "metadata": {},
   "source": [
    "**shufflujemy dataset**"
   ]
  },
  {
   "cell_type": "code",
   "execution_count": 889,
   "metadata": {},
   "outputs": [],
   "source": [
    "import random\n",
    "indices = random.sample(range(len(y)), len(y))\n",
    "X = X[indices]\n",
    "y = y[indices]\n",
    "y *= 100"
   ]
  },
  {
   "cell_type": "code",
   "execution_count": 891,
   "metadata": {},
   "outputs": [
    {
     "name": "stdout",
     "output_type": "stream",
     "text": [
      "Fitting 8 folds for each of 10 candidates, totalling 80 fits\n",
      "[CV] n_estimators=300, max_depth=4, learning_rate=0.3 ................\n",
      "[CV] n_estimators=300, max_depth=4, learning_rate=0.3 ................\n",
      "[CV] n_estimators=300, max_depth=4, learning_rate=0.3 ................\n",
      "[CV] n_estimators=300, max_depth=4, learning_rate=0.3 ................\n",
      "[CV] n_estimators=300, max_depth=4, learning_rate=0.3 ................\n",
      "[CV] n_estimators=300, max_depth=4, learning_rate=0.3 ................\n",
      "[CV] n_estimators=300, max_depth=4, learning_rate=0.3 ................\n",
      "[CV]  n_estimators=300, max_depth=4, learning_rate=0.3, score=-13.935758564449124, total=  16.1s\n",
      "[CV] n_estimators=300, max_depth=4, learning_rate=0.3 ................\n",
      "[CV]  n_estimators=300, max_depth=4, learning_rate=0.3, score=-13.730924632237505, total=  16.6s\n",
      "[CV] n_estimators=500, max_depth=4, learning_rate=0.6 ................\n",
      "[CV]  n_estimators=300, max_depth=4, learning_rate=0.3, score=-18.83723061284244, total=  18.7s\n",
      "[CV] n_estimators=500, max_depth=4, learning_rate=0.6 ................\n",
      "[CV]  n_estimators=300, max_depth=4, learning_rate=0.3, score=-16.063440756521537, total=  18.7s\n",
      "[CV] n_estimators=500, max_depth=4, learning_rate=0.6 ................\n",
      "[CV]  n_estimators=300, max_depth=4, learning_rate=0.3, score=-16.45089095947786, total=  19.0s\n",
      "[CV] n_estimators=500, max_depth=4, learning_rate=0.6 ................\n"
     ]
    },
    {
     "name": "stderr",
     "output_type": "stream",
     "text": [
      "[Parallel(n_jobs=7)]: Done   4 tasks      | elapsed:   19.0s\n"
     ]
    },
    {
     "name": "stdout",
     "output_type": "stream",
     "text": [
      "[CV]  n_estimators=300, max_depth=4, learning_rate=0.3, score=-15.96149970367693, total=  19.8s\n",
      "[CV] n_estimators=500, max_depth=4, learning_rate=0.6 ................\n",
      "[CV]  n_estimators=300, max_depth=4, learning_rate=0.3, score=-16.103731219769244, total=  20.4s\n",
      "[CV] n_estimators=500, max_depth=4, learning_rate=0.6 ................\n",
      "[CV]  n_estimators=300, max_depth=4, learning_rate=0.3, score=-18.596444233950415, total=  18.2s\n",
      "[CV] n_estimators=500, max_depth=4, learning_rate=0.6 ................\n",
      "[CV]  n_estimators=500, max_depth=4, learning_rate=0.6, score=-17.293367084482014, total=  26.8s\n",
      "[CV] n_estimators=500, max_depth=4, learning_rate=0.6 ................\n",
      "[CV]  n_estimators=500, max_depth=4, learning_rate=0.6, score=-19.322055435871633, total=  29.5s\n",
      "[CV] n_estimators=400, max_depth=3, learning_rate=0.4 ................\n",
      "[CV]  n_estimators=500, max_depth=4, learning_rate=0.6, score=-21.022780539956113, total=  32.3s\n",
      "[CV] n_estimators=400, max_depth=3, learning_rate=0.4 ................\n",
      "[CV]  n_estimators=500, max_depth=4, learning_rate=0.6, score=-16.863782985132318, total=  32.8s\n",
      "[CV] n_estimators=400, max_depth=3, learning_rate=0.4 ................\n",
      "[CV]  n_estimators=500, max_depth=4, learning_rate=0.6, score=-17.491096497453288, total=  32.4s\n",
      "[CV] n_estimators=400, max_depth=3, learning_rate=0.4 ................\n",
      "[CV]  n_estimators=500, max_depth=4, learning_rate=0.6, score=-18.05113689792806, total=  31.9s\n",
      "[CV] n_estimators=400, max_depth=3, learning_rate=0.4 ................\n",
      "[CV]  n_estimators=500, max_depth=4, learning_rate=0.6, score=-17.811150998037547, total=  28.7s\n",
      "[CV] n_estimators=400, max_depth=3, learning_rate=0.4 ................\n",
      "[CV]  n_estimators=400, max_depth=3, learning_rate=0.4, score=-17.462729522965734, total=  16.1s\n",
      "[CV] n_estimators=400, max_depth=3, learning_rate=0.4 ................\n",
      "[CV]  n_estimators=400, max_depth=3, learning_rate=0.4, score=-13.54980921363895, total=  16.1s\n",
      "[CV] n_estimators=400, max_depth=3, learning_rate=0.4 ................\n",
      "[CV]  n_estimators=400, max_depth=3, learning_rate=0.4, score=-16.54580534509453, total=  16.7s\n",
      "[CV] n_estimators=500, max_depth=3, learning_rate=0.4 ................\n",
      "[CV]  n_estimators=400, max_depth=3, learning_rate=0.4, score=-17.335688281479577, total=  18.6s\n",
      "[CV] n_estimators=500, max_depth=3, learning_rate=0.4 ................\n",
      "[CV]  n_estimators=500, max_depth=4, learning_rate=0.6, score=-19.0805859106441, total=  28.0s\n",
      "[CV] n_estimators=500, max_depth=3, learning_rate=0.4 ................\n",
      "[CV]  n_estimators=400, max_depth=3, learning_rate=0.4, score=-12.414896700441268, total=  20.1s\n",
      "[CV] n_estimators=500, max_depth=3, learning_rate=0.4 ................\n",
      "[CV]  n_estimators=400, max_depth=3, learning_rate=0.4, score=-15.934932223605001, total=  19.7s\n",
      "[CV] n_estimators=500, max_depth=3, learning_rate=0.4 ................\n",
      "[CV]  n_estimators=400, max_depth=3, learning_rate=0.4, score=-14.668832211774957, total=  20.6s\n",
      "[CV] n_estimators=500, max_depth=3, learning_rate=0.4 ................\n",
      "[CV]  n_estimators=400, max_depth=3, learning_rate=0.4, score=-18.047573504052696, total=  20.8s\n",
      "[CV] n_estimators=500, max_depth=3, learning_rate=0.4 ................\n",
      "[CV]  n_estimators=500, max_depth=3, learning_rate=0.4, score=-14.544427484664475, total=  24.8s\n",
      "[CV] n_estimators=500, max_depth=3, learning_rate=0.4 ................\n",
      "[CV]  n_estimators=500, max_depth=3, learning_rate=0.4, score=-17.95877765449198, total=  26.6s\n",
      "[CV] n_estimators=300, max_depth=3, learning_rate=0.6 ................\n",
      "[CV]  n_estimators=500, max_depth=3, learning_rate=0.4, score=-17.13758301420153, total=  24.4s\n",
      "[CV] n_estimators=300, max_depth=3, learning_rate=0.6 ................\n",
      "[CV]  n_estimators=500, max_depth=3, learning_rate=0.4, score=-16.272962917883298, total=  24.7s\n",
      "[CV] n_estimators=300, max_depth=3, learning_rate=0.6 ................\n",
      "[CV]  n_estimators=300, max_depth=3, learning_rate=0.6, score=-16.38998064266392, total=   8.9s\n",
      "[CV] n_estimators=300, max_depth=3, learning_rate=0.6 ................\n",
      "[CV]  n_estimators=500, max_depth=3, learning_rate=0.4, score=-12.862635136244679, total=  25.3s\n",
      "[CV] n_estimators=300, max_depth=3, learning_rate=0.6 ................\n",
      "[CV]  n_estimators=500, max_depth=3, learning_rate=0.4, score=-16.905660471047636, total=  24.1s\n",
      "[CV] n_estimators=300, max_depth=3, learning_rate=0.6 ................\n",
      "[CV]  n_estimators=300, max_depth=3, learning_rate=0.6, score=-17.005990557742066, total=  12.4s\n",
      "[CV] n_estimators=300, max_depth=3, learning_rate=0.6 ................\n",
      "[CV]  n_estimators=300, max_depth=3, learning_rate=0.6, score=-19.236690473212423, total=  14.3s\n",
      "[CV] n_estimators=300, max_depth=3, learning_rate=0.6 ................\n",
      "[CV]  n_estimators=500, max_depth=3, learning_rate=0.4, score=-15.268462096804555, total=  26.4s\n",
      "[CV] n_estimators=400, max_depth=3, learning_rate=0.6 ................\n",
      "[CV]  n_estimators=300, max_depth=3, learning_rate=0.6, score=-19.022145037140795, total=  12.7s\n",
      "[CV] n_estimators=400, max_depth=3, learning_rate=0.6 ................\n",
      "[CV]  n_estimators=500, max_depth=3, learning_rate=0.4, score=-18.72567365657919, total=  23.0s\n",
      "[CV] n_estimators=400, max_depth=3, learning_rate=0.6 ................\n",
      "[CV]  n_estimators=300, max_depth=3, learning_rate=0.6, score=-16.364636580550812, total=  13.4s\n",
      "[CV] n_estimators=400, max_depth=3, learning_rate=0.6 ................\n",
      "[CV]  n_estimators=300, max_depth=3, learning_rate=0.6, score=-17.657618601792315, total=  13.0s\n",
      "[CV] n_estimators=400, max_depth=3, learning_rate=0.6 ................\n",
      "[CV]  n_estimators=300, max_depth=3, learning_rate=0.6, score=-17.721717865605783, total=  14.4s\n",
      "[CV] n_estimators=400, max_depth=3, learning_rate=0.6 ................\n",
      "[CV]  n_estimators=300, max_depth=3, learning_rate=0.6, score=-18.997662862962745, total=  14.2s\n",
      "[CV] n_estimators=400, max_depth=3, learning_rate=0.6 ................\n",
      "[CV]  n_estimators=400, max_depth=3, learning_rate=0.6, score=-19.9404397196941, total=  19.8s\n",
      "[CV] n_estimators=400, max_depth=3, learning_rate=0.6 ................\n",
      "[CV]  n_estimators=400, max_depth=3, learning_rate=0.6, score=-18.006648485794308, total=  17.8s\n",
      "[CV] n_estimators=300, max_depth=3, learning_rate=0.5 ................\n",
      "[CV]  n_estimators=400, max_depth=3, learning_rate=0.6, score=-15.998468187530639, total=  19.6s\n",
      "[CV] n_estimators=300, max_depth=3, learning_rate=0.5 ................\n",
      "[CV]  n_estimators=400, max_depth=3, learning_rate=0.6, score=-19.531884781402354, total=  20.5s\n",
      "[CV] n_estimators=300, max_depth=3, learning_rate=0.5 ................\n",
      "[CV]  n_estimators=400, max_depth=3, learning_rate=0.6, score=-17.514339790403383, total=  19.6s\n",
      "[CV] n_estimators=300, max_depth=3, learning_rate=0.5 ................\n",
      "[CV]  n_estimators=400, max_depth=3, learning_rate=0.6, score=-17.86644897241296, total=  20.2s\n",
      "[CV] n_estimators=300, max_depth=3, learning_rate=0.5 ................\n",
      "[CV]  n_estimators=400, max_depth=3, learning_rate=0.6, score=-18.758194797317913, total=  20.9s\n",
      "[CV] n_estimators=300, max_depth=3, learning_rate=0.5 ................\n",
      "[CV]  n_estimators=300, max_depth=3, learning_rate=0.5, score=-18.932196460564477, total=  12.6s\n",
      "[CV] n_estimators=300, max_depth=3, learning_rate=0.5 ................\n",
      "[CV]  n_estimators=300, max_depth=3, learning_rate=0.5, score=-16.16460323159263, total=  14.7s\n",
      "[CV] n_estimators=300, max_depth=3, learning_rate=0.5 ................\n",
      "[CV]  n_estimators=400, max_depth=3, learning_rate=0.6, score=-19.528457204510456, total=  19.1s\n",
      "[CV] n_estimators=400, max_depth=3, learning_rate=0.3 ................\n",
      "[CV]  n_estimators=300, max_depth=3, learning_rate=0.5, score=-16.733248036298125, total=  13.6s\n",
      "[CV] n_estimators=400, max_depth=3, learning_rate=0.3 ................\n",
      "[CV]  n_estimators=300, max_depth=3, learning_rate=0.5, score=-17.33399787345045, total=  15.1s\n",
      "[CV] n_estimators=400, max_depth=3, learning_rate=0.3 ................\n",
      "[CV]  n_estimators=300, max_depth=3, learning_rate=0.5, score=-13.280032111745811, total=  14.9s\n",
      "[CV] n_estimators=400, max_depth=3, learning_rate=0.3 ................\n",
      "[CV]  n_estimators=300, max_depth=3, learning_rate=0.5, score=-16.970108838519398, total=  14.1s\n",
      "[CV] n_estimators=400, max_depth=3, learning_rate=0.3 ................\n"
     ]
    },
    {
     "name": "stdout",
     "output_type": "stream",
     "text": [
      "[CV]  n_estimators=300, max_depth=3, learning_rate=0.5, score=-17.809597790837117, total=  13.9s\n",
      "[CV] n_estimators=400, max_depth=3, learning_rate=0.3 ................\n",
      "[CV]  n_estimators=300, max_depth=3, learning_rate=0.5, score=-18.01198877634348, total=  13.0s\n",
      "[CV] n_estimators=400, max_depth=3, learning_rate=0.3 ................\n",
      "[CV]  n_estimators=400, max_depth=3, learning_rate=0.3, score=-16.094144703897683, total=  18.4s\n",
      "[CV] n_estimators=400, max_depth=3, learning_rate=0.3 ................\n",
      "[CV]  n_estimators=400, max_depth=3, learning_rate=0.3, score=-12.608713250837267, total=  18.0s\n",
      "[CV] n_estimators=300, max_depth=3, learning_rate=0.4 ................\n"
     ]
    },
    {
     "name": "stderr",
     "output_type": "stream",
     "text": [
      "[Parallel(n_jobs=7)]: Done  58 tasks      | elapsed:  2.9min\n"
     ]
    },
    {
     "name": "stdout",
     "output_type": "stream",
     "text": [
      "[CV]  n_estimators=400, max_depth=3, learning_rate=0.3, score=-15.775149749199654, total=  18.2s\n",
      "[CV] n_estimators=300, max_depth=3, learning_rate=0.4 ................\n",
      "[CV]  n_estimators=400, max_depth=3, learning_rate=0.3, score=-12.666267983580441, total=  17.9s\n",
      "[CV] n_estimators=300, max_depth=3, learning_rate=0.4 ................\n",
      "[CV]  n_estimators=400, max_depth=3, learning_rate=0.3, score=-16.480788253927795, total=  18.4s\n",
      "[CV] n_estimators=300, max_depth=3, learning_rate=0.4 ................\n",
      "[CV]  n_estimators=400, max_depth=3, learning_rate=0.3, score=-14.506783496353492, total=  19.3s\n",
      "[CV] n_estimators=300, max_depth=3, learning_rate=0.4 ................\n",
      "[CV]  n_estimators=400, max_depth=3, learning_rate=0.3, score=-15.464332048858605, total=  18.2s\n",
      "[CV] n_estimators=300, max_depth=3, learning_rate=0.4 ................\n",
      "[CV]  n_estimators=300, max_depth=3, learning_rate=0.4, score=-16.76078441706881, total=  13.8s\n",
      "[CV] n_estimators=300, max_depth=3, learning_rate=0.4 ................\n",
      "[CV]  n_estimators=300, max_depth=3, learning_rate=0.4, score=-13.472011086647344, total=  13.3s\n",
      "[CV] n_estimators=300, max_depth=3, learning_rate=0.4 ................\n",
      "[CV]  n_estimators=300, max_depth=3, learning_rate=0.4, score=-17.348834759512695, total=  11.9s\n",
      "[CV] n_estimators=200, max_depth=4, learning_rate=0.3 ................\n",
      "[CV]  n_estimators=300, max_depth=3, learning_rate=0.4, score=-16.97867026521192, total=  13.1s\n",
      "[CV] n_estimators=200, max_depth=4, learning_rate=0.3 ................\n",
      "[CV]  n_estimators=400, max_depth=3, learning_rate=0.3, score=-17.745335667277992, total=  18.8s\n",
      "[CV] n_estimators=200, max_depth=4, learning_rate=0.3 ................\n",
      "[CV]  n_estimators=300, max_depth=3, learning_rate=0.4, score=-15.834530449299253, total=  12.3s\n",
      "[CV] n_estimators=200, max_depth=4, learning_rate=0.3 ................\n",
      "[CV]  n_estimators=300, max_depth=3, learning_rate=0.4, score=-12.833737347459579, total=  14.8s\n",
      "[CV] n_estimators=200, max_depth=4, learning_rate=0.3 ................\n",
      "[CV]  n_estimators=300, max_depth=3, learning_rate=0.4, score=-15.503178717298123, total=  13.7s\n",
      "[CV] n_estimators=200, max_depth=4, learning_rate=0.3 ................\n",
      "[CV]  n_estimators=300, max_depth=3, learning_rate=0.4, score=-17.921008041837084, total=  13.7s\n",
      "[CV] n_estimators=200, max_depth=4, learning_rate=0.3 ................\n",
      "[CV]  n_estimators=200, max_depth=4, learning_rate=0.3, score=-16.572018654476228, total=  13.5s\n",
      "[CV] n_estimators=200, max_depth=4, learning_rate=0.3 ................\n",
      "[CV]  n_estimators=200, max_depth=4, learning_rate=0.3, score=-19.51484745079943, total=  11.7s\n",
      "[CV]  n_estimators=200, max_depth=4, learning_rate=0.3, score=-13.477489874209622, total=  12.7s\n",
      "[CV]  n_estimators=200, max_depth=4, learning_rate=0.3, score=-15.910066469288047, total=  11.7s\n",
      "[CV]  n_estimators=200, max_depth=4, learning_rate=0.3, score=-12.72609655319938, total=  11.7s\n",
      "[CV]  n_estimators=200, max_depth=4, learning_rate=0.3, score=-15.584303805819024, total=   7.4s\n",
      "[CV]  n_estimators=200, max_depth=4, learning_rate=0.3, score=-17.132821277012287, total=   7.1s\n",
      "[CV]  n_estimators=200, max_depth=4, learning_rate=0.3, score=-16.732875333917764, total=   7.7s\n"
     ]
    },
    {
     "name": "stderr",
     "output_type": "stream",
     "text": [
      "[Parallel(n_jobs=7)]: Done  80 out of  80 | elapsed:  3.5min finished\n"
     ]
    },
    {
     "name": "stdout",
     "output_type": "stream",
     "text": [
      "3.8945717857348083\n",
      "{'n_estimators': 400, 'max_depth': 3, 'learning_rate': 0.3}\n"
     ]
    }
   ],
   "source": [
    "from sklearn.linear_model import LinearRegression, Ridge, LogisticRegression, SGDRegressor\n",
    "from sklearn.ensemble import RandomForestRegressor, GradientBoostingRegressor\n",
    "from sklearn.neighbors import KNeighborsRegressor\n",
    "from sklearn.svm import SVR, LinearSVR\n",
    "from sklearn.model_selection import GridSearchCV, RandomizedSearchCV\n",
    "from sklearn.preprocessing import PolynomialFeatures\n",
    "from sklearn.linear_model import BayesianRidge, SGDRegressor\n",
    "from sklearn.preprocessing import StandardScaler\n",
    "from sklearn.neural_network import MLPRegressor\n",
    "\n",
    "clf = SVR(gamma=0.001, epsilon=0.1, C=100, kernel='rbf')\n",
    "gb = GradientBoostingRegressor()\n",
    "gb_params = {'learning_rate': [0.3, 0.4, 0.5, 0.6, ],\n",
    "            'max_depth': [3, 4],\n",
    "             'n_estimators': [200, 300, 400, 500, 600]\n",
    "            #'criterion': ['friedman_mse', 'mse'],\n",
    "            #'max_features': [None, 'sqrt', 'log2']\n",
    "            }\n",
    "\n",
    "parameters = {'C': np.arange(1, 20) * 50, \n",
    "              'gamma': ['auto', 0.0005, 0.001, 0.005, 0.01, 0.02],\n",
    "              'epsilon': [0.005, 0.01, 0.02, 0.03, 0.05, 0.1]\n",
    "             }\n",
    "\n",
    "nn_params = {'hidden_layer_sizes': [(300,), (512,), (800,)]}\n",
    "\n",
    "nn = MLPRegressor(hidden_layer_sizes=(512, ))\n",
    "\n",
    "X_new = StandardScaler().fit_transform(X)\n",
    "\n",
    "grid_clf = RandomizedSearchCV(gb, gb_params, scoring='neg_mean_squared_error', cv=8, verbose=5, n_jobs=7)\n",
    "grid_clf = grid_clf.fit(X_new, y)\n",
    "print(np.sqrt(-grid_clf.best_score_))\n",
    "print(grid_clf.best_params_)"
   ]
  },
  {
   "cell_type": "code",
   "execution_count": 872,
   "metadata": {},
   "outputs": [],
   "source": [
    "import math\n",
    "\n",
    "def reduce(x):\n",
    "    x = np.array([max(val, 0) for val in x])\n",
    "    return np.array([min(val, 100) for val in x])"
   ]
  },
  {
   "cell_type": "code",
   "execution_count": 892,
   "metadata": {},
   "outputs": [],
   "source": [
    "svr_classifier = SVR(gamma=0.01, epsilon=0.02, C=100)\n",
    "svr_classifier = svr_classifier.fit(X, y)\n",
    "gb_classifier = GradientBoostingRegressor(n_estimators=500, learning_rate=0.3, max_depth=3, max_features=None)\n",
    "gb_classifier = gb_classifier.fit(X, y)\n",
    "#nn_classifier = MLPRegressor(hidden_layer_sizes=(512, ))\n",
    "#nn_classifier = nn_classifier.fit(X, y)"
   ]
  },
  {
   "cell_type": "code",
   "execution_count": 897,
   "metadata": {},
   "outputs": [],
   "source": [
    "\n",
    "def predict(deck, player, classifier, classifier2):\n",
    "    players_features = [player == pl for pl in players]\n",
    "    players_rates = [ai_rates_dict[player]]\n",
    "\n",
    "    \n",
    "    heros_arr = np.zeros((len(test_heros), ))\n",
    "\n",
    "    for j, hero in enumerate(test_heros):\n",
    "        heros_arr[j] = deck.hero == hero\n",
    "\n",
    "\n",
    "    heros_arr = heros_arr.reshape(-1, 1)\n",
    "    players_x = np.array(players_features).reshape(-1, 1)\n",
    "    players_rates_x = np.array([players_rates]).reshape(-1, 1)\n",
    "    features_x = get_aggregated_features([deck])\n",
    "    x_test = np.array(v.transform([deck.cards]))\n",
    "    x_test = x_test.reshape(-1, 1)\n",
    "    X_pred = np.concatenate([x_test, \n",
    "                             players_x, \n",
    "                             players_rates_x,\n",
    "                             features_x,\n",
    "                             heros_arr])\n",
    "    X_pred = X_pred.reshape(1, -1)\n",
    "    preds = classifier.predict(X_pred) * 0.8 + classifier2.predict(X_pred) * 0.2\n",
    "    return reduce(preds)\n"
   ]
  },
  {
   "cell_type": "code",
   "execution_count": 898,
   "metadata": {},
   "outputs": [
    {
     "name": "stdout",
     "output_type": "stream",
     "text": [
      "    deck_name player   win_rate\n",
      "0  deck244804     A1  25.058818\n",
      "1  deck124802     A1  43.822360\n",
      "2  deck687350     A1  48.245318\n",
      "3  deck517728     A1  47.278199\n",
      "4  deck130762     A1  39.233798\n"
     ]
    }
   ],
   "source": [
    "\n",
    "def get_test_decks_list():\n",
    "    test_decks = []\n",
    "\n",
    "    with open(test_path, 'r') as decks:\n",
    "        for line in decks.readlines():\n",
    "            json_info = json.loads(line)\n",
    "            test_decks.append(json_info['deckName'][0])\n",
    "    return test_decks\n",
    "\n",
    "test_decks_names = get_test_decks_list()\n",
    "\n",
    "def dump_results():\n",
    "    df_results = pd.DataFrame()\n",
    "    for player in players:\n",
    "        for deck_name in test_decks_names:\n",
    "            deck = test_decks[deck_name]\n",
    "            win_rate = predict(deck, player, svr_classifier, gb_classifier)[0]\n",
    "            df_results = df_results.append({'player': player, 'deck_name': deck_name, 'win_rate': win_rate}, \n",
    "                                           ignore_index=True)\n",
    "\n",
    "    print(df_results.head())\n",
    "    df_results.to_csv('data/test_results.csv', index=False, header=False, columns=['player', 'deck_name', 'win_rate'],\n",
    "                     sep=';')\n",
    "    return df_results\n",
    "\n",
    "df_results = dump_results()"
   ]
  },
  {
   "cell_type": "code",
   "execution_count": 899,
   "metadata": {},
   "outputs": [
    {
     "data": {
      "image/png": "[encoded data removed]",
      "text/plain": [
       "<matplotlib.figure.Figure at 0x7fc4ea67b828>"
      ]
     },
     "metadata": {},
     "output_type": "display_data"
    }
   ],
   "source": [
    "import matplotlib.pyplot as plt\n",
    "%matplotlib inline\n",
    "plt.hist(df_results['win_rate'])\n",
    "plt.show()"
   ]
  },
  {
   "cell_type": "code",
   "execution_count": 900,
   "metadata": {},
   "outputs": [
    {
     "name": "stdout",
     "output_type": "stream",
     "text": [
      "51.90483198770591\n"
     ]
    }
   ],
   "source": [
    "print(np.mean(df_results['win_rate']))"
   ]
  },
  {
   "cell_type": "code",
   "execution_count": 903,
   "metadata": {},
   "outputs": [
    {
     "name": "stdout",
     "output_type": "stream",
     "text": [
      "Counter({'Paladin': 268, 'Warlock': 264, 'Hunter': 264, 'Rogue': 144, 'Priest': 136, 'Mage': 136, 'Druid': 132, 'Shaman': 128, 'Warrior': 128})\n"
     ]
    }
   ],
   "source": [
    "heros = [deck.hero for deck in tr_decks]\n",
    "tr_hero_counts = Counter(heros)\n",
    "print(tr_hero_counts)"
   ]
  },
  {
   "cell_type": "code",
   "execution_count": 905,
   "metadata": {},
   "outputs": [
    {
     "name": "stdout",
     "output_type": "stream",
     "text": [
      "Counter({'Hunter': 33, 'Warlock': 33, 'Paladin': 32, 'Warrior': 19, 'Shaman': 18, 'Druid': 18, 'Priest': 17, 'Mage': 16, 'Rogue': 14})\n"
     ]
    }
   ],
   "source": [
    "test_heros = [deck.hero for deck in test_decks.values()]\n",
    "test_hero_counts = Counter(test_heros)\n",
    "print(test_hero_counts)"
   ]
  },
  {
   "cell_type": "code",
   "execution_count": null,
   "metadata": {},
   "outputs": [],
   "source": []
  }
 ],
 "metadata": {
  "kernelspec": {
   "display_name": "Python 3",
   "language": "python",
   "name": "python3"
  },
  "language_info": {
   "codemirror_mode": {
    "name": "ipython",
    "version": 3
   },
   "file_extension": ".py",
   "mimetype": "text/x-python",
   "name": "python",
   "nbconvert_exporter": "python",
   "pygments_lexer": "ipython3",
   "version": "3.6.4"
  }
 },
 "nbformat": 4,
 "nbformat_minor": 2
}
