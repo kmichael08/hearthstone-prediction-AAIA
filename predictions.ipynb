{
 "cells": [
  {
   "cell_type": "code",
   "execution_count": 1,
   "metadata": {},
   "outputs": [],
   "source": [
    "import json\n",
    "from collections import Counter\n",
    "\n",
    "class Deck:\n",
    "    def __init__(self, info):\n",
    "        self.name = info['deckName'][0]\n",
    "        self.hero = info['hero'][0]\n",
    "        self.cards = Counter()\n",
    "        for name, [count] in info['cards'].items():\n",
    "            self.cards[name] = count\n",
    "\n",
    "training_path = 'data/trainingDecks.json'\n",
    "test_path = 'data/testDecks.json'\n",
    "            \n",
    "def get_decks_dict(path):\n",
    "    decks_dict = dict()    \n",
    "    \n",
    "    with open(path, 'r') as decks:\n",
    "        for line in decks.readlines():\n",
    "            json_info = json.loads(line)\n",
    "            decks_dict[json_info['deckName'][0]] = Deck(json_info)\n",
    "    return decks_dict\n",
    "\n",
    "training_decks = get_decks_dict(training_path)\n",
    "test_decks = get_decks_dict(test_path)"
   ]
  },
  {
   "cell_type": "code",
   "execution_count": 2,
   "metadata": {},
   "outputs": [
    {
     "name": "stdout",
     "output_type": "stream",
     "text": [
      "         id bot1       deck1 bot2       deck2  result\n",
      "0  100001.0   A1  deck113225   A1  deck731599       0\n",
      "1  100002.0   A1  deck694943   A1  deck929572       1\n",
      "2  100003.0   A1  deck182567   A1  deck525929       0\n",
      "3  100004.0   A1  deck219364   A1  deck757429       1\n",
      "4  100005.0   A1  deck826229   A1  deck337123       1\n",
      "299680\n"
     ]
    }
   ],
   "source": [
    "import pandas as pd\n",
    "training_games = pd.read_csv('data/training_games.csv', delimiter=';', \n",
    "                             names=['id', 'bot1', 'deck1', 'bot2', 'deck2', 'result'])\n",
    "training_games['result'] = training_games['result'] == 'PLAYER_1 WON'\n",
    "training_games['result'] = training_games['result'].astype(int)\n",
    "print(training_games.head())\n",
    "print(len(training_games))"
   ]
  },
  {
   "cell_type": "code",
   "execution_count": 3,
   "metadata": {},
   "outputs": [
    {
     "name": "stdout",
     "output_type": "stream",
     "text": [
      "{'Mage', 'Shaman', 'Warlock', 'Druid', 'Priest', 'Paladin', 'Rogue', 'Hunter', 'Warrior'}\n"
     ]
    }
   ],
   "source": [
    "heros = {deck.hero for deck in training_decks.values()}\n",
    "print(heros)"
   ]
  },
  {
   "cell_type": "code",
   "execution_count": 15,
   "metadata": {},
   "outputs": [
    {
     "name": "stdout",
     "output_type": "stream",
     "text": [
      "  player        deck    result\n",
      "0     A1  deck100087  0.291667\n",
      "1     A1  deck101443  0.276627\n",
      "2     A1  deck102280  0.550613\n",
      "3     A1  deck104259  0.404459\n",
      "4     A1  deck105300  0.397929\n"
     ]
    }
   ],
   "source": [
    "train_df = training_games.get(['bot1', 'deck1', 'result']).rename(index=str, columns={'bot1': 'player', 'deck1': 'deck'})\n",
    "train_df['result'] = 1 - train_df['result']\n",
    "train_df = train_df.append([training_games.get(['bot2', 'deck2', 'result']).rename(index=str, columns={\n",
    "    'bot2': 'player', 'deck2': 'deck'})])\n",
    "train_df = train_df.groupby(['player', 'deck'])['result'].mean()\n",
    "train_df = train_df.reset_index()\n",
    "print(train_df.head())"
   ]
  },
  {
   "cell_type": "code",
   "execution_count": 322,
   "metadata": {},
   "outputs": [],
   "source": [
    "from sklearn.feature_extraction import DictVectorizer\n",
    "v = DictVectorizer(sparse=False)\n",
    "D = [deck.cards for deck in training_decks.values()]\n",
    "X = v.fit_transform(D)\n",
    "\n"
   ]
  },
  {
   "cell_type": "code",
   "execution_count": 341,
   "metadata": {},
   "outputs": [],
   "source": [
    "import numpy as np\n",
    "\n",
    "players = ['A1', 'A2', 'B1', 'B2']\n",
    "\n",
    "players_features = [(train_df['player'] == pl).as_matrix() for pl in players]\n",
    "\n",
    "x = np.array([v.transform(training_decks[deck_name].cards)[0] for deck_name in train_df['deck']])"
   ]
  },
  {
   "cell_type": "code",
   "execution_count": 342,
   "metadata": {},
   "outputs": [],
   "source": [
    "players_x = np.stack(players_features).T\n",
    "X = np.concatenate([x, players_x], axis=1)\n",
    "y = train_df['result'].as_matrix()"
   ]
  },
  {
   "cell_type": "code",
   "execution_count": 343,
   "metadata": {},
   "outputs": [
    {
     "name": "stdout",
     "output_type": "stream",
     "text": [
      "(1600, 334)\n",
      "(1600,)\n"
     ]
    }
   ],
   "source": [
    "print(X.shape)\n",
    "print(y.shape)"
   ]
  },
  {
   "cell_type": "markdown",
   "metadata": {},
   "source": [
    "**shufflujemy dataset**"
   ]
  },
  {
   "cell_type": "code",
   "execution_count": 344,
   "metadata": {},
   "outputs": [],
   "source": [
    "import random\n",
    "indices = random.sample(range(len(y)), len(y))\n",
    "X = X[indices]\n",
    "y = y[indices]\n",
    "y *= 100"
   ]
  },
  {
   "cell_type": "code",
   "execution_count": 370,
   "metadata": {},
   "outputs": [
    {
     "name": "stdout",
     "output_type": "stream",
     "text": [
      "Fitting 8 folds for each of 10 candidates, totalling 80 fits\n",
      "[CV] gamma=50, epsilon=0.05, C=900 ...................................\n",
      "[CV]  gamma=50, epsilon=0.05, C=900, score=-163.78508029393421, total=   1.2s\n",
      "[CV] gamma=50, epsilon=0.05, C=900 ...................................\n"
     ]
    },
    {
     "name": "stderr",
     "output_type": "stream",
     "text": [
      "[Parallel(n_jobs=1)]: Done   1 out of   1 | elapsed:    1.9s remaining:    0.0s\n"
     ]
    },
    {
     "name": "stdout",
     "output_type": "stream",
     "text": [
      "[CV]  gamma=50, epsilon=0.05, C=900, score=-178.4828905888289, total=   1.1s\n",
      "[CV] gamma=50, epsilon=0.05, C=900 ...................................\n"
     ]
    },
    {
     "name": "stderr",
     "output_type": "stream",
     "text": [
      "[Parallel(n_jobs=1)]: Done   2 out of   2 | elapsed:    3.7s remaining:    0.0s\n"
     ]
    },
    {
     "name": "stdout",
     "output_type": "stream",
     "text": [
      "[CV]  gamma=50, epsilon=0.05, C=900, score=-186.14552384307717, total=   1.1s\n",
      "[CV] gamma=50, epsilon=0.05, C=900 ...................................\n"
     ]
    },
    {
     "name": "stderr",
     "output_type": "stream",
     "text": [
      "[Parallel(n_jobs=1)]: Done   3 out of   3 | elapsed:    5.5s remaining:    0.0s\n"
     ]
    },
    {
     "name": "stdout",
     "output_type": "stream",
     "text": [
      "[CV]  gamma=50, epsilon=0.05, C=900, score=-166.74853547530503, total=   1.1s\n",
      "[CV] gamma=50, epsilon=0.05, C=900 ...................................\n"
     ]
    },
    {
     "name": "stderr",
     "output_type": "stream",
     "text": [
      "[Parallel(n_jobs=1)]: Done   4 out of   4 | elapsed:    7.3s remaining:    0.0s\n"
     ]
    },
    {
     "name": "stdout",
     "output_type": "stream",
     "text": [
      "[CV]  gamma=50, epsilon=0.05, C=900, score=-174.40738267638102, total=   1.1s\n",
      "[CV] gamma=50, epsilon=0.05, C=900 ...................................\n",
      "[CV]  gamma=50, epsilon=0.05, C=900, score=-160.5246053770365, total=   1.1s\n",
      "[CV] gamma=50, epsilon=0.05, C=900 ...................................\n",
      "[CV]  gamma=50, epsilon=0.05, C=900, score=-184.94239112584737, total=   1.2s\n",
      "[CV] gamma=50, epsilon=0.05, C=900 ...................................\n",
      "[CV]  gamma=50, epsilon=0.05, C=900, score=-161.1503617080469, total=   1.2s\n",
      "[CV] gamma=0.5, epsilon=0.01, C=200 ..................................\n",
      "[CV]  gamma=0.5, epsilon=0.01, C=200, score=-56.490362615754435, total=   1.3s\n",
      "[CV] gamma=0.5, epsilon=0.01, C=200 ..................................\n",
      "[CV]  gamma=0.5, epsilon=0.01, C=200, score=-62.23723149869065, total=   1.2s\n",
      "[CV] gamma=0.5, epsilon=0.01, C=200 ..................................\n",
      "[CV]  gamma=0.5, epsilon=0.01, C=200, score=-64.74055283078823, total=   1.3s\n",
      "[CV] gamma=0.5, epsilon=0.01, C=200 ..................................\n",
      "[CV]  gamma=0.5, epsilon=0.01, C=200, score=-58.26785607927955, total=   1.4s\n",
      "[CV] gamma=0.5, epsilon=0.01, C=200 ..................................\n",
      "[CV]  gamma=0.5, epsilon=0.01, C=200, score=-58.474236091994975, total=   1.3s\n",
      "[CV] gamma=0.5, epsilon=0.01, C=200 ..................................\n",
      "[CV]  gamma=0.5, epsilon=0.01, C=200, score=-55.199811467812076, total=   1.3s\n",
      "[CV] gamma=0.5, epsilon=0.01, C=200 ..................................\n",
      "[CV]  gamma=0.5, epsilon=0.01, C=200, score=-55.80573228572391, total=   1.3s\n",
      "[CV] gamma=0.5, epsilon=0.01, C=200 ..................................\n",
      "[CV]  gamma=0.5, epsilon=0.01, C=200, score=-53.06310117344532, total=   1.3s\n",
      "[CV] gamma=0.1, epsilon=0.05, C=200 ..................................\n",
      "[CV]  gamma=0.1, epsilon=0.05, C=200, score=-19.17580127052467, total=   1.5s\n",
      "[CV] gamma=0.1, epsilon=0.05, C=200 ..................................\n",
      "[CV]  gamma=0.1, epsilon=0.05, C=200, score=-21.616033087164887, total=   1.5s\n",
      "[CV] gamma=0.1, epsilon=0.05, C=200 ..................................\n",
      "[CV]  gamma=0.1, epsilon=0.05, C=200, score=-21.66565924010959, total=   1.5s\n",
      "[CV] gamma=0.1, epsilon=0.05, C=200 ..................................\n",
      "[CV]  gamma=0.1, epsilon=0.05, C=200, score=-19.556048585924017, total=   1.5s\n",
      "[CV] gamma=0.1, epsilon=0.05, C=200 ..................................\n",
      "[CV]  gamma=0.1, epsilon=0.05, C=200, score=-20.29156476613562, total=   1.5s\n",
      "[CV] gamma=0.1, epsilon=0.05, C=200 ..................................\n",
      "[CV]  gamma=0.1, epsilon=0.05, C=200, score=-19.336490621285442, total=   1.5s\n",
      "[CV] gamma=0.1, epsilon=0.05, C=200 ..................................\n",
      "[CV]  gamma=0.1, epsilon=0.05, C=200, score=-18.215938734396104, total=   1.4s\n",
      "[CV] gamma=0.1, epsilon=0.05, C=200 ..................................\n",
      "[CV]  gamma=0.1, epsilon=0.05, C=200, score=-18.685103314763122, total=   1.4s\n",
      "[CV] gamma=0.5, epsilon=0.1, C=500 ...................................\n",
      "[CV]  gamma=0.5, epsilon=0.1, C=500, score=-56.70527600753544, total=   1.2s\n",
      "[CV] gamma=0.5, epsilon=0.1, C=500 ...................................\n",
      "[CV]  gamma=0.5, epsilon=0.1, C=500, score=-62.47143020570034, total=   1.2s\n",
      "[CV] gamma=0.5, epsilon=0.1, C=500 ...................................\n",
      "[CV]  gamma=0.5, epsilon=0.1, C=500, score=-64.99656065111053, total=   1.2s\n",
      "[CV] gamma=0.5, epsilon=0.1, C=500 ...................................\n",
      "[CV]  gamma=0.5, epsilon=0.1, C=500, score=-58.516089883776274, total=   1.2s\n",
      "[CV] gamma=0.5, epsilon=0.1, C=500 ...................................\n",
      "[CV]  gamma=0.5, epsilon=0.1, C=500, score=-58.72511803919848, total=   1.2s\n",
      "[CV] gamma=0.5, epsilon=0.1, C=500 ...................................\n",
      "[CV]  gamma=0.5, epsilon=0.1, C=500, score=-55.39174543511248, total=   1.2s\n",
      "[CV] gamma=0.5, epsilon=0.1, C=500 ...................................\n",
      "[CV]  gamma=0.5, epsilon=0.1, C=500, score=-56.08054477786648, total=   1.1s\n",
      "[CV] gamma=0.5, epsilon=0.1, C=500 ...................................\n",
      "[CV]  gamma=0.5, epsilon=0.1, C=500, score=-53.30503643234016, total=   1.1s\n",
      "[CV] gamma=0.01, epsilon=0.5, C=100 ..................................\n",
      "[CV]  gamma=0.01, epsilon=0.5, C=100, score=-11.790215620518062, total=   1.1s\n",
      "[CV] gamma=0.01, epsilon=0.5, C=100 ..................................\n",
      "[CV]  gamma=0.01, epsilon=0.5, C=100, score=-13.183764453247791, total=   1.1s\n",
      "[CV] gamma=0.01, epsilon=0.5, C=100 ..................................\n",
      "[CV]  gamma=0.01, epsilon=0.5, C=100, score=-12.899560867785278, total=   1.1s\n",
      "[CV] gamma=0.01, epsilon=0.5, C=100 ..................................\n",
      "[CV]  gamma=0.01, epsilon=0.5, C=100, score=-11.32627008231912, total=   1.3s\n",
      "[CV] gamma=0.01, epsilon=0.5, C=100 ..................................\n",
      "[CV]  gamma=0.01, epsilon=0.5, C=100, score=-14.054329511288351, total=   1.1s\n",
      "[CV] gamma=0.01, epsilon=0.5, C=100 ..................................\n",
      "[CV]  gamma=0.01, epsilon=0.5, C=100, score=-11.788661808330048, total=   1.2s\n",
      "[CV] gamma=0.01, epsilon=0.5, C=100 ..................................\n",
      "[CV]  gamma=0.01, epsilon=0.5, C=100, score=-11.40801238560231, total=   1.5s\n",
      "[CV] gamma=0.01, epsilon=0.5, C=100 ..................................\n",
      "[CV]  gamma=0.01, epsilon=0.5, C=100, score=-13.67906540122559, total=   1.9s\n",
      "[CV] gamma=50, epsilon=5, C=400 ......................................\n",
      "[CV]  gamma=50, epsilon=5, C=400, score=-163.42464050134288, total=   0.9s\n",
      "[CV] gamma=50, epsilon=5, C=400 ......................................\n",
      "[CV]  gamma=50, epsilon=5, C=400, score=-179.08154449770893, total=   0.8s\n",
      "[CV] gamma=50, epsilon=5, C=400 ......................................\n",
      "[CV]  gamma=50, epsilon=5, C=400, score=-186.01654611801013, total=   0.8s\n",
      "[CV] gamma=50, epsilon=5, C=400 ......................................\n",
      "[CV]  gamma=50, epsilon=5, C=400, score=-166.87899648316582, total=   0.8s\n",
      "[CV] gamma=50, epsilon=5, C=400 ......................................\n",
      "[CV]  gamma=50, epsilon=5, C=400, score=-174.50138008833127, total=   0.8s\n",
      "[CV] gamma=50, epsilon=5, C=400 ......................................\n",
      "[CV]  gamma=50, epsilon=5, C=400, score=-160.50738365517375, total=   0.8s\n",
      "[CV] gamma=50, epsilon=5, C=400 ......................................\n",
      "[CV]  gamma=50, epsilon=5, C=400, score=-184.9812949353805, total=   0.9s\n",
      "[CV] gamma=50, epsilon=5, C=400 ......................................\n",
      "[CV]  gamma=50, epsilon=5, C=400, score=-160.9955465046178, total=   0.8s\n",
      "[CV] gamma=10, epsilon=5, C=700 ......................................\n",
      "[CV]  gamma=10, epsilon=5, C=700, score=-163.4246395093911, total=   0.8s\n",
      "[CV] gamma=10, epsilon=5, C=700 ......................................\n",
      "[CV]  gamma=10, epsilon=5, C=700, score=-179.0815434440613, total=   0.9s\n",
      "[CV] gamma=10, epsilon=5, C=700 ......................................\n",
      "[CV]  gamma=10, epsilon=5, C=700, score=-186.01654498094996, total=   0.8s\n",
      "[CV] gamma=10, epsilon=5, C=700 ......................................\n",
      "[CV]  gamma=10, epsilon=5, C=700, score=-166.87899549711244, total=   0.9s\n",
      "[CV] gamma=10, epsilon=5, C=700 ......................................\n",
      "[CV]  gamma=10, epsilon=5, C=700, score=-174.50137898086467, total=   0.8s\n",
      "[CV] gamma=10, epsilon=5, C=700 ......................................\n",
      "[CV]  gamma=10, epsilon=5, C=700, score=-160.50738266281996, total=   0.8s\n",
      "[CV] gamma=10, epsilon=5, C=700 ......................................\n",
      "[CV]  gamma=10, epsilon=5, C=700, score=-184.9812937406504, total=   0.8s\n",
      "[CV] gamma=10, epsilon=5, C=700 ......................................\n",
      "[CV]  gamma=10, epsilon=5, C=700, score=-160.99554550934656, total=   0.9s\n",
      "[CV] gamma=auto, epsilon=0.05, C=800 .................................\n",
      "[CV]  gamma=auto, epsilon=0.05, C=800, score=-12.109433070248127, total=   1.4s\n",
      "[CV] gamma=auto, epsilon=0.05, C=800 .................................\n",
      "[CV]  gamma=auto, epsilon=0.05, C=800, score=-13.61765935648632, total=   1.3s\n",
      "[CV] gamma=auto, epsilon=0.05, C=800 .................................\n",
      "[CV]  gamma=auto, epsilon=0.05, C=800, score=-13.314392963834557, total=   1.3s\n",
      "[CV] gamma=auto, epsilon=0.05, C=800 .................................\n",
      "[CV]  gamma=auto, epsilon=0.05, C=800, score=-11.78319958281378, total=   1.4s\n",
      "[CV] gamma=auto, epsilon=0.05, C=800 .................................\n"
     ]
    },
    {
     "name": "stdout",
     "output_type": "stream",
     "text": [
      "[CV]  gamma=auto, epsilon=0.05, C=800, score=-15.352879820022643, total=   1.4s\n",
      "[CV] gamma=auto, epsilon=0.05, C=800 .................................\n",
      "[CV]  gamma=auto, epsilon=0.05, C=800, score=-12.896994818714093, total=   1.4s\n",
      "[CV] gamma=auto, epsilon=0.05, C=800 .................................\n",
      "[CV]  gamma=auto, epsilon=0.05, C=800, score=-11.92437655620559, total=   1.4s\n",
      "[CV] gamma=auto, epsilon=0.05, C=800 .................................\n",
      "[CV]  gamma=auto, epsilon=0.05, C=800, score=-14.099898246776599, total=   1.4s\n",
      "[CV] gamma=10, epsilon=0.01, C=800 ...................................\n",
      "[CV]  gamma=10, epsilon=0.01, C=800, score=-163.78839977138196, total=   1.2s\n",
      "[CV] gamma=10, epsilon=0.01, C=800 ...................................\n",
      "[CV]  gamma=10, epsilon=0.01, C=800, score=-178.47849150205127, total=   1.2s\n",
      "[CV] gamma=10, epsilon=0.01, C=800 ...................................\n",
      "[CV]  gamma=10, epsilon=0.01, C=800, score=-186.1465983174474, total=   1.1s\n",
      "[CV] gamma=10, epsilon=0.01, C=800 ...................................\n",
      "[CV]  gamma=10, epsilon=0.01, C=800, score=-166.74769838162763, total=   1.1s\n",
      "[CV] gamma=10, epsilon=0.01, C=800 ...................................\n",
      "[CV]  gamma=10, epsilon=0.01, C=800, score=-174.40677556562642, total=   1.2s\n",
      "[CV] gamma=10, epsilon=0.01, C=800 ...................................\n",
      "[CV]  gamma=10, epsilon=0.01, C=800, score=-160.5250836324546, total=   1.2s\n",
      "[CV] gamma=10, epsilon=0.01, C=800 ...................................\n",
      "[CV]  gamma=10, epsilon=0.01, C=800, score=-184.94235770403353, total=   1.2s\n",
      "[CV] gamma=10, epsilon=0.01, C=800 ...................................\n",
      "[CV]  gamma=10, epsilon=0.01, C=800, score=-161.15175783905804, total=   1.1s\n",
      "[CV] gamma=10, epsilon=0.05, C=400 ...................................\n",
      "[CV]  gamma=10, epsilon=0.05, C=400, score=-163.78507888146603, total=   1.2s\n",
      "[CV] gamma=10, epsilon=0.05, C=400 ...................................\n",
      "[CV]  gamma=10, epsilon=0.05, C=400, score=-178.48288908756953, total=   1.1s\n",
      "[CV] gamma=10, epsilon=0.05, C=400 ...................................\n",
      "[CV]  gamma=10, epsilon=0.05, C=400, score=-186.1455222449466, total=   1.1s\n",
      "[CV] gamma=10, epsilon=0.05, C=400 ...................................\n",
      "[CV]  gamma=10, epsilon=0.05, C=400, score=-166.74853406566442, total=   1.1s\n",
      "[CV] gamma=10, epsilon=0.05, C=400 ...................................\n",
      "[CV]  gamma=10, epsilon=0.05, C=400, score=-174.40738111278043, total=   1.2s\n",
      "[CV] gamma=10, epsilon=0.05, C=400 ...................................\n",
      "[CV]  gamma=10, epsilon=0.05, C=400, score=-160.5246039564774, total=   1.1s\n",
      "[CV] gamma=10, epsilon=0.05, C=400 ...................................\n",
      "[CV]  gamma=10, epsilon=0.05, C=400, score=-184.94238942407, total=   1.1s\n",
      "[CV] gamma=10, epsilon=0.05, C=400 ...................................\n",
      "[CV]  gamma=10, epsilon=0.05, C=400, score=-161.15036027901567, total=   1.1s\n"
     ]
    },
    {
     "name": "stderr",
     "output_type": "stream",
     "text": [
      "[Parallel(n_jobs=1)]: Done  80 out of  80 | elapsed:  2.6min finished\n"
     ]
    },
    {
     "name": "stdout",
     "output_type": "stream",
     "text": [
      "3.5378291389338705\n",
      "{'gamma': 0.01, 'epsilon': 0.5, 'C': 100}\n"
     ]
    }
   ],
   "source": [
    "from sklearn.linear_model import LinearRegression, Ridge, LogisticRegression\n",
    "from sklearn.ensemble import RandomForestRegressor, GradientBoostingRegressor\n",
    "from sklearn.neighbors import KNeighborsRegressor\n",
    "from sklearn.svm import SVR, LinearSVR\n",
    "from sklearn.model_selection import GridSearchCV, RandomizedSearchCV\n",
    "\n",
    "clf = SVR()\n",
    "parameters = {'C': np.arange(10) * 100, \n",
    "              'gamma': ['auto', 0.01, 0.1, 0.5, 1, 10, 50],\n",
    "              'epsilon': [0.01, 0.05, 0.1, 0.5, 1, 5]\n",
    "             }\n",
    "grid_clf = RandomizedSearchCV(clf, parameters, scoring='neg_mean_squared_error', cv=8, verbose=5)\n",
    "grid_clf = grid_clf.fit(X, y)\n",
    "print(np.sqrt(-grid_clf.best_score_))\n",
    "print(grid_clf.best_params_)"
   ]
  },
  {
   "cell_type": "code",
   "execution_count": 383,
   "metadata": {},
   "outputs": [],
   "source": [
    "import math\n",
    "\n",
    "def reduce(x):\n",
    "    x = np.array([max(val, 0) for val in x])\n",
    "    return np.array([min(val, 100) for val in x])"
   ]
  },
  {
   "cell_type": "code",
   "execution_count": 384,
   "metadata": {},
   "outputs": [
    {
     "name": "stdout",
     "output_type": "stream",
     "text": [
      "(320, 334) (320,)\n"
     ]
    }
   ],
   "source": [
    "print(X_val.shape, y_val.shape)"
   ]
  },
  {
   "cell_type": "code",
   "execution_count": 385,
   "metadata": {},
   "outputs": [
    {
     "name": "stdout",
     "output_type": "stream",
     "text": [
      "[42.62695312 58.0078125  47.94921875 53.515625   50.         36.03515625\n",
      " 38.57421875 41.6015625  42.1875     53.41796875 45.3125     24.4140625\n",
      " 33.44726562 55.078125   28.36914062 69.18945312 53.7109375  45.75195312\n",
      " 56.54296875 39.11132812 66.16210938 39.94140625 51.171875   36.71875\n",
      " 48.87695312 59.765625   62.25585938 43.21289062 42.7734375  41.015625\n",
      " 38.4765625  57.6171875  46.82617188 71.6796875  24.609375   61.62109375\n",
      " 51.85546875 57.421875   32.95898438 47.94921875 55.51757812 64.2578125\n",
      " 37.109375   58.0078125  62.3046875  59.27734375 64.453125   51.7578125\n",
      " 44.04296875 58.88671875 52.83203125 70.703125   44.921875   41.65039062\n",
      " 61.42578125 52.83203125 78.95507812 40.0390625  61.42578125 61.76757812\n",
      " 38.03710938 41.015625   71.14257812 59.91210938 40.8203125  66.30859375\n",
      " 67.72460938 33.83789062 48.046875   57.95898438 62.59765625 76.7578125\n",
      " 77.00195312 76.5625     72.50976562 69.62890625 48.77929688 42.28515625\n",
      " 62.5        64.89257812 50.9765625  47.99804688 46.2890625  43.84765625\n",
      " 63.18359375 69.09179688 54.296875   58.30078125 54.78515625 32.56835938\n",
      " 46.09375    58.69140625 54.54101562 62.5        41.69921875 41.40625\n",
      " 51.5625     47.21679688 62.40234375 52.44140625 20.99609375 50.09765625\n",
      " 60.64453125 70.36132812 44.7265625  41.06445312 21.92382812 47.0703125\n",
      " 50.5859375  54.73632812 59.375      71.09375    45.80078125 46.875\n",
      " 56.68945312 66.2109375  44.82421875 53.125      41.11328125 59.375\n",
      " 44.140625   48.48632812 68.65234375 47.36328125 37.6953125  42.67578125\n",
      " 32.2265625  67.87109375 56.29882812 39.55078125 47.8515625  49.85351562\n",
      " 14.30664062 80.95703125 66.6015625  59.42382812 57.91015625 65.72265625\n",
      " 66.30859375 40.625      51.12304688 42.62695312 71.09375    61.23046875\n",
      " 78.515625   34.86328125 64.84375    65.234375   66.015625   41.30859375\n",
      " 76.5625     55.81054688 52.68554688 67.1875     48.828125   55.41992188\n",
      " 41.16210938 40.0390625  62.01171875 60.69335938 60.15625    75.87890625\n",
      " 53.61328125 43.75       49.8046875  74.609375   46.484375   71.875\n",
      " 53.07617188 53.7109375  71.19140625 71.484375   38.28125    38.28125\n",
      " 69.3359375  24.70703125 30.22460938 36.328125   58.88671875 53.22265625\n",
      " 54.58984375 68.84765625 63.671875   56.25       56.49414062 62.3046875\n",
      " 60.79101562 66.69921875 44.3359375  44.3359375  54.00390625 53.90625\n",
      " 60.25390625 64.20898438 42.578125   67.23632812 58.88671875 31.15234375\n",
      " 55.46875    63.28125    50.390625   53.515625   36.81640625 64.6484375\n",
      " 54.8828125  64.11132812 46.484375   52.34375    46.38671875 47.16796875\n",
      " 71.19140625 56.73828125 68.9453125  28.56445312 60.20507812 48.77929688\n",
      " 65.72265625 50.43945312 41.50390625 51.07421875 74.51171875 63.0859375\n",
      " 37.59765625 64.2578125  47.36328125 33.64257812 49.609375   37.98828125\n",
      " 53.56445312 44.43359375 64.16015625 40.08789062 32.71484375 58.3984375\n",
      " 61.81640625 64.55078125 46.58203125 51.85546875 59.32617188 48.4375\n",
      " 63.57421875 28.41796875 57.27539062 73.87695312 47.36328125 41.015625\n",
      " 59.27734375 56.29882812 60.10742188 53.125      45.84960938 44.28710938\n",
      " 25.29296875 62.74414062 44.77539062 33.93554688 40.08789062 57.56835938\n",
      " 73.92578125 45.94726562 53.3203125  62.01171875 45.06835938 49.90234375\n",
      " 46.33789062 48.92578125 71.875      68.45703125 68.01757812 47.94921875\n",
      " 68.1640625  25.68359375 65.96679688 30.76171875 44.67773438 44.82421875\n",
      " 59.86328125 13.8671875  71.04492188 64.74609375 38.18359375 43.79882812\n",
      " 50.         53.46679688 47.0703125  55.90820312 40.91796875 69.23828125\n",
      " 77.5390625  66.50390625 39.40429688 59.66796875 63.91601562 78.02734375\n",
      " 45.99609375 31.4453125  64.01367188 43.70117188 39.84375    68.50585938\n",
      " 35.64453125 56.88476562 57.421875   39.16015625 50.5859375  53.515625\n",
      " 45.1171875  35.40039062 54.83398438 55.90820312 50.1953125  54.296875\n",
      " 48.33984375 37.40234375 60.30273438 43.65234375 45.55664062 43.01757812\n",
      " 63.96484375 36.08398438]\n",
      "[41.54589372 62.76595745 47.54098361 58.07228916 60.53921569 35.71428571\n",
      " 35.07042254 40.10695187 43.62139918 53.84615385 43.68421053 26.953125\n",
      " 32.36607143 58.91891892 33.02325581 74.05063291 55.38461538 45.11627907\n",
      " 65.17857143 34.04580153 62.5        41.09149278 53.88739946 33.53293413\n",
      " 48.14814815 59.90639626 64.28571429 44.7284345  41.99475066 45.95959596\n",
      " 37.79411765 55.73333333 45.27472527 69.61722488 27.08333333 63.95348837\n",
      " 57.64705882 56.32911392 37.54385965 49.14196568 46.54545455 64.56692913\n",
      " 31.39534884 60.82317073 62.80864198 56.71981777 63.49614396 52.54237288\n",
      " 42.39130435 61.32596685 57.48898678 68.9119171  50.19305019 43.53846154\n",
      " 58.63636364 54.24836601 78.82352941 41.62162162 62.80487805 64.4245142\n",
      " 38.69918699 40.9252669  75.75757576 57.63779528 39.11764706 65.28117359\n",
      " 66.1498708  33.88704319 55.91133005 55.24296675 67.73399015 74.15730337\n",
      " 73.30508475 76.50273224 80.70175439 69.6        49.51140065 40.8045977\n",
      " 61.29032258 63.25301205 54.20168067 44.55696203 44.33962264 40.3030303\n",
      " 61.32596685 71.4953271  50.18587361 60.31128405 61.00628931 32.92307692\n",
      " 45.38690476 65.85365854 42.77108434 67.08074534 40.88820827 44.44444444\n",
      " 59.14634146 52.86532951 59.90220049 52.69709544 22.37442922 43.42629482\n",
      " 55.19125683 71.89189189 42.85714286 41.64179104 24.7706422  41.73228346\n",
      " 53.33333333 59.91735537 57.75729647 69.3877551  47.12643678 49.02597403\n",
      " 60.08230453 65.55023923 48.07692308 56.60377358 44.0625     60.64356436\n",
      " 43.2160804  54.54545455 70.63106796 45.37815126 39.28571429 40.5\n",
      " 26.44836272 67.37967914 54.71698113 39.85148515 38.97058824 56.11192931\n",
      " 14.50151057 78.60962567 67.78242678 60.8365019  58.77616747 65.88235294\n",
      " 64.84375    38.16254417 55.80246914 43.5508346  72.51461988 58.91891892\n",
      " 81.93548387 36.15023474 63.98305085 58.83668904 65.17189836 41.93548387\n",
      " 75.         54.34131737 55.43071161 74.1697417  48.73096447 59.65189873\n",
      " 40.48991354 38.07266983 53.57142857 61.42322097 58.56929955 79.54545455\n",
      " 56.08108108 50.56910569 53.0075188  75.16778523 48.98550725 72.38493724\n",
      " 50.6097561  46.83840749 76.74418605 70.         26.5625     36.8902439\n",
      " 68.52589641 26.77165354 31.12840467 37.28549142 57.14285714 40.562249\n",
      " 48.125      66.66666667 65.36144578 53.52323838 53.1598513  63.35078534\n",
      " 67.56756757 65.55023923 42.58555133 51.74825175 47.97297297 52.20125786\n",
      " 54.91803279 63.77358491 39.13043478 62.53298153 58.4        25.28089888\n",
      " 55.76923077 55.69105691 44.20289855 53.70101597 37.84461153 60.32934132\n",
      " 55.47445255 61.98473282 47.25806452 53.11004785 50.25641026 46.06741573\n",
      " 73.68421053 53.74045802 67.72486772 30.86053412 60.85271318 49.05660377\n",
      " 62.93103448 48.79227053 39.39393939 51.80722892 74.90039841 62.94820717\n",
      " 32.26744186 63.4032634  39.29098966 36.97183099 51.90839695 37.40685544\n",
      " 51.74418605 46.77419355 65.59139785 42.79835391 35.10028653 58.04597701\n",
      " 61.84738956 57.86516854 42.49249249 51.87969925 61.62790698 48.828125\n",
      " 65.75875486 27.56756757 52.75       70.         42.55319149 43.10954064\n",
      " 59.62732919 65.17647059 65.16587678 50.22522523 46.46226415 44.00584795\n",
      " 25.19083969 55.17241379 47.15447154 35.36231884 40.57315234 61.72839506\n",
      " 77.70700637 42.35294118 59.87654321 63.56707317 45.48736462 50.89285714\n",
      " 44.97354497 46.95863747 72.45508982 66.50366748 68.44547564 43.57976654\n",
      " 70.14218009 27.61506276 60.77981651 28.02850356 47.89473684 39.80582524\n",
      " 59.64653903 18.09815951 71.13402062 63.27683616 35.79545455 43.77745242\n",
      " 53.78787879 61.9047619  41.36546185 51.79856115 36.19631902 62.25490196\n",
      " 74.85714286 64.68253968 36.09022556 63.37209302 67.58241758 79.28286853\n",
      " 43.08300395 30.46062407 61.91536748 47.98994975 40.47217538 68.73563218\n",
      " 32.304038   57.5        50.88757396 37.28813559 43.62934363 50.\n",
      " 44.20289855 34.63687151 59.375      52.97619048 55.48780488 53.82585752\n",
      " 42.12598425 37.81094527 66.58476658 42.61363636 36.44067797 43.41085271\n",
      " 65.34090909 34.55882353]\n"
     ]
    }
   ],
   "source": [
    "print(y_pred)\n",
    "print(y_val * 100)"
   ]
  },
  {
   "cell_type": "code",
   "execution_count": 389,
   "metadata": {},
   "outputs": [],
   "source": [
    "final_classifier = SVR(gamma=0.01, epsilon=0.5, C=100)\n",
    "final_classifier = final_classifier.fit(X, y)"
   ]
  },
  {
   "cell_type": "code",
   "execution_count": 390,
   "metadata": {},
   "outputs": [],
   "source": [
    "def predict(deck, player):\n",
    "    players_features = [player == pl for pl in players]\n",
    "    x_test = np.array(v.transform(deck.cards)[0])\n",
    "    x_test = np.concatenate([x_test, np.array(players_features)])\n",
    "    return reduce(final_classifier.predict([x_test]))\n"
   ]
  },
  {
   "cell_type": "code",
   "execution_count": 391,
   "metadata": {},
   "outputs": [
    {
     "name": "stdout",
     "output_type": "stream",
     "text": [
      "    deck_name player   win_rate\n",
      "0  deck244804     A1  24.725151\n",
      "1  deck124802     A1  43.831662\n",
      "2  deck687350     A1  32.422483\n",
      "3  deck517728     A1  47.333384\n",
      "4  deck130762     A1  40.966508\n"
     ]
    }
   ],
   "source": [
    "\n",
    "def get_test_decks_list():\n",
    "    test_decks = []\n",
    "\n",
    "    with open(test_path, 'r') as decks:\n",
    "        for line in decks.readlines():\n",
    "            json_info = json.loads(line)\n",
    "            test_decks.append(json_info['deckName'][0])\n",
    "    return test_decks\n",
    "\n",
    "test_decks_names = get_test_decks_list()\n",
    "\n",
    "def dump_results():\n",
    "    df_results = pd.DataFrame()\n",
    "    for player in players:\n",
    "        for deck_name in test_decks_names:\n",
    "            deck = test_decks[deck_name]\n",
    "            win_rate = predict(deck, player)[0]\n",
    "            df_results = df_results.append({'player': player, 'deck_name': deck_name, 'win_rate': win_rate}, \n",
    "                                           ignore_index=True)\n",
    "\n",
    "    print(df_results.head())\n",
    "    df_results.to_csv('data/test_results.csv', index=False, header=False, columns=['player', 'deck_name', 'win_rate'],\n",
    "                     sep=';')\n",
    "\n",
    "dump_results()"
   ]
  },
  {
   "cell_type": "code",
   "execution_count": null,
   "metadata": {},
   "outputs": [],
   "source": []
  },
  {
   "cell_type": "code",
   "execution_count": null,
   "metadata": {},
   "outputs": [],
   "source": []
  }
 ],
 "metadata": {
  "kernelspec": {
   "display_name": "Python 3",
   "language": "python",
   "name": "python3"
  },
  "language_info": {
   "codemirror_mode": {
    "name": "ipython",
    "version": 3
   },
   "file_extension": ".py",
   "mimetype": "text/x-python",
   "name": "python",
   "nbconvert_exporter": "python",
   "pygments_lexer": "ipython3",
   "version": "3.6.4"
  }
 },
 "nbformat": 4,
 "nbformat_minor": 2
}
